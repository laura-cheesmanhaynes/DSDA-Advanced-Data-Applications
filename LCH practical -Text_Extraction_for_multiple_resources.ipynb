{
 "cells": [
  {
   "cell_type": "markdown",
   "id": "de071b00",
   "metadata": {},
   "source": [
    "# LCH practical work"
   ]
  },
  {
   "cell_type": "markdown",
   "id": "1a96eb7a",
   "metadata": {},
   "source": [
    "# Exploratory Data Analysis, and Data Collection and exploration using Pandas and many Python Packages"
   ]
  },
  {
   "cell_type": "markdown",
   "id": "3f0dabec",
   "metadata": {},
   "source": [
    "## Setup<div class='tocSkip'/>\n",
    "\n",
    "Set directory locations. If working on Google Colab: copy files and install required libraries."
   ]
  },
  {
   "cell_type": "code",
   "execution_count": 1,
   "id": "5891dcdd",
   "metadata": {
    "ExecuteTime": {
     "end_time": "2021-05-26T10:41:58.195850Z",
     "start_time": "2021-05-26T10:41:58.177026Z"
    }
   },
   "outputs": [],
   "source": [
    "import sys, os\n",
    "#ON_COLAB = 'google.colab' in sys.modules\n",
    "\n",
    "#if ON_COLAB:\n",
    "#    GIT_ROOT = 'https://github.com/blueprints-for-text-analytics-python/blueprints-text/raw/master'\n",
    "#    os.system(f'wget {GIT_ROOT}/ch01/setup.py')\n",
    "\n",
    "#%run -i setup.py"
   ]
  },
  {
   "cell_type": "markdown",
   "id": "68a118ef",
   "metadata": {},
   "source": [
    "## Load Python Settings<div class=\"tocSkip\"/>\n",
    "\n",
    "Common imports, defaults for formatting in Matplotlib, Pandas etc."
   ]
  },
  {
   "cell_type": "code",
   "execution_count": 2,
   "id": "c321d425",
   "metadata": {
    "ExecuteTime": {
     "end_time": "2021-05-26T10:42:00.394826Z",
     "start_time": "2021-05-26T10:41:58.197940Z"
    }
   },
   "outputs": [],
   "source": [
    "%run \"settings.py\"\n",
    "\n",
    "%reload_ext autoreload\n",
    "%autoreload 2\n",
    "%config InlineBackend.figure_format = 'png'"
   ]
  },
  {
   "cell_type": "markdown",
   "id": "570426d8",
   "metadata": {},
   "source": [
    "## What you will learn and what we will build\n"
   ]
  },
  {
   "cell_type": "markdown",
   "id": "a2f8d9ef",
   "metadata": {},
   "source": [
    "# Exploratory Data Analysis\n"
   ]
  },
  {
   "cell_type": "code",
   "execution_count": 3,
   "id": "7906536c",
   "metadata": {},
   "outputs": [],
   "source": [
    "import sqlite3\n",
    "# Connect to the database file\n",
    "connection = sqlite3.connect('data/reddit-selfposts/reddit-selfposts-ch10.db')\n",
    " \n",
    "# Create a cursor object\n",
    "cursor = connection.cursor()\n",
    " \n",
    "# Execute a query\n",
    "cursor.execute(\"SELECT * FROM posts_nlp\")\n",
    " \n",
    "# Fetch data\n",
    "rows = cursor.fetchall()\n",
    " \n",
    "# Close the connection\n",
    "connection.close()"
   ]
  },
  {
   "cell_type": "code",
   "execution_count": 11,
   "id": "f2b31d2b",
   "metadata": {},
   "outputs": [],
   "source": [
    "# Convert list to DataFrame\n",
    "df = pd.DataFrame(rows, columns=['name', 'text1', 'text2'])"
   ]
  },
  {
   "cell_type": "markdown",
   "id": "488284a4",
   "metadata": {},
   "source": [
    "# Introducing the Dataset\n"
   ]
  },
  {
   "cell_type": "code",
   "execution_count": 5,
   "id": "8a0223ac",
   "metadata": {
    "ExecuteTime": {
     "end_time": "2021-05-26T10:42:04.546077Z",
     "start_time": "2021-05-26T10:42:00.397654Z"
    }
   },
   "outputs": [],
   "source": [
    "#pd.options.display.max_colwidth = 150 ###\n",
    "#file = \"un-general-debates-blueprint.csv\"\n",
    "#file = f\"data/un-general-debates/un-general-debates-blueprint.csv.gz\" ### real location\n",
    "#df = pd.read_csv(file)\n",
    "#df.sample(2, random_state=53)"
   ]
  },
  {
   "cell_type": "markdown",
   "id": "701232df",
   "metadata": {},
   "source": [
    "# Blueprint: Getting an Overview of the Data with Pandas\n"
   ]
  },
  {
   "cell_type": "markdown",
   "id": "d829034c",
   "metadata": {},
   "source": [
    "## Calculating Summary Statistics for Columns\n"
   ]
  },
  {
   "cell_type": "code",
   "execution_count": 16,
   "id": "3c5842e0",
   "metadata": {
    "ExecuteTime": {
     "end_time": "2021-05-26T10:42:04.585120Z",
     "start_time": "2021-05-26T10:42:04.548589Z"
    }
   },
   "outputs": [
    {
     "data": {
      "text/html": [
       "<div>\n",
       "<style scoped>\n",
       "    .dataframe tbody tr th:only-of-type {\n",
       "        vertical-align: middle;\n",
       "    }\n",
       "\n",
       "    .dataframe tbody tr th {\n",
       "        vertical-align: top;\n",
       "    }\n",
       "\n",
       "    .dataframe thead th {\n",
       "        text-align: right;\n",
       "    }\n",
       "</style>\n",
       "<table border=\"1\" class=\"dataframe tex2jax_ignore\">\n",
       "  <thead>\n",
       "    <tr style=\"text-align: right;\">\n",
       "      <th></th>\n",
       "      <th>count</th>\n",
       "      <th>mean</th>\n",
       "      <th>std</th>\n",
       "      <th>min</th>\n",
       "      <th>25%</th>\n",
       "      <th>50%</th>\n",
       "      <th>75%</th>\n",
       "      <th>max</th>\n",
       "    </tr>\n",
       "  </thead>\n",
       "  <tbody>\n",
       "    <tr>\n",
       "      <th>length</th>\n",
       "      <td>20000.00</td>\n",
       "      <td>535.05</td>\n",
       "      <td>347.60</td>\n",
       "      <td>173.00</td>\n",
       "      <td>312.00</td>\n",
       "      <td>426.50</td>\n",
       "      <td>630.00</td>\n",
       "      <td>3242.00</td>\n",
       "    </tr>\n",
       "    <tr>\n",
       "      <th>(length, name, text1, text2)</th>\n",
       "      <td>20000.00</td>\n",
       "      <td>535.05</td>\n",
       "      <td>347.60</td>\n",
       "      <td>173.00</td>\n",
       "      <td>312.00</td>\n",
       "      <td>426.50</td>\n",
       "      <td>630.00</td>\n",
       "      <td>3242.00</td>\n",
       "    </tr>\n",
       "  </tbody>\n",
       "</table>\n",
       "</div>"
      ],
      "text/plain": [
       "                                count   mean    std    min    25%    50%  \\\n",
       "length                       20000.00 535.05 347.60 173.00 312.00 426.50   \n",
       "(length, name, text1, text2) 20000.00 535.05 347.60 173.00 312.00 426.50   \n",
       "\n",
       "                                75%     max  \n",
       "length                       630.00 3242.00  \n",
       "(length, name, text1, text2) 630.00 3242.00  "
      ]
     },
     "execution_count": 16,
     "metadata": {},
     "output_type": "execute_result"
    }
   ],
   "source": [
    "df['length'] = df['text1'].str.len()\n",
    "\n",
    "df.describe().T"
   ]
  },
  {
   "cell_type": "code",
   "execution_count": 17,
   "id": "3cd8910e",
   "metadata": {
    "ExecuteTime": {
     "end_time": "2021-05-26T10:42:04.644901Z",
     "start_time": "2021-05-26T10:42:04.587343Z"
    }
   },
   "outputs": [
    {
     "data": {
      "text/html": [
       "<div>\n",
       "<style scoped>\n",
       "    .dataframe tbody tr th:only-of-type {\n",
       "        vertical-align: middle;\n",
       "    }\n",
       "\n",
       "    .dataframe tbody tr th {\n",
       "        vertical-align: top;\n",
       "    }\n",
       "\n",
       "    .dataframe thead th {\n",
       "        text-align: right;\n",
       "    }\n",
       "</style>\n",
       "<table border=\"1\" class=\"dataframe tex2jax_ignore\">\n",
       "  <thead>\n",
       "    <tr style=\"text-align: right;\">\n",
       "      <th></th>\n",
       "      <th>count</th>\n",
       "      <th>unique</th>\n",
       "      <th>top</th>\n",
       "      <th>freq</th>\n",
       "    </tr>\n",
       "  </thead>\n",
       "  <tbody>\n",
       "    <tr>\n",
       "      <th>name</th>\n",
       "      <td>20000</td>\n",
       "      <td>20</td>\n",
       "      <td>Harley</td>\n",
       "      <td>1000</td>\n",
       "    </tr>\n",
       "    <tr>\n",
       "      <th>text1</th>\n",
       "      <td>20000</td>\n",
       "      <td>20000</td>\n",
       "      <td>Club color funny story go to college in Las Vegas be before know about motorcycle whatsoever and college buddy would always go out on strip to dance club always end up at bar call Hogs Heifers be ...</td>\n",
       "      <td>1</td>\n",
       "    </tr>\n",
       "    <tr>\n",
       "      <th>text2</th>\n",
       "      <td>20000</td>\n",
       "      <td>20000</td>\n",
       "      <td>No Club Colors: Funny story. I went to college in Las Vegas. This was before I knew anything about motorcycling whatsoever. Me and some college buddies would always go out on the strip to the danc...</td>\n",
       "      <td>1</td>\n",
       "    </tr>\n",
       "  </tbody>\n",
       "</table>\n",
       "</div>"
      ],
      "text/plain": [
       "       count unique  \\\n",
       "name   20000     20   \n",
       "text1  20000  20000   \n",
       "text2  20000  20000   \n",
       "\n",
       "                                                                                                                                                                                                           top  \\\n",
       "name                                                                                                                                                                                                    Harley   \n",
       "text1  Club color funny story go to college in Las Vegas be before know about motorcycle whatsoever and college buddy would always go out on strip to dance club always end up at bar call Hogs Heifers be ...   \n",
       "text2  No Club Colors: Funny story. I went to college in Las Vegas. This was before I knew anything about motorcycling whatsoever. Me and some college buddies would always go out on the strip to the danc...   \n",
       "\n",
       "       freq  \n",
       "name   1000  \n",
       "text1     1  \n",
       "text2     1  "
      ]
     },
     "execution_count": 17,
     "metadata": {},
     "output_type": "execute_result"
    }
   ],
   "source": [
    "df[['name', 'text1', 'text2']].describe(include='O').T"
   ]
  },
  {
   "cell_type": "markdown",
   "id": "197581f7",
   "metadata": {},
   "source": [
    "## Checking for Missing Data\n"
   ]
  },
  {
   "cell_type": "code",
   "execution_count": 18,
   "id": "f48ce545",
   "metadata": {
    "ExecuteTime": {
     "end_time": "2021-05-26T10:42:04.673446Z",
     "start_time": "2021-05-26T10:42:04.646924Z"
    },
    "scrolled": true
   },
   "outputs": [
    {
     "data": {
      "text/plain": [
       "name                            0\n",
       "text1                           0\n",
       "text2                           0\n",
       "length                          0\n",
       "(length, name, text1, text2)    0\n",
       "dtype: int64"
      ]
     },
     "execution_count": 18,
     "metadata": {},
     "output_type": "execute_result"
    }
   ],
   "source": [
    "df.isna().sum()"
   ]
  },
  {
   "cell_type": "code",
   "execution_count": 20,
   "id": "d345b484",
   "metadata": {
    "ExecuteTime": {
     "end_time": "2021-05-26T10:42:04.715677Z",
     "start_time": "2021-05-26T10:42:04.679932Z"
    }
   },
   "outputs": [],
   "source": [
    "#df['speaker'].fillna('unknown', inplace=True)"
   ]
  },
  {
   "cell_type": "code",
   "execution_count": 21,
   "id": "157523b4",
   "metadata": {
    "ExecuteTime": {
     "end_time": "2021-05-26T10:42:04.752450Z",
     "start_time": "2021-05-26T10:42:04.720245Z"
    }
   },
   "outputs": [
    {
     "data": {
      "text/plain": [
       "name\n",
       "Harley    1000\n",
       "Name: count, dtype: int64"
      ]
     },
     "execution_count": 21,
     "metadata": {},
     "output_type": "execute_result"
    }
   ],
   "source": [
    "df[df['name'].str.contains('Harley')]['name'].value_counts()"
   ]
  },
  {
   "cell_type": "markdown",
   "id": "aab5cbd2",
   "metadata": {},
   "source": [
    "## Plotting Value Distributions\n"
   ]
  },
  {
   "cell_type": "code",
   "execution_count": 22,
   "id": "5e2265d0",
   "metadata": {
    "ExecuteTime": {
     "end_time": "2021-05-26T10:42:04.948204Z",
     "start_time": "2021-05-26T10:42:04.757532Z"
    }
   },
   "outputs": [
    {
     "data": {
      "text/plain": [
       "<Axes: >"
      ]
     },
     "execution_count": 22,
     "metadata": {},
     "output_type": "execute_result"
    },
    {
     "data": {
      "image/png": "[encoded data removed]",
      "text/plain": [
       "<Figure size 800x100 with 1 Axes>"
      ]
     },
     "metadata": {},
     "output_type": "display_data"
    }
   ],
   "source": [
    "df['length'].plot(kind='box', vert=False, figsize=(8, 1))"
   ]
  },
  {
   "cell_type": "code",
   "execution_count": 23,
   "id": "b059e6e2",
   "metadata": {
    "ExecuteTime": {
     "end_time": "2021-05-26T10:42:05.148991Z",
     "start_time": "2021-05-26T10:42:04.950770Z"
    }
   },
   "outputs": [
    {
     "data": {
      "text/plain": [
       "<Axes: ylabel='Frequency'>"
      ]
     },
     "execution_count": 23,
     "metadata": {},
     "output_type": "execute_result"
    },
    {
     "data": {
      "image/png": "[encoded data removed]",
      "text/plain": [
       "<Figure size 800x200 with 1 Axes>"
      ]
     },
     "metadata": {},
     "output_type": "display_data"
    }
   ],
   "source": [
    "df['length'].plot(kind='hist', bins=30, figsize=(8,2))"
   ]
  },
  {
   "cell_type": "code",
   "execution_count": 13,
   "id": "730e5bb2",
   "metadata": {
    "ExecuteTime": {
     "end_time": "2021-05-26T10:42:05.439106Z",
     "start_time": "2021-05-26T10:42:05.151748Z"
    }
   },
   "outputs": [
    {
     "data": {
      "image/png": "[encoded data removed]",
      "text/plain": [
       "<Figure size 800x200 with 1 Axes>"
      ]
     },
     "metadata": {},
     "output_type": "display_data"
    }
   ],
   "source": [
    "# Not in book: seaborn plot with gaussian kernel density estimate\n",
    "import seaborn as sns\n",
    "\n",
    "plt.figure(figsize=(8, 2))\n",
    "sns.distplot(df['length'], bins=30, kde=True);"
   ]
  },
  {
   "cell_type": "markdown",
   "id": "2865947e",
   "metadata": {},
   "source": [
    "## Comparing Value Distributions across Categories\n"
   ]
  },
  {
   "cell_type": "code",
   "execution_count": 24,
   "id": "7ac6951f",
   "metadata": {
    "ExecuteTime": {
     "end_time": "2021-05-26T10:42:06.102415Z",
     "start_time": "2021-05-26T10:42:05.441397Z"
    }
   },
   "outputs": [
    {
     "ename": "KeyError",
     "evalue": "'country'",
     "output_type": "error",
     "traceback": [
      "\u001b[1;31m---------------------------------------------------------------------------\u001b[0m",
      "\u001b[1;31mKeyError\u001b[0m                                  Traceback (most recent call last)",
      "File \u001b[1;32m~\\anaconda3\\lib\\site-packages\\pandas\\core\\indexes\\base.py:3653\u001b[0m, in \u001b[0;36mIndex.get_loc\u001b[1;34m(self, key)\u001b[0m\n\u001b[0;32m   3652\u001b[0m \u001b[38;5;28;01mtry\u001b[39;00m:\n\u001b[1;32m-> 3653\u001b[0m     \u001b[38;5;28;01mreturn\u001b[39;00m \u001b[38;5;28;43mself\u001b[39;49m\u001b[38;5;241;43m.\u001b[39;49m\u001b[43m_engine\u001b[49m\u001b[38;5;241;43m.\u001b[39;49m\u001b[43mget_loc\u001b[49m\u001b[43m(\u001b[49m\u001b[43mcasted_key\u001b[49m\u001b[43m)\u001b[49m\n\u001b[0;32m   3654\u001b[0m \u001b[38;5;28;01mexcept\u001b[39;00m \u001b[38;5;167;01mKeyError\u001b[39;00m \u001b[38;5;28;01mas\u001b[39;00m err:\n",
      "File \u001b[1;32m~\\anaconda3\\lib\\site-packages\\pandas\\_libs\\index.pyx:147\u001b[0m, in \u001b[0;36mpandas._libs.index.IndexEngine.get_loc\u001b[1;34m()\u001b[0m\n",
      "File \u001b[1;32m~\\anaconda3\\lib\\site-packages\\pandas\\_libs\\index.pyx:176\u001b[0m, in \u001b[0;36mpandas._libs.index.IndexEngine.get_loc\u001b[1;34m()\u001b[0m\n",
      "File \u001b[1;32mpandas\\_libs\\hashtable_class_helper.pxi:7080\u001b[0m, in \u001b[0;36mpandas._libs.hashtable.PyObjectHashTable.get_item\u001b[1;34m()\u001b[0m\n",
      "File \u001b[1;32mpandas\\_libs\\hashtable_class_helper.pxi:7088\u001b[0m, in \u001b[0;36mpandas._libs.hashtable.PyObjectHashTable.get_item\u001b[1;34m()\u001b[0m\n",
      "\u001b[1;31mKeyError\u001b[0m: 'country'",
      "\nThe above exception was the direct cause of the following exception:\n",
      "\u001b[1;31mKeyError\u001b[0m                                  Traceback (most recent call last)",
      "Cell \u001b[1;32mIn[24], line 1\u001b[0m\n\u001b[1;32m----> 1\u001b[0m where \u001b[38;5;241m=\u001b[39m \u001b[43mdf\u001b[49m\u001b[43m[\u001b[49m\u001b[38;5;124;43m'\u001b[39;49m\u001b[38;5;124;43mcountry\u001b[39;49m\u001b[38;5;124;43m'\u001b[39;49m\u001b[43m]\u001b[49m\u001b[38;5;241m.\u001b[39misin([\u001b[38;5;124m'\u001b[39m\u001b[38;5;124mUSA\u001b[39m\u001b[38;5;124m'\u001b[39m, \u001b[38;5;124m'\u001b[39m\u001b[38;5;124mFRA\u001b[39m\u001b[38;5;124m'\u001b[39m, \u001b[38;5;124m'\u001b[39m\u001b[38;5;124mGBR\u001b[39m\u001b[38;5;124m'\u001b[39m, \u001b[38;5;124m'\u001b[39m\u001b[38;5;124mCHN\u001b[39m\u001b[38;5;124m'\u001b[39m, \u001b[38;5;124m'\u001b[39m\u001b[38;5;124mRUS\u001b[39m\u001b[38;5;124m'\u001b[39m])\n\u001b[0;32m      2\u001b[0m g \u001b[38;5;241m=\u001b[39m sns\u001b[38;5;241m.\u001b[39mcatplot(data\u001b[38;5;241m=\u001b[39mdf[where], x\u001b[38;5;241m=\u001b[39m\u001b[38;5;124m\"\u001b[39m\u001b[38;5;124mcountry\u001b[39m\u001b[38;5;124m\"\u001b[39m, y\u001b[38;5;241m=\u001b[39m\u001b[38;5;124m\"\u001b[39m\u001b[38;5;124mlength\u001b[39m\u001b[38;5;124m\"\u001b[39m, kind\u001b[38;5;241m=\u001b[39m\u001b[38;5;124m'\u001b[39m\u001b[38;5;124mbox\u001b[39m\u001b[38;5;124m'\u001b[39m)\n\u001b[0;32m      3\u001b[0m g\u001b[38;5;241m.\u001b[39mfig\u001b[38;5;241m.\u001b[39mset_size_inches(\u001b[38;5;241m4\u001b[39m, \u001b[38;5;241m3\u001b[39m) \u001b[38;5;66;03m###\u001b[39;00m\n",
      "File \u001b[1;32m~\\anaconda3\\lib\\site-packages\\pandas\\core\\frame.py:3761\u001b[0m, in \u001b[0;36mDataFrame.__getitem__\u001b[1;34m(self, key)\u001b[0m\n\u001b[0;32m   3759\u001b[0m \u001b[38;5;28;01mif\u001b[39;00m \u001b[38;5;28mself\u001b[39m\u001b[38;5;241m.\u001b[39mcolumns\u001b[38;5;241m.\u001b[39mnlevels \u001b[38;5;241m>\u001b[39m \u001b[38;5;241m1\u001b[39m:\n\u001b[0;32m   3760\u001b[0m     \u001b[38;5;28;01mreturn\u001b[39;00m \u001b[38;5;28mself\u001b[39m\u001b[38;5;241m.\u001b[39m_getitem_multilevel(key)\n\u001b[1;32m-> 3761\u001b[0m indexer \u001b[38;5;241m=\u001b[39m \u001b[38;5;28;43mself\u001b[39;49m\u001b[38;5;241;43m.\u001b[39;49m\u001b[43mcolumns\u001b[49m\u001b[38;5;241;43m.\u001b[39;49m\u001b[43mget_loc\u001b[49m\u001b[43m(\u001b[49m\u001b[43mkey\u001b[49m\u001b[43m)\u001b[49m\n\u001b[0;32m   3762\u001b[0m \u001b[38;5;28;01mif\u001b[39;00m is_integer(indexer):\n\u001b[0;32m   3763\u001b[0m     indexer \u001b[38;5;241m=\u001b[39m [indexer]\n",
      "File \u001b[1;32m~\\anaconda3\\lib\\site-packages\\pandas\\core\\indexes\\base.py:3655\u001b[0m, in \u001b[0;36mIndex.get_loc\u001b[1;34m(self, key)\u001b[0m\n\u001b[0;32m   3653\u001b[0m     \u001b[38;5;28;01mreturn\u001b[39;00m \u001b[38;5;28mself\u001b[39m\u001b[38;5;241m.\u001b[39m_engine\u001b[38;5;241m.\u001b[39mget_loc(casted_key)\n\u001b[0;32m   3654\u001b[0m \u001b[38;5;28;01mexcept\u001b[39;00m \u001b[38;5;167;01mKeyError\u001b[39;00m \u001b[38;5;28;01mas\u001b[39;00m err:\n\u001b[1;32m-> 3655\u001b[0m     \u001b[38;5;28;01mraise\u001b[39;00m \u001b[38;5;167;01mKeyError\u001b[39;00m(key) \u001b[38;5;28;01mfrom\u001b[39;00m \u001b[38;5;21;01merr\u001b[39;00m\n\u001b[0;32m   3656\u001b[0m \u001b[38;5;28;01mexcept\u001b[39;00m \u001b[38;5;167;01mTypeError\u001b[39;00m:\n\u001b[0;32m   3657\u001b[0m     \u001b[38;5;66;03m# If we have a listlike key, _check_indexing_error will raise\u001b[39;00m\n\u001b[0;32m   3658\u001b[0m     \u001b[38;5;66;03m#  InvalidIndexError. Otherwise we fall through and re-raise\u001b[39;00m\n\u001b[0;32m   3659\u001b[0m     \u001b[38;5;66;03m#  the TypeError.\u001b[39;00m\n\u001b[0;32m   3660\u001b[0m     \u001b[38;5;28mself\u001b[39m\u001b[38;5;241m.\u001b[39m_check_indexing_error(key)\n",
      "\u001b[1;31mKeyError\u001b[0m: 'country'"
     ]
    }
   ],
   "source": [
    "where = df['country'].isin(['USA', 'FRA', 'GBR', 'CHN', 'RUS'])\n",
    "g = sns.catplot(data=df[where], x=\"country\", y=\"length\", kind='box')\n",
    "g.fig.set_size_inches(4, 3) ###\n",
    "g.fig.set_dpi(100) ###\n",
    "#g = sns.catplot(data=df[where], x=\"country\", y=\"length\", kind='violin')\n",
    "#g.fig.set_size_inches(4, 3) ###\n",
    "#g.fig.set_dpi(100) ###"
   ]
  },
  {
   "cell_type": "markdown",
   "id": "e5689a2e",
   "metadata": {},
   "source": [
    "## Visualizing Developments over Time\n"
   ]
  },
  {
   "cell_type": "code",
   "execution_count": 15,
   "id": "c153c7e1",
   "metadata": {
    "ExecuteTime": {
     "end_time": "2021-05-26T10:42:06.271029Z",
     "start_time": "2021-05-26T10:42:06.104222Z"
    }
   },
   "outputs": [
    {
     "data": {
      "text/plain": [
       "<Axes: title={'center': 'Number of Countries'}, xlabel='year'>"
      ]
     },
     "execution_count": 15,
     "metadata": {},
     "output_type": "execute_result"
    },
    {
     "data": {
      "image/png": "[encoded data removed]",
      "text/plain": [
       "<Figure size 600x200 with 1 Axes>"
      ]
     },
     "metadata": {},
     "output_type": "display_data"
    }
   ],
   "source": [
    "df.groupby('year').size().plot(title=\"Number of Countries\", figsize=(6,2))"
   ]
  },
  {
   "cell_type": "code",
   "execution_count": 16,
   "id": "cacc2d50",
   "metadata": {
    "ExecuteTime": {
     "end_time": "2021-05-26T10:42:06.558946Z",
     "start_time": "2021-05-26T10:42:06.274077Z"
    }
   },
   "outputs": [
    {
     "data": {
      "text/plain": [
       "<Axes: title={'center': 'Avg. Speech Length'}, xlabel='year'>"
      ]
     },
     "execution_count": 16,
     "metadata": {},
     "output_type": "execute_result"
    },
    {
     "data": {
      "image/png": "[encoded data removed]",
      "text/plain": [
       "<Figure size 600x200 with 1 Axes>"
      ]
     },
     "metadata": {},
     "output_type": "display_data"
    }
   ],
   "source": [
    "df.groupby('year').agg({'length': 'mean'}) \\\n",
    "  .plot(title=\"Avg. Speech Length\", ylim=(0,30000), figsize=(6,2))"
   ]
  },
  {
   "cell_type": "markdown",
   "id": "9b9fc971",
   "metadata": {},
   "source": [
    "# Blueprint: Building a Simple Text Preprocessing Pipeline\n"
   ]
  },
  {
   "cell_type": "markdown",
   "id": "8e911f65",
   "metadata": {},
   "source": [
    "## Tokenization with Regular Expressions\n"
   ]
  },
  {
   "cell_type": "code",
   "execution_count": 17,
   "id": "f36f2b9d",
   "metadata": {
    "ExecuteTime": {
     "end_time": "2021-05-26T10:42:06.582112Z",
     "start_time": "2021-05-26T10:42:06.562641Z"
    }
   },
   "outputs": [],
   "source": [
    "import regex as re\n",
    "\n",
    "def tokenize(text):\n",
    "    return re.findall(r'[\\w-]*\\p{L}[\\w-]*', text)"
   ]
  },
  {
   "cell_type": "code",
   "execution_count": 18,
   "id": "350b0fa2",
   "metadata": {
    "ExecuteTime": {
     "end_time": "2021-05-26T10:42:06.603608Z",
     "start_time": "2021-05-26T10:42:06.584627Z"
    }
   },
   "outputs": [
    {
     "name": "stdout",
     "output_type": "stream",
     "text": [
      "Let|s|defeat|SARS-CoV-2|together|in\n"
     ]
    }
   ],
   "source": [
    "text = \"Let's defeat SARS-CoV-2 together in 2020!\"\n",
    "tokens = tokenize(text)\n",
    "print(\"|\".join(tokens))"
   ]
  },
  {
   "cell_type": "markdown",
   "id": "869e817a",
   "metadata": {},
   "source": [
    "## Treating Stop Words\n"
   ]
  },
  {
   "cell_type": "code",
   "execution_count": 19,
   "id": "de622f9f",
   "metadata": {
    "ExecuteTime": {
     "end_time": "2021-05-26T10:42:06.788245Z",
     "start_time": "2021-05-26T10:42:06.605812Z"
    }
   },
   "outputs": [
    {
     "name": "stderr",
     "output_type": "stream",
     "text": [
      "[nltk_data] Downloading package stopwords to\n",
      "[nltk_data]     C:\\Users\\chees\\AppData\\Roaming\\nltk_data...\n",
      "[nltk_data]   Unzipping corpora\\stopwords.zip.\n"
     ]
    },
    {
     "data": {
      "text/plain": [
       "True"
      ]
     },
     "execution_count": 19,
     "metadata": {},
     "output_type": "execute_result"
    }
   ],
   "source": [
    "import nltk\n",
    "# not in book: make sure stop words are available\n",
    "nltk.download('stopwords')"
   ]
  },
  {
   "cell_type": "code",
   "execution_count": 20,
   "id": "7c81fec5",
   "metadata": {
    "ExecuteTime": {
     "end_time": "2021-05-26T10:42:06.813022Z",
     "start_time": "2021-05-26T10:42:06.792334Z"
    }
   },
   "outputs": [],
   "source": [
    "import nltk\n",
    "\n",
    "stopwords = set(nltk.corpus.stopwords.words('english'))"
   ]
  },
  {
   "cell_type": "code",
   "execution_count": 21,
   "id": "c04e270a",
   "metadata": {
    "ExecuteTime": {
     "end_time": "2021-05-26T10:42:06.835634Z",
     "start_time": "2021-05-26T10:42:06.815532Z"
    }
   },
   "outputs": [],
   "source": [
    "def remove_stop(tokens):\n",
    "    return [t for t in tokens if t.lower() not in stopwords]"
   ]
  },
  {
   "cell_type": "code",
   "execution_count": 22,
   "id": "af5c752e",
   "metadata": {
    "ExecuteTime": {
     "end_time": "2021-05-26T10:42:06.857424Z",
     "start_time": "2021-05-26T10:42:06.839934Z"
    }
   },
   "outputs": [],
   "source": [
    "include_stopwords = {'dear', 'regards', 'must', 'would', 'also'}\n",
    "exclude_stopwords = {'against'}\n",
    "\n",
    "stopwords |= include_stopwords\n",
    "stopwords -= exclude_stopwords"
   ]
  },
  {
   "cell_type": "markdown",
   "id": "39a4cf26",
   "metadata": {},
   "source": [
    "## Processing a Pipeline with one Line of Code\n"
   ]
  },
  {
   "cell_type": "code",
   "execution_count": 23,
   "id": "0a39896f",
   "metadata": {
    "ExecuteTime": {
     "end_time": "2021-05-26T10:42:06.877721Z",
     "start_time": "2021-05-26T10:42:06.859933Z"
    }
   },
   "outputs": [],
   "source": [
    "pipeline = [str.lower, tokenize, remove_stop]\n",
    "\n",
    "def prepare(text, pipeline):\n",
    "    tokens = text\n",
    "    for transform in pipeline:\n",
    "        tokens = transform(tokens)\n",
    "    return tokens"
   ]
  },
  {
   "cell_type": "code",
   "execution_count": 24,
   "id": "b4d68be7",
   "metadata": {
    "ExecuteTime": {
     "end_time": "2021-05-26T10:42:24.578033Z",
     "start_time": "2021-05-26T10:42:06.880896Z"
    }
   },
   "outputs": [
    {
     "data": {
      "application/vnd.jupyter.widget-view+json": {
       "model_id": "07d33217607444ae850e94ecd36cae41",
       "version_major": 2,
       "version_minor": 0
      },
      "text/plain": [
       "  0%|          | 0/7507 [00:00<?, ?it/s]"
      ]
     },
     "metadata": {},
     "output_type": "display_data"
    }
   ],
   "source": [
    "df['tokens'] = df['text'].progress_apply(prepare, pipeline=pipeline)"
   ]
  },
  {
   "cell_type": "code",
   "execution_count": 25,
   "id": "89e6b090",
   "metadata": {
    "ExecuteTime": {
     "end_time": "2021-05-26T10:42:24.743332Z",
     "start_time": "2021-05-26T10:42:24.587982Z"
    }
   },
   "outputs": [
    {
     "data": {
      "application/vnd.jupyter.widget-view+json": {
       "model_id": "54d2e372b44d45eebe28b308f8e48586",
       "version_major": 2,
       "version_minor": 0
      },
      "text/plain": [
       "  0%|          | 0/7507 [00:00<?, ?it/s]"
      ]
     },
     "metadata": {},
     "output_type": "display_data"
    }
   ],
   "source": [
    "df['num_tokens'] = df['tokens'].progress_map(len)"
   ]
  },
  {
   "cell_type": "markdown",
   "id": "7980283e",
   "metadata": {},
   "source": [
    "# Word Frequency Analysis\n"
   ]
  },
  {
   "cell_type": "markdown",
   "id": "14027f24",
   "metadata": {},
   "source": [
    "## Counting Words with a Counter\n"
   ]
  },
  {
   "cell_type": "code",
   "execution_count": 26,
   "id": "9cbb6356",
   "metadata": {
    "ExecuteTime": {
     "end_time": "2021-05-26T10:42:24.785986Z",
     "start_time": "2021-05-26T10:42:24.752296Z"
    }
   },
   "outputs": [
    {
     "name": "stdout",
     "output_type": "stream",
     "text": [
      "Counter({'my': 3, 'cats': 2, 'She': 1, 'likes': 1, 'and': 1, 'like': 1, 'sofa': 1})\n"
     ]
    }
   ],
   "source": [
    "from collections import Counter\n",
    "\n",
    "tokens = tokenize(\"She likes my cats and my cats like my sofa.\")\n",
    "\n",
    "counter = Counter(tokens)\n",
    "print(counter)"
   ]
  },
  {
   "cell_type": "code",
   "execution_count": 27,
   "id": "bb45b72f",
   "metadata": {
    "ExecuteTime": {
     "end_time": "2021-05-26T10:42:24.818884Z",
     "start_time": "2021-05-26T10:42:24.790881Z"
    }
   },
   "outputs": [
    {
     "name": "stdout",
     "output_type": "stream",
     "text": [
      "Counter({'my': 3, 'cats': 3, 'She': 2, 'likes': 2, 'and': 2, 'like': 1, 'sofa': 1, 'dogs': 1})\n"
     ]
    }
   ],
   "source": [
    "more_tokens = tokenize(\"She likes dogs and cats.\")\n",
    "counter.update(more_tokens)\n",
    "print(counter)"
   ]
  },
  {
   "cell_type": "code",
   "execution_count": 28,
   "id": "9f6c0a5b",
   "metadata": {
    "ExecuteTime": {
     "end_time": "2021-05-26T10:42:26.700698Z",
     "start_time": "2021-05-26T10:42:24.822554Z"
    }
   },
   "outputs": [],
   "source": [
    "counter = Counter()\n",
    "\n",
    "_ = df['tokens'].map(counter.update)"
   ]
  },
  {
   "cell_type": "code",
   "execution_count": 29,
   "id": "49aa6046",
   "metadata": {
    "ExecuteTime": {
     "end_time": "2021-05-26T10:42:26.741941Z",
     "start_time": "2021-05-26T10:42:26.702480Z"
    }
   },
   "outputs": [
    {
     "name": "stdout",
     "output_type": "stream",
     "text": [
      "[('nations', 124508),\n",
      " ('united', 120763),\n",
      " ('international', 117223),\n",
      " ('world', 89421),\n",
      " ('countries', 85734)]\n"
     ]
    }
   ],
   "source": [
    "pp.pprint(counter.most_common(5))"
   ]
  },
  {
   "cell_type": "code",
   "execution_count": 31,
   "id": "be414767",
   "metadata": {
    "ExecuteTime": {
     "end_time": "2021-05-26T10:42:26.765301Z",
     "start_time": "2021-05-26T10:42:26.743907Z"
    }
   },
   "outputs": [],
   "source": [
    "from collections import Counter \n",
    "def count_words(df, column='tokens', preprocess=None, min_freq=2):\n",
    "\n",
    "    # process tokens and update counter\n",
    "    def update(doc):\n",
    "        tokens = doc if preprocess is None else preprocess(doc)\n",
    "        counter.update(tokens)\n",
    "\n",
    "    # create counter and run through all data\n",
    "    counter = Counter()\n",
    "    df[column].progress_map(update)\n",
    "\n",
    "    # transform counter into data frame\n",
    "    freq_df = pd.DataFrame.from_dict(counter, orient='index', columns=['freq'])\n",
    "    freq_df = freq_df.query('freq >= @min_freq')\n",
    "    freq_df.index.name = 'token'\n",
    "    \n",
    "    return freq_df.sort_values('freq', ascending=False)"
   ]
  },
  {
   "cell_type": "code",
   "execution_count": 32,
   "id": "9aa5d0ac",
   "metadata": {
    "ExecuteTime": {
     "end_time": "2021-05-26T10:42:28.914276Z",
     "start_time": "2021-05-26T10:42:26.767840Z"
    }
   },
   "outputs": [
    {
     "data": {
      "application/vnd.jupyter.widget-view+json": {
       "model_id": "5eb8564ce5f84b579b107a5146b3c817",
       "version_major": 2,
       "version_minor": 0
      },
      "text/plain": [
       "  0%|          | 0/7507 [00:00<?, ?it/s]"
      ]
     },
     "metadata": {},
     "output_type": "display_data"
    },
    {
     "data": {
      "text/html": [
       "<div>\n",
       "<style scoped>\n",
       "    .dataframe tbody tr th:only-of-type {\n",
       "        vertical-align: middle;\n",
       "    }\n",
       "\n",
       "    .dataframe tbody tr th {\n",
       "        vertical-align: top;\n",
       "    }\n",
       "\n",
       "    .dataframe thead th {\n",
       "        text-align: right;\n",
       "    }\n",
       "</style>\n",
       "<table border=\"1\" class=\"dataframe tex2jax_ignore\">\n",
       "  <thead>\n",
       "    <tr style=\"text-align: right;\">\n",
       "      <th></th>\n",
       "      <th>freq</th>\n",
       "    </tr>\n",
       "    <tr>\n",
       "      <th>token</th>\n",
       "      <th></th>\n",
       "    </tr>\n",
       "  </thead>\n",
       "  <tbody>\n",
       "    <tr>\n",
       "      <th>nations</th>\n",
       "      <td>124508</td>\n",
       "    </tr>\n",
       "    <tr>\n",
       "      <th>united</th>\n",
       "      <td>120763</td>\n",
       "    </tr>\n",
       "    <tr>\n",
       "      <th>international</th>\n",
       "      <td>117223</td>\n",
       "    </tr>\n",
       "    <tr>\n",
       "      <th>world</th>\n",
       "      <td>89421</td>\n",
       "    </tr>\n",
       "    <tr>\n",
       "      <th>countries</th>\n",
       "      <td>85734</td>\n",
       "    </tr>\n",
       "  </tbody>\n",
       "</table>\n",
       "</div>"
      ],
      "text/plain": [
       "                 freq\n",
       "token                \n",
       "nations        124508\n",
       "united         120763\n",
       "international  117223\n",
       "world           89421\n",
       "countries       85734"
      ]
     },
     "execution_count": 32,
     "metadata": {},
     "output_type": "execute_result"
    }
   ],
   "source": [
    "freq_df = count_words(df)\n",
    "freq_df.head(5)"
   ]
  },
  {
   "cell_type": "code",
   "execution_count": 33,
   "id": "982b850a",
   "metadata": {
    "ExecuteTime": {
     "end_time": "2021-05-26T10:42:39.172001Z",
     "start_time": "2021-05-26T10:42:28.917074Z"
    }
   },
   "outputs": [
    {
     "data": {
      "application/vnd.jupyter.widget-view+json": {
       "model_id": "0dc7d9cbd1234840b812e49171b9a563",
       "version_major": 2,
       "version_minor": 0
      },
      "text/plain": [
       "  0%|          | 0/7507 [00:00<?, ?it/s]"
      ]
     },
     "metadata": {},
     "output_type": "display_data"
    },
    {
     "data": {
      "text/html": [
       "<div>\n",
       "<style scoped>\n",
       "    .dataframe tbody tr th:only-of-type {\n",
       "        vertical-align: middle;\n",
       "    }\n",
       "\n",
       "    .dataframe tbody tr th {\n",
       "        vertical-align: top;\n",
       "    }\n",
       "\n",
       "    .dataframe thead th {\n",
       "        text-align: right;\n",
       "    }\n",
       "</style>\n",
       "<table border=\"1\" class=\"dataframe tex2jax_ignore\">\n",
       "  <thead>\n",
       "    <tr style=\"text-align: right;\">\n",
       "      <th></th>\n",
       "      <th>freq</th>\n",
       "    </tr>\n",
       "    <tr>\n",
       "      <th>token</th>\n",
       "      <th></th>\n",
       "    </tr>\n",
       "  </thead>\n",
       "  <tbody>\n",
       "    <tr>\n",
       "      <th>international</th>\n",
       "      <td>106974</td>\n",
       "    </tr>\n",
       "    <tr>\n",
       "      <th>development</th>\n",
       "      <td>51334</td>\n",
       "    </tr>\n",
       "    <tr>\n",
       "      <th>Government</th>\n",
       "      <td>35528</td>\n",
       "    </tr>\n",
       "    <tr>\n",
       "      <th>Organization</th>\n",
       "      <td>33763</td>\n",
       "    </tr>\n",
       "    <tr>\n",
       "      <th>developing</th>\n",
       "      <td>25177</td>\n",
       "    </tr>\n",
       "  </tbody>\n",
       "</table>\n",
       "</div>"
      ],
      "text/plain": [
       "                 freq\n",
       "token                \n",
       "international  106974\n",
       "development     51334\n",
       "Government      35528\n",
       "Organization    33763\n",
       "developing      25177"
      ]
     },
     "execution_count": 33,
     "metadata": {},
     "output_type": "execute_result"
    }
   ],
   "source": [
    "# top words with 10+ characters\n",
    "count_words(df, column='text', \n",
    "            preprocess=lambda text: re.findall(r\"\\w{10,}\", text)).head(5)"
   ]
  },
  {
   "cell_type": "markdown",
   "id": "3a1c0019",
   "metadata": {},
   "source": [
    "##  Creating a Frequency Diagram\n"
   ]
  },
  {
   "cell_type": "code",
   "execution_count": 34,
   "id": "3491f317",
   "metadata": {
    "ExecuteTime": {
     "end_time": "2021-05-26T10:42:39.648788Z",
     "start_time": "2021-05-26T10:42:39.175200Z"
    }
   },
   "outputs": [
    {
     "data": {
      "text/plain": [
       "[Text(0.5, 0, 'Frequency'), Text(0, 0.5, 'Token'), Text(0.5, 1.0, 'Top Words')]"
      ]
     },
     "execution_count": 34,
     "metadata": {},
     "output_type": "execute_result"
    },
    {
     "data": {
      "image/png": "[encoded data removed]",
      "text/plain": [
       "<Figure size 800x300 with 1 Axes>"
      ]
     },
     "metadata": {},
     "output_type": "display_data"
    }
   ],
   "source": [
    "ax = freq_df.head(15).plot(kind='barh', width=0.95, figsize=(8,3))\n",
    "ax.invert_yaxis()\n",
    "ax.set(xlabel='Frequency', ylabel='Token', title='Top Words')"
   ]
  },
  {
   "cell_type": "markdown",
   "id": "8740b4b1",
   "metadata": {},
   "source": [
    "## Blueprint: Ranking with TF-IDF\n"
   ]
  },
  {
   "cell_type": "code",
   "execution_count": 35,
   "id": "31b560a6",
   "metadata": {
    "ExecuteTime": {
     "end_time": "2021-05-26T10:42:41.457725Z",
     "start_time": "2021-05-26T10:42:41.427473Z"
    }
   },
   "outputs": [],
   "source": [
    "def compute_idf(df, column='tokens', preprocess=None, min_df=2):\n",
    "\n",
    "    def update(doc):\n",
    "        tokens = doc if preprocess is None else preprocess(doc)\n",
    "        counter.update(set(tokens))\n",
    "\n",
    "    # count tokens\n",
    "    counter = Counter()\n",
    "    df[column].progress_map(update)\n",
    "\n",
    "    # create data frame and compute idf\n",
    "    idf_df = pd.DataFrame.from_dict(counter, orient='index', columns=['df'])\n",
    "    idf_df = idf_df.query('df >= @min_df')\n",
    "    idf_df['idf'] = np.log(len(df)/idf_df['df'])+0.1\n",
    "    idf_df.index.name = 'token'\n",
    "    return idf_df"
   ]
  },
  {
   "cell_type": "code",
   "execution_count": 36,
   "id": "d9f88503",
   "metadata": {
    "ExecuteTime": {
     "end_time": "2021-05-26T10:42:44.140253Z",
     "start_time": "2021-05-26T10:42:41.460618Z"
    }
   },
   "outputs": [
    {
     "data": {
      "application/vnd.jupyter.widget-view+json": {
       "model_id": "9f6bb53eb6bb401eb7910b4decd86464",
       "version_major": 2,
       "version_minor": 0
      },
      "text/plain": [
       "  0%|          | 0/7507 [00:00<?, ?it/s]"
      ]
     },
     "metadata": {},
     "output_type": "display_data"
    }
   ],
   "source": [
    "idf_df = compute_idf(df)"
   ]
  },
  {
   "cell_type": "code",
   "execution_count": 37,
   "id": "12d28805",
   "metadata": {
    "ExecuteTime": {
     "end_time": "2021-05-26T10:42:44.178293Z",
     "start_time": "2021-05-26T10:42:44.145248Z"
    }
   },
   "outputs": [
    {
     "data": {
      "text/html": [
       "<div>\n",
       "<style scoped>\n",
       "    .dataframe tbody tr th:only-of-type {\n",
       "        vertical-align: middle;\n",
       "    }\n",
       "\n",
       "    .dataframe tbody tr th {\n",
       "        vertical-align: top;\n",
       "    }\n",
       "\n",
       "    .dataframe thead th {\n",
       "        text-align: right;\n",
       "    }\n",
       "</style>\n",
       "<table border=\"1\" class=\"dataframe tex2jax_ignore\">\n",
       "  <thead>\n",
       "    <tr style=\"text-align: right;\">\n",
       "      <th></th>\n",
       "      <th>df</th>\n",
       "      <th>idf</th>\n",
       "    </tr>\n",
       "    <tr>\n",
       "      <th>token</th>\n",
       "      <th></th>\n",
       "      <th></th>\n",
       "    </tr>\n",
       "  </thead>\n",
       "  <tbody>\n",
       "    <tr>\n",
       "      <th>unconditional</th>\n",
       "      <td>831</td>\n",
       "      <td>2.30</td>\n",
       "    </tr>\n",
       "    <tr>\n",
       "      <th>disenfranchises</th>\n",
       "      <td>2</td>\n",
       "      <td>8.33</td>\n",
       "    </tr>\n",
       "    <tr>\n",
       "      <th>unmarried</th>\n",
       "      <td>4</td>\n",
       "      <td>7.64</td>\n",
       "    </tr>\n",
       "    <tr>\n",
       "      <th>multiplier</th>\n",
       "      <td>17</td>\n",
       "      <td>6.19</td>\n",
       "    </tr>\n",
       "    <tr>\n",
       "      <th>cowing</th>\n",
       "      <td>2</td>\n",
       "      <td>8.33</td>\n",
       "    </tr>\n",
       "  </tbody>\n",
       "</table>\n",
       "</div>"
      ],
      "text/plain": [
       "                  df  idf\n",
       "token                    \n",
       "unconditional    831 2.30\n",
       "disenfranchises    2 8.33\n",
       "unmarried          4 7.64\n",
       "multiplier        17 6.19\n",
       "cowing             2 8.33"
      ]
     },
     "execution_count": 37,
     "metadata": {},
     "output_type": "execute_result"
    }
   ],
   "source": [
    "# Not in book: sample of IDF values\n",
    "# high IDF means rare (interesting) term\n",
    "idf_df.sample(5)"
   ]
  },
  {
   "cell_type": "code",
   "execution_count": 38,
   "id": "798527bf",
   "metadata": {
    "ExecuteTime": {
     "end_time": "2021-05-26T10:42:44.414313Z",
     "start_time": "2021-05-26T10:42:44.180732Z"
    }
   },
   "outputs": [],
   "source": [
    "freq_df['tfidf'] = freq_df['freq'] * idf_df['idf']"
   ]
  },
  {
   "cell_type": "code",
   "execution_count": 39,
   "id": "e37a3a96",
   "metadata": {
    "ExecuteTime": {
     "end_time": "2021-05-26T10:42:44.464686Z",
     "start_time": "2021-05-26T10:42:44.416567Z"
    }
   },
   "outputs": [],
   "source": [
    "# not in book: for more data: joining is faster\n",
    "freq_df = freq_df.join(idf_df)\n",
    "freq_df['tfidf'] = freq_df['freq'] * freq_df['idf']"
   ]
  },
  {
   "cell_type": "markdown",
   "id": "12b0a2f9",
   "metadata": {},
   "source": [
    "# Blueprint: Finding a Keyword in Context (KWIC)\n"
   ]
  },
  {
   "cell_type": "markdown",
   "id": "1687e592",
   "metadata": {},
   "source": [
    "**Note:** textacy's API had major changes from version 0.10.1 (as used in the book) to 0.11.  \n",
    "Here, `textacy.text_utils.KWIC` became `textacy.extract.kwic.keyword_in_context` (see [textacy documentation](https://textacy.readthedocs.io/en/latest/api_reference/extract.html#module-textacy.extract.kwic)).\n",
    "\n",
    "\n"
   ]
  },
  {
   "cell_type": "code",
   "execution_count": 42,
   "id": "e91533da",
   "metadata": {
    "ExecuteTime": {
     "end_time": "2021-06-04T05:09:08.234120Z",
     "start_time": "2021-06-04T05:09:05.181494Z"
    }
   },
   "outputs": [],
   "source": [
    "#!pip install textacy\n",
    "import textacy\n",
    "\n",
    "if textacy.__version__ < '0.11': # as in printed book\n",
    "    from textacy.text_utils import KWIC\n",
    "    \n",
    "else: # for textacy 0.11.x\n",
    "    from textacy.extract.kwic import keyword_in_context\n",
    "\n",
    "    def KWIC(*args, **kwargs):\n",
    "        # call keyword_in_context with all params except 'print_only'\n",
    "        return keyword_in_context(*args, \n",
    "                           **{kw: arg for kw, arg in kwargs.items() \n",
    "                            if kw != 'print_only'})"
   ]
  },
  {
   "cell_type": "code",
   "execution_count": 43,
   "id": "93015ae8",
   "metadata": {
    "ExecuteTime": {
     "end_time": "2021-05-26T10:58:00.290940Z",
     "start_time": "2021-05-26T10:58:00.270371Z"
    }
   },
   "outputs": [],
   "source": [
    "def kwic(doc_series, keyword, window=35, print_samples=5):\n",
    "\n",
    "    def add_kwic(text):\n",
    "        kwic_list.extend(KWIC(text, keyword, ignore_case=True, \n",
    "                              window_width=window, print_only=False))\n",
    "\n",
    "    kwic_list = []\n",
    "    doc_series.progress_map(add_kwic)\n",
    "\n",
    "    if print_samples is None or print_samples==0:\n",
    "        return kwic_list\n",
    "    else:\n",
    "        k = min(print_samples, len(kwic_list))\n",
    "        print(f\"{k} random samples out of {len(kwic_list)} \" + \\\n",
    "              f\"contexts for '{keyword}':\")\n",
    "        for sample in random.sample(list(kwic_list), k):\n",
    "            print(re.sub(r'[\\n\\t]', ' ', sample[0])+'  '+ \\\n",
    "                  sample[1]+'  '+\\\n",
    "                  re.sub(r'[\\n\\t]', ' ', sample[2]))"
   ]
  },
  {
   "cell_type": "code",
   "execution_count": 44,
   "id": "b10ec2fe",
   "metadata": {
    "ExecuteTime": {
     "end_time": "2021-05-26T10:58:04.386669Z",
     "start_time": "2021-05-26T10:58:04.296378Z"
    },
    "scrolled": true
   },
   "outputs": [
    {
     "data": {
      "application/vnd.jupyter.widget-view+json": {
       "model_id": "eeb972060c1b4cbeaeea729d32ce0fff",
       "version_major": 2,
       "version_minor": 0
      },
      "text/plain": [
       "  0%|          | 0/193 [00:00<?, ?it/s]"
      ]
     },
     "metadata": {},
     "output_type": "display_data"
    },
    {
     "name": "stdout",
     "output_type": "stream",
     "text": [
      "5 random samples out of 73 contexts for 'sdgs':\n",
      " of our planet and its people. The   SDGs   are a tangible manifestation of th\n",
      "nd, we are expected to achieve the   SDGs   and to demonstrate dramatic develo\n",
      "ead by example in implementing the   SDGs   in Bangladesh. Attaching due impor\n",
      "the Sustainable Development Goals (  SDGs  ). We applaud all the Chairs of the\n",
      "new Sustainable Development Goals (  SDGs  ) aspire to that same vision. The A\n"
     ]
    }
   ],
   "source": [
    "random.seed(22) ###\n",
    "kwic(df[df['year'] == 2015]['text'], 'sdgs', print_samples=5)"
   ]
  },
  {
   "cell_type": "markdown",
   "id": "0e295a6f",
   "metadata": {},
   "source": [
    "# Blueprint: Analyzing N-Grams\n"
   ]
  },
  {
   "cell_type": "code",
   "execution_count": 45,
   "id": "5ed13cc7",
   "metadata": {
    "ExecuteTime": {
     "end_time": "2021-05-26T10:42:49.206581Z",
     "start_time": "2021-05-26T10:41:58.405Z"
    }
   },
   "outputs": [
    {
     "name": "stdout",
     "output_type": "stream",
     "text": [
      "the visible|visible manifestation|manifestation of|of the|the global|global climate|climate change\n"
     ]
    }
   ],
   "source": [
    "def ngrams(tokens, n=2, sep=' '):\n",
    "    return [sep.join(ngram) for ngram in zip(*[tokens[i:] for i in range(n)])]\n",
    "\n",
    "text = \"the visible manifestation of the global climate change\"\n",
    "tokens = tokenize(text)\n",
    "print(\"|\".join(ngrams(tokens, 2)))"
   ]
  },
  {
   "cell_type": "code",
   "execution_count": 46,
   "id": "388bc6e5",
   "metadata": {
    "ExecuteTime": {
     "end_time": "2021-05-26T10:42:49.208551Z",
     "start_time": "2021-05-26T10:41:58.407Z"
    }
   },
   "outputs": [
    {
     "name": "stdout",
     "output_type": "stream",
     "text": [
      "Bigrams: visible manifestation|global climate|climate change\n",
      "Trigrams: global climate change\n"
     ]
    }
   ],
   "source": [
    "def ngrams(tokens, n=2, sep=' ', stopwords=set()):\n",
    "    return [sep.join(ngram) for ngram in zip(*[tokens[i:] for i in range(n)])\n",
    "            if len([t for t in ngram if t in stopwords])==0]\n",
    "\n",
    "print(\"Bigrams:\", \"|\".join(ngrams(tokens, 2, stopwords=stopwords)))\n",
    "print(\"Trigrams:\", \"|\".join(ngrams(tokens, 3, stopwords=stopwords)))"
   ]
  },
  {
   "cell_type": "code",
   "execution_count": 47,
   "id": "7939057d",
   "metadata": {
    "ExecuteTime": {
     "end_time": "2021-05-26T10:42:49.210075Z",
     "start_time": "2021-05-26T10:41:58.410Z"
    }
   },
   "outputs": [
    {
     "data": {
      "application/vnd.jupyter.widget-view+json": {
       "model_id": "0c9c16b3f3c3470593c1c6133d864adf",
       "version_major": 2,
       "version_minor": 0
      },
      "text/plain": [
       "  0%|          | 0/7507 [00:00<?, ?it/s]"
      ]
     },
     "metadata": {},
     "output_type": "display_data"
    },
    {
     "data": {
      "application/vnd.jupyter.widget-view+json": {
       "model_id": "1dcbc48860bb48a7a832f62e38948724",
       "version_major": 2,
       "version_minor": 0
      },
      "text/plain": [
       "  0%|          | 0/7507 [00:00<?, ?it/s]"
      ]
     },
     "metadata": {},
     "output_type": "display_data"
    },
    {
     "data": {
      "application/vnd.jupyter.widget-view+json": {
       "model_id": "2d78ad8e5abf4894a8b3f3f2f0c5bd40",
       "version_major": 2,
       "version_minor": 0
      },
      "text/plain": [
       "  0%|          | 0/7507 [00:00<?, ?it/s]"
      ]
     },
     "metadata": {},
     "output_type": "display_data"
    },
    {
     "data": {
      "text/html": [
       "<div>\n",
       "<style scoped>\n",
       "    .dataframe tbody tr th:only-of-type {\n",
       "        vertical-align: middle;\n",
       "    }\n",
       "\n",
       "    .dataframe tbody tr th {\n",
       "        vertical-align: top;\n",
       "    }\n",
       "\n",
       "    .dataframe thead th {\n",
       "        text-align: right;\n",
       "    }\n",
       "</style>\n",
       "<table border=\"1\" class=\"dataframe tex2jax_ignore\">\n",
       "  <thead>\n",
       "    <tr style=\"text-align: right;\">\n",
       "      <th></th>\n",
       "      <th>freq</th>\n",
       "    </tr>\n",
       "    <tr>\n",
       "      <th>token</th>\n",
       "      <th></th>\n",
       "    </tr>\n",
       "  </thead>\n",
       "  <tbody>\n",
       "    <tr>\n",
       "      <th>united nations</th>\n",
       "      <td>103236</td>\n",
       "    </tr>\n",
       "    <tr>\n",
       "      <th>international community</th>\n",
       "      <td>27786</td>\n",
       "    </tr>\n",
       "    <tr>\n",
       "      <th>general assembly</th>\n",
       "      <td>27096</td>\n",
       "    </tr>\n",
       "    <tr>\n",
       "      <th>security council</th>\n",
       "      <td>20961</td>\n",
       "    </tr>\n",
       "    <tr>\n",
       "      <th>human rights</th>\n",
       "      <td>19856</td>\n",
       "    </tr>\n",
       "  </tbody>\n",
       "</table>\n",
       "</div>"
      ],
      "text/plain": [
       "                           freq\n",
       "token                          \n",
       "united nations           103236\n",
       "international community   27786\n",
       "general assembly          27096\n",
       "security council          20961\n",
       "human rights              19856"
      ]
     },
     "execution_count": 47,
     "metadata": {},
     "output_type": "execute_result"
    }
   ],
   "source": [
    "df['bigrams'] = df['text'].progress_apply(prepare, pipeline=[str.lower, tokenize]) \\\n",
    "                          .progress_apply(ngrams, n=2, stopwords=stopwords)\n",
    "\n",
    "count_words(df, 'bigrams').head(5)"
   ]
  },
  {
   "cell_type": "code",
   "execution_count": 48,
   "id": "1d2e2bbb",
   "metadata": {
    "ExecuteTime": {
     "end_time": "2021-05-26T10:42:49.211195Z",
     "start_time": "2021-05-26T10:41:58.413Z"
    }
   },
   "outputs": [
    {
     "data": {
      "application/vnd.jupyter.widget-view+json": {
       "model_id": "3b618fefeeb14374b06729049a17dc4a",
       "version_major": 2,
       "version_minor": 0
      },
      "text/plain": [
       "  0%|          | 0/7507 [00:00<?, ?it/s]"
      ]
     },
     "metadata": {},
     "output_type": "display_data"
    },
    {
     "data": {
      "application/vnd.jupyter.widget-view+json": {
       "model_id": "ecef8598e14643aa95697a553d4698e9",
       "version_major": 2,
       "version_minor": 0
      },
      "text/plain": [
       "  0%|          | 0/7507 [00:00<?, ?it/s]"
      ]
     },
     "metadata": {},
     "output_type": "display_data"
    },
    {
     "data": {
      "application/vnd.jupyter.widget-view+json": {
       "model_id": "8527a88cd152449486fa7cd3486b3cd9",
       "version_major": 2,
       "version_minor": 0
      },
      "text/plain": [
       "  0%|          | 0/193 [00:00<?, ?it/s]"
      ]
     },
     "metadata": {},
     "output_type": "display_data"
    }
   ],
   "source": [
    "idf_df = compute_idf(df) ### re-initialize to be safe\n",
    "# concatenate existing IDF data frame with bigram IDFs\n",
    "idf_df = pd.concat([idf_df, compute_idf(df, 'bigrams', min_df=10)])\n",
    "\n",
    "freq_df = count_words(df[df['year'] == 2015], 'bigrams')\n",
    "freq_df['tfidf'] = freq_df['freq'] * idf_df['idf']"
   ]
  },
  {
   "cell_type": "code",
   "execution_count": 49,
   "id": "d56668c0",
   "metadata": {},
   "outputs": [
    {
     "data": {
      "text/html": [
       "<div>\n",
       "<style scoped>\n",
       "    .dataframe tbody tr th:only-of-type {\n",
       "        vertical-align: middle;\n",
       "    }\n",
       "\n",
       "    .dataframe tbody tr th {\n",
       "        vertical-align: top;\n",
       "    }\n",
       "\n",
       "    .dataframe thead th {\n",
       "        text-align: right;\n",
       "    }\n",
       "</style>\n",
       "<table border=\"1\" class=\"dataframe tex2jax_ignore\">\n",
       "  <thead>\n",
       "    <tr style=\"text-align: right;\">\n",
       "      <th></th>\n",
       "      <th>freq</th>\n",
       "      <th>tfidf</th>\n",
       "    </tr>\n",
       "    <tr>\n",
       "      <th>token</th>\n",
       "      <th></th>\n",
       "      <th></th>\n",
       "    </tr>\n",
       "  </thead>\n",
       "  <tbody>\n",
       "    <tr>\n",
       "      <th>united nations</th>\n",
       "      <td>2255</td>\n",
       "      <td>236.04</td>\n",
       "    </tr>\n",
       "    <tr>\n",
       "      <th>sustainable development</th>\n",
       "      <td>580</td>\n",
       "      <td>743.59</td>\n",
       "    </tr>\n",
       "    <tr>\n",
       "      <th>human rights</th>\n",
       "      <td>574</td>\n",
       "      <td>287.35</td>\n",
       "    </tr>\n",
       "    <tr>\n",
       "      <th>climate change</th>\n",
       "      <td>532</td>\n",
       "      <td>877.25</td>\n",
       "    </tr>\n",
       "    <tr>\n",
       "      <th>international community</th>\n",
       "      <td>459</td>\n",
       "      <td>111.73</td>\n",
       "    </tr>\n",
       "  </tbody>\n",
       "</table>\n",
       "</div>"
      ],
      "text/plain": [
       "                         freq  tfidf\n",
       "token                               \n",
       "united nations           2255 236.04\n",
       "sustainable development   580 743.59\n",
       "human rights              574 287.35\n",
       "climate change            532 877.25\n",
       "international community   459 111.73"
      ]
     },
     "execution_count": 49,
     "metadata": {},
     "output_type": "execute_result"
    }
   ],
   "source": [
    "freq_df.head()"
   ]
  },
  {
   "cell_type": "markdown",
   "id": "f3e6dc23",
   "metadata": {},
   "source": [
    "# Blueprint: Comparing Frequencies across Time-Intervals and Categories\n"
   ]
  },
  {
   "cell_type": "markdown",
   "id": "1b1c952f",
   "metadata": {},
   "source": [
    "## Creating Frequency Timelines\n"
   ]
  },
  {
   "cell_type": "code",
   "execution_count": 50,
   "id": "41351e84",
   "metadata": {
    "ExecuteTime": {
     "end_time": "2021-05-26T10:42:49.216415Z",
     "start_time": "2021-05-26T10:41:58.420Z"
    }
   },
   "outputs": [],
   "source": [
    "def count_keywords(tokens, keywords): \n",
    "    tokens = [t for t in tokens if t in keywords]\n",
    "    counter = Counter(tokens)\n",
    "    return [counter.get(k, 0) for k in keywords]"
   ]
  },
  {
   "cell_type": "code",
   "execution_count": 51,
   "id": "91b0af51",
   "metadata": {
    "ExecuteTime": {
     "end_time": "2021-05-26T10:42:49.218645Z",
     "start_time": "2021-05-26T10:41:58.423Z"
    }
   },
   "outputs": [
    {
     "name": "stdout",
     "output_type": "stream",
     "text": [
      "[1, 0, 3, 2]\n"
     ]
    }
   ],
   "source": [
    "keywords = ['nuclear', 'terrorism', 'climate', 'freedom']\n",
    "tokens = ['nuclear', 'climate', 'climate', 'freedom', 'climate', 'freedom']\n",
    "\n",
    "print(count_keywords(tokens, keywords))"
   ]
  },
  {
   "cell_type": "code",
   "execution_count": 52,
   "id": "a677adbd",
   "metadata": {
    "ExecuteTime": {
     "end_time": "2021-05-26T10:42:49.221158Z",
     "start_time": "2021-05-26T10:41:58.426Z"
    }
   },
   "outputs": [],
   "source": [
    "def count_keywords_by(df, by, keywords, column='tokens'):\n",
    "    \n",
    "    df = df.reset_index(drop=True) # if the supplied dataframe has gaps in the index\n",
    "    freq_matrix = df[column].progress_apply(count_keywords, keywords=keywords)\n",
    "    freq_df = pd.DataFrame.from_records(freq_matrix, columns=keywords)\n",
    "    freq_df[by] = df[by] # copy the grouping column(s)\n",
    "    \n",
    "    return freq_df.groupby(by=by).sum().sort_values(by)"
   ]
  },
  {
   "cell_type": "code",
   "execution_count": 53,
   "id": "9de223bf",
   "metadata": {
    "ExecuteTime": {
     "end_time": "2021-05-26T10:42:49.223999Z",
     "start_time": "2021-05-26T10:41:58.428Z"
    }
   },
   "outputs": [
    {
     "data": {
      "application/vnd.jupyter.widget-view+json": {
       "model_id": "7f7448ab552a40ed9aa6cca70b2c3fd8",
       "version_major": 2,
       "version_minor": 0
      },
      "text/plain": [
       "  0%|          | 0/7507 [00:00<?, ?it/s]"
      ]
     },
     "metadata": {},
     "output_type": "display_data"
    }
   ],
   "source": [
    "freq_df = count_keywords_by(df, by='year', keywords=keywords)"
   ]
  },
  {
   "cell_type": "code",
   "execution_count": 54,
   "id": "0cffe2ca",
   "metadata": {
    "ExecuteTime": {
     "end_time": "2021-05-26T10:42:49.225541Z",
     "start_time": "2021-05-26T10:41:58.430Z"
    }
   },
   "outputs": [],
   "source": [
    "pd.options.display.max_rows = 4"
   ]
  },
  {
   "cell_type": "code",
   "execution_count": 55,
   "id": "b25bd685",
   "metadata": {
    "ExecuteTime": {
     "end_time": "2021-05-26T10:42:49.226810Z",
     "start_time": "2021-05-26T10:41:58.432Z"
    }
   },
   "outputs": [],
   "source": [
    "pd.options.display.max_rows = 60"
   ]
  },
  {
   "cell_type": "code",
   "execution_count": 56,
   "id": "beff93a2",
   "metadata": {
    "ExecuteTime": {
     "end_time": "2021-05-26T10:42:49.228254Z",
     "start_time": "2021-05-26T10:41:58.434Z"
    }
   },
   "outputs": [
    {
     "data": {
      "text/plain": [
       "<Axes: xlabel='year'>"
      ]
     },
     "execution_count": 56,
     "metadata": {},
     "output_type": "execute_result"
    },
    {
     "data": {
      "image/png": "[encoded data removed]",
      "text/plain": [
       "<Figure size 800x300 with 1 Axes>"
      ]
     },
     "metadata": {},
     "output_type": "display_data"
    }
   ],
   "source": [
    "freq_df.plot(kind='line', figsize=(8, 3))"
   ]
  },
  {
   "cell_type": "code",
   "execution_count": 57,
   "id": "968d6e58",
   "metadata": {
    "ExecuteTime": {
     "end_time": "2021-05-26T10:42:49.230717Z",
     "start_time": "2021-05-26T10:41:58.437Z"
    }
   },
   "outputs": [
    {
     "data": {
      "application/vnd.jupyter.widget-view+json": {
       "model_id": "f7acb221a5ae49b794c393e218c8f648",
       "version_major": 2,
       "version_minor": 0
      },
      "text/plain": [
       "  0%|          | 0/1245 [00:00<?, ?it/s]"
      ]
     },
     "metadata": {},
     "output_type": "display_data"
    },
    {
     "name": "stdout",
     "output_type": "stream",
     "text": [
      "5 random samples out of 581 contexts for 'climate':\n",
      "ation with a view to replacing the   climate   of fear, mistrust and hatred by to\n",
      "ntributing to the maintenance of a   climate   of peace, harmony and understandin\n",
      "ges in the international political   climate  . There is increasing awareness of \n",
      "rian-Israeli front, have created a   climate   which favors the continuation of n\n",
      " that, far from noting a promising   climate   in the most critical areas of inte\n"
     ]
    }
   ],
   "source": [
    "random.seed(23) ###\n",
    "# analyzing mentions of 'climate' before 1980\n",
    "kwic(df.query('year < 1980')['text'], 'climate', window=35, print_samples=5)"
   ]
  },
  {
   "cell_type": "markdown",
   "id": "ff15f247",
   "metadata": {},
   "source": [
    "## Creating Frequency Heat Maps\n"
   ]
  },
  {
   "cell_type": "code",
   "execution_count": 58,
   "id": "b182e865",
   "metadata": {
    "ExecuteTime": {
     "end_time": "2021-05-26T10:42:49.233155Z",
     "start_time": "2021-05-26T10:41:58.441Z"
    },
    "scrolled": true
   },
   "outputs": [
    {
     "data": {
      "application/vnd.jupyter.widget-view+json": {
       "model_id": "55f30f2f63794e969a307dec9de05c4b",
       "version_major": 2,
       "version_minor": 0
      },
      "text/plain": [
       "  0%|          | 0/7507 [00:00<?, ?it/s]"
      ]
     },
     "metadata": {},
     "output_type": "display_data"
    },
    {
     "data": {
      "image/png": "[encoded data removed]",
      "text/plain": [
       "<Figure size 1000x300 with 1 Axes>"
      ]
     },
     "metadata": {},
     "output_type": "display_data"
    }
   ],
   "source": [
    "keywords = ['terrorism', 'terrorist', 'nuclear', 'war', 'oil','peacekeeping', \n",
    "            'humanitarian', 'climate', 'change', 'sustainable', 'sdgs']  \n",
    "\n",
    "freq_df = count_keywords_by(df, by='year', keywords=keywords)\n",
    "\n",
    "# compute relative frequencies based on total number of tokens per year\n",
    "freq_df = freq_df.div(df.groupby('year')['num_tokens'].sum(), axis=0)\n",
    "# apply square root as sublinear filter for better contrast\n",
    "freq_df = freq_df.apply(np.sqrt)\n",
    "\n",
    "plt.figure(figsize=(10, 3)) ###\n",
    "sns.set(font_scale=1) ###\n",
    "sns.heatmap(data=freq_df.T, \n",
    "            xticklabels=True, yticklabels=True, cbar=False, cmap=\"Reds\")\n",
    "sns.set(font_scale=1) ###"
   ]
  },
  {
   "cell_type": "code",
   "execution_count": 59,
   "id": "c61ec8be",
   "metadata": {},
   "outputs": [],
   "source": [
    "# adjust matplotlib resolution for book version\n",
    "matplotlib.rcParams.update({'figure.dpi': 200 })"
   ]
  },
  {
   "cell_type": "markdown",
   "id": "e0933487",
   "metadata": {},
   "source": [
    "# How to use APIs to extract and derive insights from text data"
   ]
  },
  {
   "cell_type": "markdown",
   "id": "0313ceee",
   "metadata": {},
   "source": [
    "# Application Programming Interface"
   ]
  },
  {
   "cell_type": "markdown",
   "id": "58c21684",
   "metadata": {
    "heading_collapsed": true
   },
   "source": [
    "# Blueprint - Extracting data from an API using the requests module"
   ]
  },
  {
   "cell_type": "code",
   "execution_count": 117,
   "id": "0cfe362e",
   "metadata": {
    "hidden": true
   },
   "outputs": [
    {
     "name": "stdout",
     "output_type": "stream",
     "text": [
      "200\n"
     ]
    }
   ],
   "source": [
    "import requests\n",
    "\n",
    "response = requests.get('https://api.github.com/repositories',\n",
    "                        headers={'Accept': 'application/vnd.github.v3+json'})\n",
    "print(response.status_code)"
   ]
  },
  {
   "cell_type": "code",
   "execution_count": 118,
   "id": "2a09a435",
   "metadata": {
    "hidden": true
   },
   "outputs": [
    {
     "name": "stdout",
     "output_type": "stream",
     "text": [
      "utf-8\n",
      "application/json; charset=utf-8\n",
      "GitHub.com\n"
     ]
    }
   ],
   "source": [
    "print (response.encoding)\n",
    "print (response.headers['Content-Type'])\n",
    "print (response.headers['server'])"
   ]
  },
  {
   "cell_type": "code",
   "execution_count": 119,
   "id": "c378fee8",
   "metadata": {
    "hidden": true
   },
   "outputs": [
    {
     "data": {
      "text/plain": [
       "{'Server': 'GitHub.com', 'Date': 'Wed, 07 Feb 2024 01:21:38 GMT', 'Content-Type': 'application/json; charset=utf-8', 'Cache-Control': 'public, max-age=60, s-maxage=60', 'Vary': 'Accept, Accept-Encoding, Accept, X-Requested-With', 'ETag': 'W/\"3b08785a912fd9158abc75739a1173520f25f493467dd3eaef5d02674b84ca0f\"', 'X-GitHub-Media-Type': 'github.v3; format=json', 'Link': '<https://api.github.com/repositories?since=369>; rel=\"next\", <https://api.github.com/repositories{?since}>; rel=\"first\"', 'x-github-api-version-selected': '2022-11-28', 'Access-Control-Expose-Headers': 'ETag, Link, Location, Retry-After, X-GitHub-OTP, X-RateLimit-Limit, X-RateLimit-Remaining, X-RateLimit-Used, X-RateLimit-Resource, X-RateLimit-Reset, X-OAuth-Scopes, X-Accepted-OAuth-Scopes, X-Poll-Interval, X-GitHub-Media-Type, X-GitHub-SSO, X-GitHub-Request-Id, Deprecation, Sunset', 'Access-Control-Allow-Origin': '*', 'Strict-Transport-Security': 'max-age=31536000; includeSubdomains; preload', 'X-Frame-Options': 'deny', 'X-Content-Type-Options': 'nosniff', 'X-XSS-Protection': '0', 'Referrer-Policy': 'origin-when-cross-origin, strict-origin-when-cross-origin', 'Content-Security-Policy': \"default-src 'none'\", 'Content-Encoding': 'gzip', 'X-RateLimit-Limit': '60', 'X-RateLimit-Remaining': '59', 'X-RateLimit-Reset': '1707272497', 'X-RateLimit-Resource': 'core', 'X-RateLimit-Used': '1', 'Accept-Ranges': 'bytes', 'Transfer-Encoding': 'chunked', 'X-GitHub-Request-Id': 'FFDF:2079FE:1F22A8D:1F75ED8:65C2DB21'}"
      ]
     },
     "execution_count": 119,
     "metadata": {},
     "output_type": "execute_result"
    }
   ],
   "source": [
    "response.headers"
   ]
  },
  {
   "cell_type": "code",
   "execution_count": 120,
   "id": "f5bb9763",
   "metadata": {
    "hidden": true
   },
   "outputs": [
    {
     "name": "stdout",
     "output_type": "stream",
     "text": [
      "{\n",
      "  \"id\": 1,\n",
      "  \"node_id\": \"MDEwOlJlcG9zaXRvcnkx\",\n",
      "  \"name\": \"grit\",\n",
      "  \"full_name\": \"mojombo/grit\",\n",
      "  \"private\": false,\n",
      "  \"owner\": {\n",
      "    \"login\": \"mojombo\",\n",
      "    \"id\": 1,\n",
      "    \"node_id\": \"MDQ6VXNlcjE=\",\n",
      "\n"
     ]
    }
   ],
   "source": [
    "import json\n",
    "print (json.dumps(response.json()[0], indent=2)[:200])"
   ]
  },
  {
   "cell_type": "code",
   "execution_count": 121,
   "id": "af0fad62",
   "metadata": {
    "hidden": true
   },
   "outputs": [
    {
     "name": "stdout",
     "output_type": "stream",
     "text": [
      "422\n"
     ]
    }
   ],
   "source": [
    "response = requests.get('https://api.github.com/search/repositories')\n",
    "print (response.status_code)"
   ]
  },
  {
   "cell_type": "code",
   "execution_count": 122,
   "id": "0338610e",
   "metadata": {
    "hidden": true
   },
   "outputs": [
    {
     "name": "stdout",
     "output_type": "stream",
     "text": [
      "200\n"
     ]
    }
   ],
   "source": [
    "response = requests.get('https://api.github.com/search/repositories',\n",
    "    params={'q': 'data_science+language:python'},\n",
    "    headers={'Accept': 'application/vnd.github.v3.text-match+json'})\n",
    "print(response.status_code)"
   ]
  },
  {
   "cell_type": "code",
   "execution_count": 123,
   "id": "80715cca",
   "metadata": {
    "hidden": true
   },
   "outputs": [
    {
     "data": {
      "text/markdown": [
       "**awesome**: repository description - \"*Awesome resources on Bioinformatics, data science, machine learning, programming language (Python, Golang, R, Perl) and miscellaneous stuff.*\" matched with **data science**"
      ],
      "text/plain": [
       "<IPython.core.display.Markdown object>"
      ]
     },
     "metadata": {},
     "output_type": "display_data"
    },
    {
     "data": {
      "text/markdown": [
       "**Python**: repository description - \"*this resporatory have ml,ai,nlp,data science etc.python language related material from many websites eg. datacamp,geeksforgeeks,linkedin,youtube,udemy etc. also it include programming challange/competion solutions*\" matched with **data science**"
      ],
      "text/plain": [
       "<IPython.core.display.Markdown object>"
      ]
     },
     "metadata": {},
     "output_type": "display_data"
    },
    {
     "data": {
      "text/markdown": [
       "**hu-dsf**: repository description - \"*Introduction course to data science using the Python programming language in the form of Jupyter Notebooks*\" matched with **data science**"
      ],
      "text/plain": [
       "<IPython.core.display.Markdown object>"
      ]
     },
     "metadata": {},
     "output_type": "display_data"
    },
    {
     "data": {
      "text/markdown": [
       "**math-server-docker**: repository description - \"*The ideal multi-user Data Science server with Jupyterhub and RStudio, ready for Python, R and Julia languages.*\" matched with **Data Science**"
      ],
      "text/plain": [
       "<IPython.core.display.Markdown object>"
      ]
     },
     "metadata": {},
     "output_type": "display_data"
    },
    {
     "data": {
      "text/markdown": [
       "**python**: repository description - \"*A short course introducing students to the Python programming language for data science*\" matched with **Python**"
      ],
      "text/plain": [
       "<IPython.core.display.Markdown object>"
      ]
     },
     "metadata": {},
     "output_type": "display_data"
    }
   ],
   "source": [
    "from IPython.display import Markdown, display  ###\n",
    "def printmd(string):  ###\n",
    "    display(Markdown(string))  ###\n",
    "\n",
    "for item in response.json()['items'][:5]:\n",
    "    printmd('**' + item['name'] + '**' + ': repository ' +\n",
    "            item['text_matches'][0]['property'] + ' - \\\"*' +\n",
    "            item['text_matches'][0]['fragment'] + '*\\\" matched with ' + '**' +\n",
    "            item['text_matches'][0]['matches'][0]['text'] + '**')"
   ]
  },
  {
   "cell_type": "code",
   "execution_count": 124,
   "id": "d139e629",
   "metadata": {
    "hidden": true
   },
   "outputs": [
    {
     "name": "stdout",
     "output_type": "stream",
     "text": [
      "Response Code 200\n",
      "Number of comments 30\n"
     ]
    }
   ],
   "source": [
    "response = requests.get(\n",
    "    'https://api.github.com/repos/pytorch/pytorch/issues/comments')\n",
    "print('Response Code', response.status_code)\n",
    "print('Number of comments', len(response.json()))"
   ]
  },
  {
   "cell_type": "code",
   "execution_count": 125,
   "id": "0d90efd8",
   "metadata": {
    "hidden": true
   },
   "outputs": [
    {
     "data": {
      "text/plain": [
       "{'next': {'url': 'https://api.github.com/repositories/65600975/issues/comments?page=2',\n",
       "  'rel': 'next'},\n",
       " 'last': {'url': 'https://api.github.com/repositories/65600975/issues/comments?page=1000',\n",
       "  'rel': 'last'}}"
      ]
     },
     "execution_count": 125,
     "metadata": {},
     "output_type": "execute_result"
    }
   ],
   "source": [
    "response.links"
   ]
  },
  {
   "cell_type": "code",
   "execution_count": 126,
   "id": "c5236127",
   "metadata": {
    "hidden": true
   },
   "outputs": [],
   "source": [
    "def get_all_pages(url, params=None, headers=None):\n",
    "    output_json = []\n",
    "    response = requests.get(url, params=params, headers=headers)\n",
    "    if response.status_code == 200:\n",
    "        output_json = response.json()\n",
    "        if 'next' in response.links:\n",
    "            next_url = response.links['next']['url']\n",
    "            if next_url is not None:\n",
    "                output_json += get_all_pages(next_url, params, headers)\n",
    "    return output_json\n",
    "\n",
    "\n",
    "out = get_all_pages(\n",
    "    \"https://api.github.com/repos/pytorch/pytorch/issues/comments\",\n",
    "    params={\n",
    "        'since': '2020-07-01T10:00:01Z',\n",
    "        'sorted': 'created',\n",
    "        'direction': 'desc'\n",
    "    },\n",
    "    headers={'Accept': 'application/vnd.github.v3+json'})\n",
    "df = pd.DataFrame(out)"
   ]
  },
  {
   "cell_type": "code",
   "execution_count": 128,
   "id": "94c1c007",
   "metadata": {
    "hidden": true
   },
   "outputs": [
    {
     "name": "stdout",
     "output_type": "stream",
     "text": [
      "1530\n"
     ]
    },
    {
     "data": {
      "text/html": [
       "<div>\n",
       "<style scoped>\n",
       "    .dataframe tbody tr th:only-of-type {\n",
       "        vertical-align: middle;\n",
       "    }\n",
       "\n",
       "    .dataframe tbody tr th {\n",
       "        vertical-align: top;\n",
       "    }\n",
       "\n",
       "    .dataframe thead th {\n",
       "        text-align: right;\n",
       "    }\n",
       "</style>\n",
       "<table border=\"1\" class=\"dataframe tex2jax_ignore\">\n",
       "  <thead>\n",
       "    <tr style=\"text-align: right;\">\n",
       "      <th></th>\n",
       "      <th>id</th>\n",
       "      <th>created_at</th>\n",
       "      <th>body</th>\n",
       "    </tr>\n",
       "  </thead>\n",
       "  <tbody>\n",
       "    <tr>\n",
       "      <th>654</th>\n",
       "      <td>1928354214</td>\n",
       "      <td>2024-02-05T22:36:50Z</td>\n",
       "      <td>@CaoE  I think you need to update the decomp table:\\r\\nthis line \\r\\nhttps://github.com/pytorch/pytorch/blob/main/torch/_decomp/decompositions.py#L4322-L4325\\r\\n\\r\\n\\r\\nneeds to be updated to: \\r\\n\\r\\n```Python\\r\\n\\t\\r\\n    torch._check(\\r\\n        torch.is_floating_point(query),\\r\\n        lambda: f\"query must be FP32, FP64, BF16, FP16 but got {query.dtype}\",\\r\\n    )\\r\\n ```</td>\n",
       "    </tr>\n",
       "  </tbody>\n",
       "</table>\n",
       "</div>"
      ],
      "text/plain": [
       "             id            created_at  \\\n",
       "654  1928354214  2024-02-05T22:36:50Z   \n",
       "\n",
       "                                                                                                                                                                                                                                                                                                                                                                                            body  \n",
       "654  @CaoE  I think you need to update the decomp table:\\r\\nthis line \\r\\nhttps://github.com/pytorch/pytorch/blob/main/torch/_decomp/decompositions.py#L4322-L4325\\r\\n\\r\\n\\r\\nneeds to be updated to: \\r\\n\\r\\n```Python\\r\\n\\t\\r\\n    torch._check(\\r\\n        torch.is_floating_point(query),\\r\\n        lambda: f\"query must be FP32, FP64, BF16, FP16 but got {query.dtype}\",\\r\\n    )\\r\\n ```  "
      ]
     },
     "execution_count": 128,
     "metadata": {},
     "output_type": "execute_result"
    }
   ],
   "source": [
    "pd.set_option('display.max_colwidth', 1) ###\n",
    "print (df['body'].count())\n",
    "df[['id','created_at','body']].sample(1, random_state=42)"
   ]
  },
  {
   "cell_type": "code",
   "execution_count": 129,
   "id": "02cd96f9",
   "metadata": {
    "hidden": true
   },
   "outputs": [
    {
     "name": "stdout",
     "output_type": "stream",
     "text": [
      "X-Ratelimit-Limit 60\n",
      "X-Ratelimit-Remaining 5\n",
      "Rate Limits reset at Wed Feb  7 02:21:38 2024\n"
     ]
    }
   ],
   "source": [
    "response = requests.head(\n",
    "    'https://api.github.com/repos/pytorch/pytorch/issues/comments')\n",
    "print('X-Ratelimit-Limit', response.headers['X-Ratelimit-Limit'])\n",
    "print('X-Ratelimit-Remaining', response.headers['X-Ratelimit-Remaining'])\n",
    "\n",
    "# Converting UTC time to human-readable format\n",
    "import datetime\n",
    "print(\n",
    "    'Rate Limits reset at',\n",
    "    datetime.datetime.fromtimestamp(int(\n",
    "        response.headers['X-RateLimit-Reset'])).strftime('%c'))"
   ]
  },
  {
   "cell_type": "code",
   "execution_count": 130,
   "id": "91b888b1",
   "metadata": {
    "hidden": true
   },
   "outputs": [],
   "source": [
    "from datetime import datetime\n",
    "import time\n",
    "\n",
    "def handle_rate_limits(response):\n",
    "    now = datetime.now()\n",
    "    reset_time = datetime.fromtimestamp(\n",
    "        int(response.headers['X-RateLimit-Reset']))\n",
    "    remaining_requests = response.headers['X-Ratelimit-Remaining']\n",
    "    remaining_time = (reset_time - now).total_seconds()\n",
    "    intervals = remaining_time / (1.0 + int(remaining_requests))\n",
    "    print('Sleeping for', intervals)\n",
    "    time.sleep(intervals)\n",
    "    return True"
   ]
  },
  {
   "cell_type": "code",
   "execution_count": 131,
   "id": "d18fc0fa",
   "metadata": {
    "hidden": true
   },
   "outputs": [
    {
     "name": "stdout",
     "output_type": "stream",
     "text": [
      "awesome\n",
      "Python\n",
      "hu-dsf\n",
      "math-server-docker\n",
      "python\n"
     ]
    }
   ],
   "source": [
    "from requests.adapters import HTTPAdapter\n",
    "from requests.packages.urllib3.util.retry import Retry\n",
    "\n",
    "retry_strategy = Retry(\n",
    "    total=5,\n",
    "    status_forcelist=[500, 503, 504],\n",
    "    backoff_factor=1\n",
    ")\n",
    "\n",
    "retry_adapter = HTTPAdapter(max_retries=retry_strategy)\n",
    "\n",
    "http = requests.Session()\n",
    "http.mount(\"https://\", retry_adapter)\n",
    "http.mount(\"http://\", retry_adapter)\n",
    "\n",
    "response = http.get('https://api.github.com/search/repositories',\n",
    "                   params={'q': 'data_science+language:python'})\n",
    "\n",
    "for item in response.json()['items'][:5]:\n",
    "    print (item['name'])"
   ]
  },
  {
   "cell_type": "code",
   "execution_count": 141,
   "id": "5c7c00cd",
   "metadata": {
    "hidden": true
   },
   "outputs": [],
   "source": [
    "from requests.adapters import HTTPAdapter\n",
    "from requests.packages.urllib3.util.retry import Retry\n",
    "\n",
    "retry_strategy = Retry(\n",
    "    total=5,\n",
    "    status_forcelist=[500, 503, 504],\n",
    "    backoff_factor=1\n",
    ")\n",
    "\n",
    "retry_adapter = HTTPAdapter(max_retries=retry_strategy)\n",
    "\n",
    "http = requests.Session()\n",
    "http.mount(\"https://\", retry_adapter)\n",
    "http.mount(\"http://\", retry_adapter)\n",
    "\n",
    "def get_all_pages(url, param=None, header=None):\n",
    "    output_json = []\n",
    "    response = http.get(url, params=param, headers=header)\n",
    "    if response.status_code == 200:\n",
    "        output_json = response.json()\n",
    "        if 'next' in response.links:\n",
    "            next_url = response.links['next']['url']\n",
    "            if (next_url is not None) and (handle_rate_limits(response)): \n",
    "                output_json += get_all_pages(next_url, param, header)\n",
    "    return output_json"
   ]
  },
  {
   "cell_type": "code",
   "execution_count": 142,
   "id": "eabc8fe4",
   "metadata": {
    "hidden": true
   },
   "outputs": [],
   "source": [
    "out = get_all_pages(\"https://api.github.com/repos/pytorch/pytorch/issues/comments\", param={'since': '2020-04-01T00:00:01Z'})\n",
    "df = pd.DataFrame(out)"
   ]
  },
  {
   "cell_type": "markdown",
   "id": "5717da01",
   "metadata": {},
   "source": [
    "## Print the df and explore it. Please put your comments and your conclusion."
   ]
  },
  {
   "cell_type": "markdown",
   "id": "0e64d541",
   "metadata": {},
   "source": [
    "# --------------------------------------------------------------------------------------------------------"
   ]
  },
  {
   "cell_type": "markdown",
   "id": "c1f987aa",
   "metadata": {},
   "source": [
    "# Scraping Websites and Extracting Data"
   ]
  },
  {
   "cell_type": "code",
   "execution_count": 148,
   "id": "05f34870",
   "metadata": {
    "colab": {},
    "colab_type": "code",
    "id": "XgVenIOToGq7"
   },
   "outputs": [],
   "source": [
    "import urllib.robotparser\n",
    "rp = urllib.robotparser.RobotFileParser()\n",
    "rp.set_url(\"https://www.reuters.com/robots.txt\")\n",
    "rp.read()"
   ]
  },
  {
   "cell_type": "code",
   "execution_count": 149,
   "id": "8485b9c5",
   "metadata": {
    "colab": {},
    "colab_type": "code",
    "id": "iuxWAarsoGq-"
   },
   "outputs": [
    {
     "data": {
      "text/plain": [
       "True"
      ]
     },
     "execution_count": 149,
     "metadata": {},
     "output_type": "execute_result"
    }
   ],
   "source": [
    "rp.can_fetch(\"*\", \"https://www.reuters.com/arc/outboundfeeds/news-sitemap/?outputType=xml\")"
   ]
  },
  {
   "cell_type": "code",
   "execution_count": 150,
   "id": "4ce02f0d",
   "metadata": {
    "colab": {},
    "colab_type": "code",
    "id": "3L101T-5oGrB"
   },
   "outputs": [
    {
     "data": {
      "text/plain": [
       "False"
      ]
     },
     "execution_count": 150,
     "metadata": {},
     "output_type": "execute_result"
    }
   ],
   "source": [
    "rp.can_fetch(\"*\", \"https://www.reuters.com/finance/stocks/option\")"
   ]
  },
  {
   "cell_type": "markdown",
   "id": "7de3e799",
   "metadata": {
    "colab_type": "text",
    "id": "mzwDF3nOoGrD"
   },
   "source": [
    "# Blueprint: finding URLs from sitemap.xml"
   ]
  },
  {
   "cell_type": "code",
   "execution_count": 151,
   "id": "e0bc036e",
   "metadata": {
    "colab": {},
    "colab_type": "code",
    "id": "W852mFHOoGrE",
    "scrolled": true
   },
   "outputs": [
    {
     "name": "stdout",
     "output_type": "stream",
     "text": [
      "Requirement already satisfied: xmltodict in c:\\users\\jatna\\anaconda3\\lib\\site-packages (0.13.0)\n"
     ]
    }
   ],
   "source": [
    "# might need to install xmltodict\n",
    "!pip install xmltodict\n",
    "import xmltodict\n",
    "import requests\n",
    "\n",
    "sitemap = xmltodict.parse(requests.get('https://www.reuters.com/arc/outboundfeeds/news-sitemap/?outputType=xml').text)"
   ]
  },
  {
   "cell_type": "code",
   "execution_count": 152,
   "id": "a213f605",
   "metadata": {
    "colab": {},
    "colab_type": "code",
    "id": "841uffIloGrH"
   },
   "outputs": [
    {
     "name": "stdout",
     "output_type": "stream",
     "text": [
      "https://www.reuters.com/markets/currencies/dollar-defensive-after-pullback-nearly-3-month-peak-2024-02-07/\n",
      "https://www.reuters.com/world/china/chinese-embassy-netherlands-says-china-would-never-allow-cyberattacks-2024-02-07/\n",
      "https://www.reuters.com/markets/commodities/chile-copper-miner-codelcos-2023-production-declines-recovery-seen-this-year-2024-02-07/\n"
     ]
    }
   ],
   "source": [
    "# just see some of the URLs\n",
    "urls = [url[\"loc\"] for url in sitemap[\"urlset\"][\"url\"]]\n",
    "print(\"\\n\".join(urls[0:3]))"
   ]
  },
  {
   "cell_type": "markdown",
   "id": "33d9d428",
   "metadata": {
    "colab_type": "text",
    "id": "EiIUx1sSoGrL"
   },
   "source": [
    "# Blueprint: finding URLs from RSS"
   ]
  },
  {
   "cell_type": "markdown",
   "id": "a7675f80",
   "metadata": {},
   "source": [
    "Reuters removed its RSS feed after the book was published. We therefore use a saved copy from the Internet archive"
   ]
  },
  {
   "cell_type": "code",
   "execution_count": 153,
   "id": "3fae6752",
   "metadata": {
    "colab": {},
    "colab_type": "code",
    "id": "7MGKtBAKoGrM"
   },
   "outputs": [
    {
     "name": "stdout",
     "output_type": "stream",
     "text": [
      "Requirement already satisfied: feedparser in c:\\users\\jatna\\anaconda3\\lib\\site-packages (6.0.11)\n",
      "Requirement already satisfied: sgmllib3k in c:\\users\\jatna\\anaconda3\\lib\\site-packages (from feedparser) (1.0.0)\n"
     ]
    }
   ],
   "source": [
    "# might need to install feedparser\n",
    "!pip install feedparser\n",
    "import feedparser\n",
    "feed = feedparser.parse('http://web.archive.org/web/20200613003232if_/http://feeds.reuters.com/Reuters/worldNews')"
   ]
  },
  {
   "cell_type": "code",
   "execution_count": 154,
   "id": "a575178d",
   "metadata": {
    "colab": {},
    "colab_type": "code",
    "id": "7gEmDJtRoGrP"
   },
   "outputs": [
    {
     "data": {
      "text/plain": [
       "[('Mexico City to begin gradual exit from lockdown on Monday',\n",
       "  'http://feeds.reuters.com/~r/Reuters/worldNews/~3/OQtkVdAqHos/mexico-city-to-begin-gradual-exit-from-lockdown-on-monday-idUSKBN23K00R'),\n",
       " ('Mexico reports record tally of 5,222 new coronavirus cases',\n",
       "  'http://feeds.reuters.com/~r/Reuters/worldNews/~3/Rkz9j2G7lJU/mexico-reports-record-tally-of-5222-new-coronavirus-cases-idUSKBN23K00B'),\n",
       " ('Venezuela supreme court to swear in new electoral council leaders, government says',\n",
       "  'http://feeds.reuters.com/~r/Reuters/worldNews/~3/cc3R5aq4Ksk/venezuela-supreme-court-to-swear-in-new-electoral-council-leaders-government-says-idUSKBN23J39T'),\n",
       " (\"One-fifth of Britain's coronavirus patients were infected in hospitals: Telegraph\",\n",
       "  'http://feeds.reuters.com/~r/Reuters/worldNews/~3/1_7Wb0S_6-8/one-fifth-of-britains-coronavirus-patients-were-infected-in-hospitals-telegraph-idUSKBN23J382'),\n",
       " ('France to lift border controls for EU travellers on June 15',\n",
       "  'http://feeds.reuters.com/~r/Reuters/worldNews/~3/59BfrIYmz5w/france-to-lift-border-controls-for-eu-travellers-on-june-15-idUSKBN23J385'),\n",
       " (\"Brazil's COVID-19 deaths surge past UK, WHO says hospital system coping\",\n",
       "  'http://feeds.reuters.com/~r/Reuters/worldNews/~3/SVdaoPH85n4/brazils-covid-19-deaths-surge-past-uk-who-says-hospital-system-coping-idUSKBN23J30F'),\n",
       " (\"Canada's Trudeau calls arrest video of indigenous leader 'shocking'\",\n",
       "  'http://feeds.reuters.com/~r/Reuters/worldNews/~3/I7SImHlpjnM/canadas-trudeau-calls-arrest-video-of-indigenous-leader-shocking-idUSKBN23J2YF'),\n",
       " ('Egypt registers highest daily rise in coronavirus cases in nearly two weeks',\n",
       "  'http://feeds.reuters.com/~r/Reuters/worldNews/~3/EYyoma3WpSU/egypt-registers-highest-daily-rise-in-coronavirus-cases-in-nearly-two-weeks-idUSKBN23J36C'),\n",
       " ('Artists around the world pay tribute to George Floyd',\n",
       "  'http://feeds.reuters.com/~r/Reuters/worldNews/~3/r1LKkd3sJbs/artists-around-the-world-pay-tribute-to-george-floyd-idUSKBN23J35M'),\n",
       " (\"Brazil's COVID-19 death toll passes Britain, world's second highest\",\n",
       "  'http://feeds.reuters.com/~r/Reuters/worldNews/~3/g_uEz1XDgII/brazils-covid-19-death-toll-passes-britain-worlds-second-highest-idUSKBN23J35Q'),\n",
       " ('Lebanon protesters burn roads, clash with security in second night of unrest',\n",
       "  'http://feeds.reuters.com/~r/Reuters/worldNews/~3/nlJrlQbdQaw/lebanon-protesters-burn-roads-clash-with-security-in-second-night-of-unrest-idUSKBN23J33Z'),\n",
       " (\"'Stop buying social peace at our expense', French police tell government\",\n",
       "  'http://feeds.reuters.com/~r/Reuters/worldNews/~3/ZXOifRQXcjc/stop-buying-social-peace-at-our-expense-french-police-tell-government-idUSKBN23J17H'),\n",
       " ('Soccer team mobs coffin of murdered Mexican teen after moving tribute',\n",
       "  'http://feeds.reuters.com/~r/Reuters/worldNews/~3/KlaKFzEWF5s/soccer-team-mobs-coffin-of-murdered-mexican-teen-after-moving-tribute-idUSKBN23J33O'),\n",
       " (\"Chile's military moves through shadows to spot coronavirus curfew breakers\",\n",
       "  'http://feeds.reuters.com/~r/Reuters/worldNews/~3/kWg9jn4jS18/chiles-military-moves-through-shadows-to-spot-coronavirus-curfew-breakers-idUSKBN23J33D'),\n",
       " (\"Somalia's Islamist group al Shabaab says sets up COVID-19 treatment centre\",\n",
       "  'http://feeds.reuters.com/~r/Reuters/worldNews/~3/1AzaAZSLi50/somalias-islamist-group-al-shabaab-says-sets-up-covid-19-treatment-centre-idUSKBN23J32C'),\n",
       " (\"Congo's gold being smuggled out by the tonne, U.N. report finds\",\n",
       "  'http://feeds.reuters.com/~r/Reuters/worldNews/~3/0h7HNifS-EA/congos-gold-being-smuggled-out-by-the-tonne-u-n-report-finds-idUSKBN23J324'),\n",
       " ('Brazil drops police from human rights report amid global protests against racism and abuse',\n",
       "  'http://feeds.reuters.com/~r/Reuters/worldNews/~3/keFB_DL2_3Q/brazil-drops-police-from-human-rights-report-amid-global-protests-against-racism-and-abuse-idUSKBN23J316'),\n",
       " ('Slovenia to open borders for Italians, Montenegrins on June 15',\n",
       "  'http://feeds.reuters.com/~r/Reuters/worldNews/~3/Lp-FVxxomp8/slovenia-to-open-borders-for-italians-montenegrins-on-june-15-idUSKBN23J31U'),\n",
       " ('Botswana reinstates strict coronavirus lockdown in capital city',\n",
       "  'http://feeds.reuters.com/~r/Reuters/worldNews/~3/alBNYMaCpxA/botswana-reinstates-strict-coronavirus-lockdown-in-capital-city-idUSKBN23J31Q'),\n",
       " ('Coronavirus hitting the Americas hardest says World Health Organization',\n",
       "  'http://feeds.reuters.com/~r/Reuters/worldNews/~3/nOWjc9tZhig/coronavirus-hitting-the-americas-hardest-says-world-health-organization-idUSKBN23J2K3')]"
      ]
     },
     "execution_count": 154,
     "metadata": {},
     "output_type": "execute_result"
    }
   ],
   "source": [
    "[(e.title, e.link) for e in feed.entries]"
   ]
  },
  {
   "cell_type": "code",
   "execution_count": 155,
   "id": "c27c5746",
   "metadata": {
    "colab": {},
    "colab_type": "code",
    "id": "kJoqad-EoGrS"
   },
   "outputs": [
    {
     "data": {
      "text/plain": [
       "['https://www.reuters.com/article/us-health-coronavirus-mexico-city/mexico-city-to-begin-gradual-exit-from-lockdown-on-monday-idUSKBN23K00R?feedType=RSS&feedName=worldNews',\n",
       " 'https://www.reuters.com/article/us-health-coronavirus-mexico/mexico-reports-record-tally-of-5222-new-coronavirus-cases-idUSKBN23K00B?feedType=RSS&feedName=worldNews',\n",
       " 'https://www.reuters.com/article/us-venezuela-politics/venezuela-supreme-court-to-swear-in-new-electoral-council-leaders-government-says-idUSKBN23J39T?feedType=RSS&feedName=worldNews',\n",
       " 'https://www.reuters.com/article/us-health-coronavirus-britain-hospitals/one-fifth-of-britains-coronavirus-patients-were-infected-in-hospitals-telegraph-idUSKBN23J382?feedType=RSS&feedName=worldNews',\n",
       " 'https://www.reuters.com/article/us-health-coronavirus-france-borders/france-to-lift-border-controls-for-eu-travellers-on-june-15-idUSKBN23J385?feedType=RSS&feedName=worldNews',\n",
       " 'https://www.reuters.com/article/us-health-coronavirus-brazil/brazils-covid-19-deaths-surge-past-uk-who-says-hospital-system-coping-idUSKBN23J30F?feedType=RSS&feedName=worldNews',\n",
       " 'https://www.reuters.com/article/us-canada-police-trudeau/canadas-trudeau-calls-arrest-video-of-indigenous-leader-shocking-idUSKBN23J2YF?feedType=RSS&feedName=worldNews',\n",
       " 'https://www.reuters.com/article/us-health-coronavirus-egypt-toll/egypt-registers-highest-daily-rise-in-coronavirus-cases-in-nearly-two-weeks-idUSKBN23J36C?feedType=RSS&feedName=worldNews',\n",
       " 'https://www.reuters.com/article/us-minneapolis-police-protests-art/artists-around-the-world-pay-tribute-to-george-floyd-idUSKBN23J35M?feedType=RSS&feedName=worldNews',\n",
       " 'https://www.reuters.com/article/us-health-coronavirus-brazil-numbers/brazils-covid-19-death-toll-passes-britain-worlds-second-highest-idUSKBN23J35Q?feedType=RSS&feedName=worldNews',\n",
       " 'https://www.reuters.com/article/us-lebanon-crisis-protests/lebanon-protesters-burn-roads-clash-with-security-in-second-night-of-unrest-idUSKBN23J33Z?feedType=RSS&feedName=worldNews',\n",
       " 'https://www.reuters.com/article/us-france-security-police/stop-buying-social-peace-at-our-expense-french-police-tell-government-idUSKBN23J17H?feedType=RSS&feedName=worldNews',\n",
       " 'https://www.reuters.com/article/us-minneapolis-police-mexico/soccer-team-mobs-coffin-of-murdered-mexican-teen-after-moving-tribute-idUSKBN23J33O?feedType=RSS&feedName=worldNews',\n",
       " 'https://www.reuters.com/article/us-health-coronavirus-chile-army/chiles-military-moves-through-shadows-to-spot-coronavirus-curfew-breakers-idUSKBN23J33D?feedType=RSS&feedName=worldNews',\n",
       " 'https://www.reuters.com/article/us-health-coronavirus-somalia/somalias-islamist-group-al-shabaab-says-sets-up-covid-19-treatment-centre-idUSKBN23J32C?feedType=RSS&feedName=worldNews',\n",
       " 'https://www.reuters.com/article/us-congo-gold/congos-gold-being-smuggled-out-by-the-tonne-u-n-report-finds-idUSKBN23J324?feedType=RSS&feedName=worldNews',\n",
       " 'https://www.reuters.com/article/us-brazil-violence/brazil-drops-police-from-human-rights-report-amid-global-protests-against-racism-and-abuse-idUSKBN23J316?feedType=RSS&feedName=worldNews',\n",
       " 'https://www.reuters.com/article/us-health-coronavirus-slovenia-italy/slovenia-to-open-borders-for-italians-montenegrins-on-june-15-idUSKBN23J31U?feedType=RSS&feedName=worldNews',\n",
       " 'https://www.reuters.com/article/us-health-coronavirus-botswana/botswana-reinstates-strict-coronavirus-lockdown-in-capital-city-idUSKBN23J31Q?feedType=RSS&feedName=worldNews',\n",
       " 'https://www.reuters.com/article/us-health-coronavirus-who/coronavirus-hitting-the-americas-hardest-says-world-health-organization-idUSKBN23J2K3?feedType=RSS&feedName=worldNews']"
      ]
     },
     "execution_count": 155,
     "metadata": {},
     "output_type": "execute_result"
    }
   ],
   "source": [
    "[e.id for e in feed.entries]"
   ]
  },
  {
   "cell_type": "markdown",
   "id": "a7f89a82",
   "metadata": {
    "colab_type": "text",
    "id": "chlsxEoAoGrU"
   },
   "source": [
    "# Example: Downloading HTML pages with Python"
   ]
  },
  {
   "cell_type": "code",
   "execution_count": 157,
   "id": "3a271a9a",
   "metadata": {
    "colab": {},
    "colab_type": "code",
    "id": "dIwBH0daoGrV"
   },
   "outputs": [
    {
     "name": "stdout",
     "output_type": "stream",
     "text": [
      "CPU times: total: 78.1 ms\n",
      "Wall time: 536 ms\n"
     ]
    }
   ],
   "source": [
    "%%time\n",
    "s = requests.Session()\n",
    "for url in urls[0:10]:\n",
    "    # get the part after the last / in URL and use as filename\n",
    "    file = url.split(\"/\")[-2]\n",
    "    \n",
    "    r = s.get(url)\n",
    "    with open(file, \"w+b\") as f:\n",
    "        f.write(r.text.encode('utf-8'))"
   ]
  },
  {
   "cell_type": "code",
   "execution_count": 158,
   "id": "95ef21fd",
   "metadata": {
    "colab": {},
    "colab_type": "code",
    "id": "xlBeX4pWoGrY"
   },
   "outputs": [],
   "source": [
    "with open(\"urls.txt\", \"w+b\") as f:\n",
    "    f.write(\"\\n\".join(urls).encode('utf-8'))"
   ]
  },
  {
   "cell_type": "markdown",
   "id": "3f8663ef",
   "metadata": {
    "colab_type": "text",
    "id": "71lE3mouoGra"
   },
   "source": [
    "# Blueprint: Extraction with regular expressions"
   ]
  },
  {
   "cell_type": "markdown",
   "id": "44b6e73c",
   "metadata": {
    "colab_type": "text",
    "id": "dsiYQP65oGrb"
   },
   "source": [
    "We first have to download a single article"
   ]
  },
  {
   "cell_type": "code",
   "execution_count": 159,
   "id": "1aec30bd",
   "metadata": {
    "colab": {},
    "colab_type": "code",
    "id": "js5blgHuoGrc"
   },
   "outputs": [],
   "source": [
    "url = 'https://www.reuters.com/article/us-health-vaping-marijuana-idUSKBN1WG4KT'\n",
    "\n",
    "file = url.split(\"/\")[-1] + \".html\"\n",
    "\n",
    "r = requests.get(url)\n",
    "\n",
    "with open(file, \"w+\") as f:\n",
    "    f.write(r.text)"
   ]
  },
  {
   "cell_type": "code",
   "execution_count": 160,
   "id": "c7328d4b",
   "metadata": {
    "colab": {},
    "colab_type": "code",
    "id": "4W9USWj5oGrg"
   },
   "outputs": [
    {
     "name": "stdout",
     "output_type": "stream",
     "text": [
      "reuters.com\n"
     ]
    }
   ],
   "source": [
    "import re\n",
    "with open(file, \"r\") as f:\n",
    "    html = f.read()\n",
    "    g = re.search(r'<title>(.*)</title>', html, re.MULTILINE|re.DOTALL)\n",
    "    if g:\n",
    "        print(g.groups()[0])"
   ]
  },
  {
   "cell_type": "markdown",
   "id": "355c4b0e",
   "metadata": {
    "colab_type": "text",
    "id": "8YoId1bpoGrj"
   },
   "source": [
    "# Using an HTML parser for extraction"
   ]
  },
  {
   "cell_type": "markdown",
   "id": "245a8675",
   "metadata": {},
   "source": [
    "Reuters changed its content structure after the book was published. Unfortunately, they *obfuscated* the content so that the methods in the book don't work without massive changes.\n",
    "\n",
    "In this notebook, we stick to the text in the book and download the articles from the Internet archive which still has the old HTML structure."
   ]
  },
  {
   "cell_type": "code",
   "execution_count": 161,
   "id": "b97df0df",
   "metadata": {},
   "outputs": [],
   "source": [
    "WA_PREFIX = \"http://web.archive.org/web/20200118131624/\"\n",
    "html = s.get(WA_PREFIX + url).text"
   ]
  },
  {
   "cell_type": "code",
   "execution_count": 162,
   "id": "0451f257",
   "metadata": {
    "colab": {},
    "colab_type": "code",
    "id": "WD_RSPvooGrj"
   },
   "outputs": [
    {
     "data": {
      "text/plain": [
       "[<h1 class=\"ArticleHeader_headline\">Banned in Boston: Without vaping, medical marijuana patients must adapt</h1>]"
      ]
     },
     "execution_count": 162,
     "metadata": {},
     "output_type": "execute_result"
    }
   ],
   "source": [
    "from bs4 import BeautifulSoup\n",
    "soup = BeautifulSoup(html, 'html.parser')\n",
    "soup.select(\"h1.ArticleHeader_headline\")"
   ]
  },
  {
   "cell_type": "markdown",
   "id": "c156b2aa",
   "metadata": {
    "colab_type": "text",
    "id": "Dlnd63dmoGrn"
   },
   "source": [
    "## Blueprint: extracting the title/headline"
   ]
  },
  {
   "cell_type": "code",
   "execution_count": 163,
   "id": "6dbdecc7",
   "metadata": {
    "colab": {},
    "colab_type": "code",
    "id": "UgQCE-sxoGrn"
   },
   "outputs": [
    {
     "data": {
      "text/plain": [
       "<h1 class=\"ArticleHeader_headline\">Banned in Boston: Without vaping, medical marijuana patients must adapt</h1>"
      ]
     },
     "execution_count": 163,
     "metadata": {},
     "output_type": "execute_result"
    }
   ],
   "source": [
    "soup.h1"
   ]
  },
  {
   "cell_type": "code",
   "execution_count": 164,
   "id": "e8532979",
   "metadata": {
    "colab": {},
    "colab_type": "code",
    "id": "0ZCqzQMWoGrr"
   },
   "outputs": [
    {
     "data": {
      "text/plain": [
       "'Banned in Boston: Without vaping, medical marijuana patients must adapt'"
      ]
     },
     "execution_count": 164,
     "metadata": {},
     "output_type": "execute_result"
    }
   ],
   "source": [
    "soup.h1.text"
   ]
  },
  {
   "cell_type": "code",
   "execution_count": 165,
   "id": "ef2fa0b5",
   "metadata": {
    "colab": {},
    "colab_type": "code",
    "id": "Ew_1sC08oGru"
   },
   "outputs": [
    {
     "data": {
      "text/plain": [
       "'\\n                Banned in Boston: Without vaping, medical marijuana patients must adapt - Reuters'"
      ]
     },
     "execution_count": 165,
     "metadata": {},
     "output_type": "execute_result"
    }
   ],
   "source": [
    "soup.title.text"
   ]
  },
  {
   "cell_type": "code",
   "execution_count": 166,
   "id": "c9e8e071",
   "metadata": {
    "colab": {},
    "colab_type": "code",
    "id": "RZuzfNv4oGry"
   },
   "outputs": [
    {
     "data": {
      "text/plain": [
       "'Banned in Boston: Without vaping, medical marijuana patients must adapt - Reuters'"
      ]
     },
     "execution_count": 166,
     "metadata": {},
     "output_type": "execute_result"
    }
   ],
   "source": [
    "soup.title.text.strip()"
   ]
  },
  {
   "cell_type": "markdown",
   "id": "06eac1df",
   "metadata": {
    "colab_type": "text",
    "id": "hxJFTkKKoGr1"
   },
   "source": [
    "## Blueprint: extracting the article text"
   ]
  },
  {
   "cell_type": "code",
   "execution_count": 167,
   "id": "33e50fa5",
   "metadata": {
    "colab": {},
    "colab_type": "code",
    "id": "F0mU9XmZoGr2"
   },
   "outputs": [
    {
     "data": {
      "text/plain": [
       "'BOSTON (Reuters) - In the first few days of the four-month ban on all vaping products in Massachusetts, Laura Lee Medeiros, a medical marijuana patient, began to worry.\\xa0 FILE PHOTO: An employee puts down an eighth of an ounce marijuana after letting a customer smell it outside the Magnolia cannabis lounge in Oakland, California, U.S. April 20, 2018. REUTERS/Elijah NouvelageThe 32-year-old massage therapist has a diagnosis of post-traumatic stress disorder (PTSD) from childhood trauma. To temper her unpredictable panic attacks, she relied on a vape pen and cartridges filled with the marijuana derivatives THC and CBD from state dispensaries. There are other ways to get the desired effect from  marijuana, and patients have filled dispensaries across the state in recent days to ask about edible or smokeable forms. But Medeiros has come to depend on her battery-powered pen, and wondered how she would cope without her usual supply of cartridges.  “In the midst of something where I’m on the floor, on the verge of passing out, my pen has been very helpful for me to grab,” she said. She carries her vape pen in her purse in case of an emergency, but has only one cartridge left. Massachusetts imposed its ban on all vaping products, including both nicotine- and cannabis-based products, in response to mounting concern about the potential serious health risks. Governor Charlie Baker, a Republican, said the ban would last at least four months while new legislation and regulation is explored.  More than 800 cases of a vaping-related lung disease and 12 deaths across 10 U.S. states have so far been reported by the U.S. Centers for Disease Control and Prevention. Those numbers are expected to climb.  More than three quarters of those with the respiratory illness reported vaping THC, the main psychoactive ingredient of marijuana. Many of them used small e-cigarette cartridges, or “carts,” bought on the black market, where the risk of adulterated products is high. Marijuana remains illegal under federal law, but a growing number of states allow it for medical or recreational use. Massachusetts is one of 10 U.S. states that allows both uses, along with the District of Columbia. Some marijuana users had long eschewed vaping even before the ban, often on the advice of doctors who saw the cocktail of compounds being inhaled into lungs as risky. “I have advised against the vape carts for my patients for a long time exactly out of suspicion of basically what just happened,” said Dr. Ryan Zaklin, a doctor in Salem, Massachusetts. “Who the hell knows what they’re putting in them?” Some patients like vaping because it is more discreet than traditional burning of marijuana “flower.” The devices are small, produce a relatively odorless “vapor” and is fast-acting: a handheld device rapidly heats liquid compounds into an aerosol that can be inhaled into the lungs.  Many of those patients are now asking their doctors or dispensaries about edible forms of marijuana, liquid tinctures that can be dropped under the tongue or old-fashioned flower buds and pre-rolled joints for smoking.  For Medeiros, who lives in the small coastal city of Peabody, other methods are a poor substitute. She found that edibles take time to take effect, typically about an hour. Tinctures seemed to her similarly slow-acting. And rolling a joint while her vision is closing in and she is hyperventilating from a panic attack is nearly impossible, she said. UNEXPECTED BLESSING Medeiros wishes medical marijuana patients had been given time to stock up on the products they use before the ban went into immediate effect.  Pressed on such concerns, the governor has not been swayed to change his decision over what he said was a public health emergency. “There are many alternative uses available to people who currently have prescriptions for medical marijuana and they should pursue those,” Baker told reporters last week, according to local media. But some public health experts have warned the ban may drive more people toward riskier black-market, totally unregulated vape products.      At the New England Treatment Access (NETA) dispensary in Brookline, near Boston, which has become one of the biggest suppliers of medical marijuana since the drug became legalized in the state in 2012, several patients said they view the ban as an unexpected blessing. Denise Sullivan, 62, uses medical marijuana to treat symptoms of her leukemia. She had vaped for more than a year, but stopped after she heard about the ban. During the period she vaped, she contracted pneumonia five times, she said, and now believes that might have been vape related.\\xa0 “I can tell when I vape I am more congested not in my lungs but in my sinuses,” she said. She plans to use edibles, which she said kick in with enough time to treat her pain. Slideshow (2 Images)Kate LeDoux, 49, had a similar experience. She is a runner and used medical marijuana to help recovery from recent foot surgery.  LeDoux stopped vaping a few weeks ago after seeing the news about the lung disease, turning instead to edibles and smoking. Almost immediately, her “weird cough” cleared up and her running times improved, she said. “Now I know it was 100 percent the vaping.” (This story has been refiled to to correct date). Reporting Jacqueline Tempera in Brookline and Boston, Massachusetts, and Jonathan Allen in New York; Editing by Frank McGurty and Bill BerkrotOur Standards:The Thomson Reuters Trust Principles.'"
      ]
     },
     "execution_count": 167,
     "metadata": {},
     "output_type": "execute_result"
    }
   ],
   "source": [
    "soup.select_one(\"div.StandardArticleBody_body\").text"
   ]
  },
  {
   "cell_type": "markdown",
   "id": "f5e1ab5b",
   "metadata": {
    "colab_type": "text",
    "id": "ptO1-Fz8oGr5"
   },
   "source": [
    "## Blueprint: extracting image captions"
   ]
  },
  {
   "cell_type": "code",
   "execution_count": 168,
   "id": "230a8c5b",
   "metadata": {
    "colab": {},
    "colab_type": "code",
    "id": "E0FhMlqAoGr5"
   },
   "outputs": [
    {
     "data": {
      "text/plain": [
       "[<figure class=\"Image_zoom\" style=\"padding-bottom:\"><div class=\"LazyImage_container LazyImage_dark\" style=\"background-image:none\"><img aria-label=\"FILE PHOTO: An employee puts down an eighth of an ounce marijuana after letting a customer smell it outside the Magnolia cannabis lounge in Oakland, California, U.S. April 20, 2018. REUTERS/Elijah Nouvelage\" src=\"//web.archive.org/web/20200118131624im_/https://s3.reutersmedia.net/resources/r/?m=02&amp;d=20191001&amp;t=2&amp;i=1435991144&amp;r=LYNXMPEF9039L&amp;w=20\"/><div class=\"LazyImage_image LazyImage_fallback\" style=\"background-image:url(//web.archive.org/web/20200118131624im_/https://s3.reutersmedia.net/resources/r/?m=02&amp;d=20191001&amp;t=2&amp;i=1435991144&amp;r=LYNXMPEF9039L&amp;w=20);background-position:center center;background-color:inherit\"></div></div><div aria-label=\"Expand Image Slideshow\" class=\"Image_expand-button\" role=\"button\" tabindex=\"0\"><svg focusable=\"false\" height=\"18px\" version=\"1.1\" viewbox=\"0 0 18 18\" width=\"18px\"><path d=\"M16.2928932,1 L12.5,1 C12.2238576,1 12,0.776142375 12,0.5 C12,0.223857625 12.2238576,0 12.5,0 L17.5,0 C17.7761424,0 18,0.223857625 18,0.5 L18,5.5 C18,5.77614237 17.7761424,6 17.5,6 C17.2238576,6 17,5.77614237 17,5.5 L17,1.70710678 L12.8535534,5.85355339 C12.6582912,6.04881554 12.3417088,6.04881554 12.1464466,5.85355339 C11.9511845,5.65829124 11.9511845,5.34170876 12.1464466,5.14644661 L16.2928932,1 Z M1,16.2928932 L5.14644661,12.1464466 C5.34170876,11.9511845 5.65829124,11.9511845 5.85355339,12.1464466 C6.04881554,12.3417088 6.04881554,12.6582912 5.85355339,12.8535534 L1.70710678,17 L5.5,17 C5.77614237,17 6,17.2238576 6,17.5 C6,17.7761424 5.77614237,18 5.5,18 L0.5,18 C0.223857625,18 0,17.7761424 0,17.5 L0,12.5 C0,12.2238576 0.223857625,12 0.5,12 C0.776142375,12 1,12.2238576 1,12.5 L1,16.2928932 Z\"></path></svg></div></figure>,\n",
       " <figure><div class=\"LazyImage_container LazyImage_dark\" style=\"background-image:none\"><img src=\"//web.archive.org/web/20200118131624im_/https://s3.reutersmedia.net/resources/r/?m=02&amp;d=20191001&amp;t=2&amp;i=1435991145&amp;r=LYNXMPEF9039M\"/><div class=\"LazyImage_image LazyImage_fallback\" style=\"background-image:url(//web.archive.org/web/20200118131624im_/https://s3.reutersmedia.net/resources/r/?m=02&amp;d=20191001&amp;t=2&amp;i=1435991145&amp;r=LYNXMPEF9039M);background-position:center center;background-color:inherit\"></div></div><div class=\"Slideshow_expand-button\" role=\"button\" tabindex=\"0\"><svg focusable=\"false\" height=\"18px\" version=\"1.1\" viewbox=\"0 0 18 18\" width=\"18px\"><path d=\"M16.2928932,1 L12.5,1 C12.2238576,1 12,0.776142375 12,0.5 C12,0.223857625 12.2238576,0 12.5,0 L17.5,0 C17.7761424,0 18,0.223857625 18,0.5 L18,5.5 C18,5.77614237 17.7761424,6 17.5,6 C17.2238576,6 17,5.77614237 17,5.5 L17,1.70710678 L12.8535534,5.85355339 C12.6582912,6.04881554 12.3417088,6.04881554 12.1464466,5.85355339 C11.9511845,5.65829124 11.9511845,5.34170876 12.1464466,5.14644661 L16.2928932,1 Z M1,16.2928932 L5.14644661,12.1464466 C5.34170876,11.9511845 5.65829124,11.9511845 5.85355339,12.1464466 C6.04881554,12.3417088 6.04881554,12.6582912 5.85355339,12.8535534 L1.70710678,17 L5.5,17 C5.77614237,17 6,17.2238576 6,17.5 C6,17.7761424 5.77614237,18 5.5,18 L0.5,18 C0.223857625,18 0,17.7761424 0,17.5 L0,12.5 C0,12.2238576 0.223857625,12 0.5,12 C0.776142375,12 1,12.2238576 1,12.5 L1,16.2928932 Z\"></path></svg></div></figure>]"
      ]
     },
     "execution_count": 168,
     "metadata": {},
     "output_type": "execute_result"
    }
   ],
   "source": [
    "soup.select(\"div.StandardArticleBody_body figure\")"
   ]
  },
  {
   "cell_type": "markdown",
   "id": "fc51b3cc",
   "metadata": {
    "colab_type": "text",
    "id": "hDz5FhDaoGr9"
   },
   "source": [
    "Variant"
   ]
  },
  {
   "cell_type": "code",
   "execution_count": 169,
   "id": "a33d4901",
   "metadata": {
    "colab": {},
    "colab_type": "code",
    "id": "BhvgNfE4oGr-"
   },
   "outputs": [
    {
     "data": {
      "text/plain": [
       "[<img aria-label=\"FILE PHOTO: An employee puts down an eighth of an ounce marijuana after letting a customer smell it outside the Magnolia cannabis lounge in Oakland, California, U.S. April 20, 2018. REUTERS/Elijah Nouvelage\" src=\"//web.archive.org/web/20200118131624im_/https://s3.reutersmedia.net/resources/r/?m=02&amp;d=20191001&amp;t=2&amp;i=1435991144&amp;r=LYNXMPEF9039L&amp;w=20\"/>,\n",
       " <img src=\"//web.archive.org/web/20200118131624im_/https://s3.reutersmedia.net/resources/r/?m=02&amp;d=20191001&amp;t=2&amp;i=1435991145&amp;r=LYNXMPEF9039M\"/>]"
      ]
     },
     "execution_count": 169,
     "metadata": {},
     "output_type": "execute_result"
    }
   ],
   "source": [
    "soup.select(\"div.StandardArticleBody_body figure img\")"
   ]
  },
  {
   "cell_type": "code",
   "execution_count": 170,
   "id": "23945dbe",
   "metadata": {
    "colab": {},
    "colab_type": "code",
    "id": "fYs5JpEIoGsB"
   },
   "outputs": [
    {
     "data": {
      "text/plain": [
       "[<figcaption><div class=\"Image_caption\"><span>FILE PHOTO: An employee puts down an eighth of an ounce marijuana after letting a customer smell it outside the Magnolia cannabis lounge in Oakland, California, U.S. April 20, 2018. REUTERS/Elijah Nouvelage</span></div></figcaption>,\n",
       " <figcaption class=\"Slideshow_caption\">Slideshow<span class=\"Slideshow_count\"> (2 Images)</span></figcaption>]"
      ]
     },
     "execution_count": 170,
     "metadata": {},
     "output_type": "execute_result"
    }
   ],
   "source": [
    "soup.select(\"div.StandardArticleBody_body figcaption\")"
   ]
  },
  {
   "cell_type": "markdown",
   "id": "86d3191d",
   "metadata": {
    "colab_type": "text",
    "id": "y3FiDGEwoGsE"
   },
   "source": [
    "## Blueprint: extracting the URL"
   ]
  },
  {
   "cell_type": "code",
   "execution_count": 171,
   "id": "607dcaea",
   "metadata": {
    "colab": {},
    "colab_type": "code",
    "id": "gBSlxZ_YoGsE"
   },
   "outputs": [
    {
     "data": {
      "text/plain": [
       "'http://web.archive.org/web/20200118131624/https://www.reuters.com/article/us-health-vaping-marijuana-idUSKBN1WG4KT'"
      ]
     },
     "execution_count": 171,
     "metadata": {},
     "output_type": "execute_result"
    }
   ],
   "source": [
    "soup.find(\"link\", {'rel': 'canonical'})['href']"
   ]
  },
  {
   "cell_type": "code",
   "execution_count": 172,
   "id": "b1ea7eb9",
   "metadata": {
    "colab": {},
    "colab_type": "code",
    "id": "foiJRIbqoGsI"
   },
   "outputs": [
    {
     "data": {
      "text/plain": [
       "'http://web.archive.org/web/20200118131624/https://www.reuters.com/article/us-health-vaping-marijuana-idUSKBN1WG4KT'"
      ]
     },
     "execution_count": 172,
     "metadata": {},
     "output_type": "execute_result"
    }
   ],
   "source": [
    "soup.select_one(\"link[rel=canonical]\")['href']"
   ]
  },
  {
   "cell_type": "markdown",
   "id": "0aa534e1",
   "metadata": {
    "colab_type": "text",
    "id": "YLTcC-5noGsP"
   },
   "source": [
    "## Blueprint: extracting list information (authors)"
   ]
  },
  {
   "cell_type": "code",
   "execution_count": 173,
   "id": "f68c652c",
   "metadata": {
    "colab": {},
    "colab_type": "code",
    "id": "zlZ8yscxoGsP"
   },
   "outputs": [
    {
     "data": {
      "text/plain": [
       "'Jacqueline Tempera'"
      ]
     },
     "execution_count": 173,
     "metadata": {},
     "output_type": "execute_result"
    }
   ],
   "source": [
    "soup.find(\"meta\", {'name': 'Author'})['content']"
   ]
  },
  {
   "cell_type": "markdown",
   "id": "6b537050",
   "metadata": {
    "colab_type": "text",
    "id": "GOQ5THTUoGsS"
   },
   "source": [
    "Variant"
   ]
  },
  {
   "cell_type": "code",
   "execution_count": 174,
   "id": "8f07a285",
   "metadata": {
    "colab": {},
    "colab_type": "code",
    "id": "7jmcyPksoGsT"
   },
   "outputs": [
    {
     "data": {
      "text/plain": [
       "[<span><a href=\"/web/20200118131624/https://www.reuters.com/journalists/jacqueline-tempera\" target=\"_blank\">Jacqueline Tempera</a>, </span>,\n",
       " <span><a href=\"/web/20200118131624/https://www.reuters.com/journalists/jonathan-allen\" target=\"_blank\">Jonathan Allen</a></span>]"
      ]
     },
     "execution_count": 174,
     "metadata": {},
     "output_type": "execute_result"
    }
   ],
   "source": [
    "sel = \"div.BylineBar_first-container.ArticleHeader_byline-bar div.BylineBar_byline span\"\n",
    "soup.select(sel)"
   ]
  },
  {
   "cell_type": "code",
   "execution_count": 175,
   "id": "e053455a",
   "metadata": {
    "colab": {},
    "colab_type": "code",
    "id": "9e2XK_1noGsV"
   },
   "outputs": [
    {
     "data": {
      "text/plain": [
       "['Jacqueline Tempera, ', 'Jonathan Allen']"
      ]
     },
     "execution_count": 175,
     "metadata": {},
     "output_type": "execute_result"
    }
   ],
   "source": [
    "[a.text for a in soup.select(sel)]"
   ]
  },
  {
   "cell_type": "markdown",
   "id": "c44edacc",
   "metadata": {
    "colab_type": "text",
    "id": "CIrBNBLDoGsX"
   },
   "source": [
    "## Blueprint: Extracting text of links (section)\n"
   ]
  },
  {
   "cell_type": "code",
   "execution_count": 176,
   "id": "b390e97f",
   "metadata": {
    "colab": {},
    "colab_type": "code",
    "id": "qJn4FH22oGsX"
   },
   "outputs": [
    {
     "data": {
      "text/plain": [
       "'Health News'"
      ]
     },
     "execution_count": 176,
     "metadata": {},
     "output_type": "execute_result"
    }
   ],
   "source": [
    "soup.select_one(\"div.ArticleHeader_channel a\").text"
   ]
  },
  {
   "cell_type": "markdown",
   "id": "fd97d70d",
   "metadata": {
    "colab_type": "text",
    "id": "zDbe8eYHoGsZ"
   },
   "source": [
    "## Blueprint: Extracting reading time"
   ]
  },
  {
   "cell_type": "code",
   "execution_count": 177,
   "id": "7493f75e",
   "metadata": {
    "colab": {},
    "colab_type": "code",
    "id": "c0CXIk3CoGsa"
   },
   "outputs": [
    {
     "data": {
      "text/plain": [
       "'6 Min Read'"
      ]
     },
     "execution_count": 177,
     "metadata": {},
     "output_type": "execute_result"
    }
   ],
   "source": [
    "soup.select_one(\"p.BylineBar_reading-time\").text"
   ]
  },
  {
   "cell_type": "markdown",
   "id": "dc4a9274",
   "metadata": {
    "colab_type": "text",
    "id": "ICCaNKEKoGse"
   },
   "source": [
    "## Blueprint: extracting attributes (id)"
   ]
  },
  {
   "cell_type": "code",
   "execution_count": 178,
   "id": "811f345e",
   "metadata": {
    "colab": {},
    "colab_type": "code",
    "id": "bh16e7BDoGsf"
   },
   "outputs": [
    {
     "data": {
      "text/plain": [
       "'USKBN1WG4KT'"
      ]
     },
     "execution_count": 178,
     "metadata": {},
     "output_type": "execute_result"
    }
   ],
   "source": [
    "soup.select_one(\"div.StandardArticle_inner-container\")['id']"
   ]
  },
  {
   "cell_type": "markdown",
   "id": "193feb3b",
   "metadata": {
    "colab_type": "text",
    "id": "-SQdx0SeoGsh"
   },
   "source": [
    "Alternative: URL"
   ]
  },
  {
   "cell_type": "markdown",
   "id": "7bd7620c",
   "metadata": {
    "colab_type": "text",
    "id": "nKV2JMERoGsi"
   },
   "source": [
    "## Blueprint: Extracting Attribution"
   ]
  },
  {
   "cell_type": "code",
   "execution_count": 179,
   "id": "1b065c4e",
   "metadata": {
    "colab": {},
    "colab_type": "code",
    "id": "QJdtBuLCoGsi"
   },
   "outputs": [
    {
     "data": {
      "text/plain": [
       "'Reporting Jacqueline Tempera in Brookline and Boston, Massachusetts, and Jonathan Allen in New York; Editing by Frank McGurty and Bill Berkrot'"
      ]
     },
     "execution_count": 179,
     "metadata": {},
     "output_type": "execute_result"
    }
   ],
   "source": [
    "soup.select_one(\"p.Attribution_content\").text"
   ]
  },
  {
   "cell_type": "markdown",
   "id": "21049d78",
   "metadata": {
    "colab_type": "text",
    "id": "QIPmYxxwoGsl"
   },
   "source": [
    "## Blueprint: Extracting Timestamp"
   ]
  },
  {
   "cell_type": "code",
   "execution_count": 180,
   "id": "040225a3",
   "metadata": {
    "colab": {},
    "colab_type": "code",
    "id": "jzY1mJF2oGsl"
   },
   "outputs": [
    {
     "name": "stdout",
     "output_type": "stream",
     "text": [
      "2019-10-01T19:23:16+0000\n"
     ]
    }
   ],
   "source": [
    "ptime = soup.find(\"meta\", { 'property': \"og:article:published_time\"})['content']\n",
    "print(ptime)"
   ]
  },
  {
   "cell_type": "code",
   "execution_count": 181,
   "id": "032bd6b1",
   "metadata": {
    "colab": {},
    "colab_type": "code",
    "id": "jDg1g_AOoGsn"
   },
   "outputs": [
    {
     "data": {
      "text/plain": [
       "datetime.datetime(2019, 10, 1, 19, 23, 16, tzinfo=tzutc())"
      ]
     },
     "execution_count": 181,
     "metadata": {},
     "output_type": "execute_result"
    }
   ],
   "source": [
    "from dateutil import parser\n",
    "parser.parse(ptime)"
   ]
  },
  {
   "cell_type": "code",
   "execution_count": 182,
   "id": "ec05d681",
   "metadata": {
    "colab": {},
    "colab_type": "code",
    "id": "Hflw65HJoGsq"
   },
   "outputs": [
    {
     "data": {
      "text/plain": [
       "datetime.datetime(2019, 10, 1, 19, 23, 16, tzinfo=tzutc())"
      ]
     },
     "execution_count": 182,
     "metadata": {},
     "output_type": "execute_result"
    }
   ],
   "source": [
    "parser.parse(soup.find(\"meta\", { 'property': \"og:article:modified_time\"})['content'])"
   ]
  },
  {
   "cell_type": "markdown",
   "id": "3807cfe1",
   "metadata": {
    "colab_type": "text",
    "id": "sEOq6qbhoGtS"
   },
   "source": [
    "# Blueprint Density extraction"
   ]
  },
  {
   "cell_type": "code",
   "execution_count": 203,
   "id": "2bcf16e1",
   "metadata": {
    "colab": {},
    "colab_type": "code",
    "id": "nSXyuG3koGtS"
   },
   "outputs": [
    {
     "data": {
      "text/plain": [
       "'Banned in Boston: Without vaping, medical marijuana patients must adapt - Reuters'"
      ]
     },
     "execution_count": 203,
     "metadata": {},
     "output_type": "execute_result"
    }
   ],
   "source": [
    "\n",
    "#!pip install readability-lxml\n",
    "from readability import Document\n",
    "\n",
    "doc = Document(html)\n",
    "doc.title()"
   ]
  },
  {
   "cell_type": "code",
   "execution_count": 204,
   "id": "9dc5cb60",
   "metadata": {
    "colab": {},
    "colab_type": "code",
    "id": "pIdpL1uioGtV"
   },
   "outputs": [
    {
     "data": {
      "text/plain": [
       "'Banned in Boston: Without vaping, medical marijuana patients must adapt'"
      ]
     },
     "execution_count": 204,
     "metadata": {},
     "output_type": "execute_result"
    }
   ],
   "source": [
    "doc.short_title()"
   ]
  },
  {
   "cell_type": "code",
   "execution_count": 205,
   "id": "f7e9526f",
   "metadata": {
    "colab": {},
    "colab_type": "code",
    "id": "miUQs2hSoGtY"
   },
   "outputs": [
    {
     "data": {
      "text/plain": [
       "'<html><body><div><div class=\"StandardArticleBody_body\"><p>BOSTON (Reuters) - In the first few days of the four-month ban on all vaping products in Massachusetts, Laura Lee Medeiros, a medical marijuana patient, began to worry.\\xa0 </p><div class=\"PrimaryAsset_container\"><div class=\"Image_container\" tabindex=\"-1\"><figure class=\"Image_zoom\"></figure><figcaption><p class=\"Image_caption\"><span>FILE PHOTO: An employee puts down an eighth of an ounce marijuana after letting a customer smell it outside the Magnolia cannabis lounge in Oakland, California, U.S. April 20, 2018. REUTERS/Elijah Nouvelage</span></p></figcaption></div></div><p>The 32-year-old massage therapist has a diagnosis of post-traumatic stress disorder (PTSD) from childhood trauma. To temper her unpredictable panic attacks, she relied on a vape pen and cartridges filled with the marijuana derivatives THC and CBD from state dispensaries. </p><p>There are other ways to get the desired effect from  marijuana, and patients have filled dispensaries across the state in recent days to ask about edible or smokeable forms. But Medeiros has come to depend on her battery-powered pen, and wondered how she would cope without her usual supply of cartridges.  </p><p>“In the midst of something where I’m on the floor, on the verge of passing out, my pen has been very helpful for me to grab,” she said. She carries her vape pen in her purse in case of an emergency, but has only one cartridge left. </p><p>Massachusetts imposed its ban on all vaping products, including both nicotine- and cannabis-based products, in response to mounting concern about the potential serious health risks. Governor Charlie Baker, a Republican, said the ban would last at least four months while new legislation and regulation is explored.  </p><p>More than 800 cases of a vaping-related lung disease and 12 deaths across 10 U.S. states have so far been reported by the U.S. Centers for Disease Control and Prevention. Those numbers are expected to climb.  </p><p>More than three quarters of those with the respiratory illness reported vaping THC, the main psychoactive ingredient of marijuana. Many of them used small e-cigarette cartridges, or “carts,” bought on the black market, where the risk of adulterated products is high. </p><p>Marijuana remains illegal under federal law, but a growing number of states allow it for medical or recreational use. Massachusetts is one of 10 U.S. states that allows both uses, along with the District of Columbia. </p><p>Some marijuana users had long eschewed vaping even before the ban, often on the advice of doctors who saw the cocktail of compounds being inhaled into lungs as risky. </p><p>“I have advised against the vape carts for my patients for a long time exactly out of suspicion of basically what just happened,” said Dr. Ryan Zaklin, a doctor in Salem, Massachusetts. “Who the hell knows what they’re putting in them?” </p><p>Some patients like vaping because it is more discreet than traditional burning of marijuana “flower.” The devices are small, produce a relatively odorless “vapor” and is fast-acting: a handheld device rapidly heats liquid compounds into an aerosol that can be inhaled into the lungs.  </p><p>Many of those patients are now asking their doctors or dispensaries about edible forms of marijuana, liquid tinctures that can be dropped under the tongue or old-fashioned flower buds and pre-rolled joints for smoking.  </p><p>For Medeiros, who lives in the small coastal city of Peabody, other methods are a poor substitute. She found that edibles take time to take effect, typically about an hour. Tinctures seemed to her similarly slow-acting. And rolling a joint while her vision is closing in and she is hyperventilating from a panic attack is nearly impossible, she said. </p><h3>UNEXPECTED BLESSING </h3><p>Medeiros wishes medical marijuana patients had been given time to stock up on the products they use before the ban went into immediate effect.  </p><p>Pressed on such concerns, the governor has not been swayed to change his decision over what he said was a public health emergency. </p><p>“There are many alternative uses available to people who currently have prescriptions for medical marijuana and they should pursue those,” Baker told reporters last week, according to local media. </p><p>But some public health experts have warned the ban may drive more people toward riskier black-market, totally unregulated vape products.      </p><p>At the New England Treatment Access (NETA) dispensary in Brookline, near Boston, which has become one of the biggest suppliers of medical marijuana since the drug became legalized in the state in 2012, several patients said they view the ban as an unexpected blessing. </p><p>Denise Sullivan, 62, uses medical marijuana to treat symptoms of her leukemia. She had vaped for more than a year, but stopped after she heard about the ban. During the period she vaped, she contracted pneumonia five times, she said, and now believes that might have been vape related.\\xa0 </p><p>“I can tell when I vape I am more congested not in my lungs but in my sinuses,” she said. She plans to use edibles, which she said kick in with enough time to treat her pain. </p><p>Kate LeDoux, 49, had a similar experience. She is a runner and used medical marijuana to help recovery from recent foot surgery.  LeDoux stopped vaping a few weeks ago after seeing the news about the lung disease, turning instead to edibles and smoking. </p><p>Almost immediately, her “weird cough” cleared up and her running times improved, she said. “Now I know it was 100 percent the vaping.” </p><p>(This story has been refiled to to correct date). </p><div class=\"Attribution_container\"><div class=\"Attribution_attribution\"><p class=\"Attribution_content\">Reporting Jacqueline Tempera in Brookline and Boston, Massachusetts, and Jonathan Allen in New York; Editing by Frank McGurty and Bill Berkrot</p></div></div></div></div></body></html>'"
      ]
     },
     "execution_count": 205,
     "metadata": {},
     "output_type": "execute_result"
    }
   ],
   "source": [
    "doc.summary()"
   ]
  },
  {
   "cell_type": "code",
   "execution_count": 206,
   "id": "6ef25f22",
   "metadata": {
    "colab": {},
    "colab_type": "code",
    "id": "djroMQLJoGtb"
   },
   "outputs": [],
   "source": [
    "doc.url"
   ]
  },
  {
   "cell_type": "code",
   "execution_count": 207,
   "id": "b8d380dd",
   "metadata": {
    "colab": {},
    "colab_type": "code",
    "id": "jP7u6JetoGtm",
    "scrolled": true
   },
   "outputs": [
    {
     "data": {
      "text/plain": [
       "'BOSTON (Reuters) - In the first few days of the four-month ban on all vaping products in Massachusetts, Laura Lee Medeiros, a medical marijuana patient, began to worry.\\xa0 FILE PHOTO: An employee puts down an eighth of an ounce marijuana after letting a customer smell it outside the Magnolia cannabis lounge in Oakland, California, U.S. April 20, 2018. REUTERS/Elijah NouvelageThe 32-year-old massage therapist has a diagnosis of post-traumatic stress disorder (PTSD) from childhood trauma. To temper her unpredictable panic attacks, she relied on a vape pen and cartridges filled with the marijuana derivatives THC and CBD from state dispensaries. There are other ways to get the desired effect from  marijuana, and patients have filled dispensaries across the state in recent days to ask about edible or smokeable forms. But Medeiros has come to depend on her battery-powered pen, and wondered how she would cope without her usual supply of cartridges.  “In the midst of something where I’m on the floor, on the verge of passing out, my pen has been very helpful for me to grab,” she said. She carries her vape pen in her purse in case of an emergency, but has only one cartridge left. Massachusetts imposed its ban on all vaping products, including both nicotine- and cannabis-based products, in response to mounting concern about the potential serious health risks. Governor Charlie Baker, a Republican, said the ban would last at least four months while new legislation and regulation is explored.  More than 800 cases of a vaping-related lung disease and 12 deaths across 10 U.S. states have so far been reported by the U.S. Centers for Disease Control and Prevention. Those numbers are expected to climb.  More than three quarters of those with the respiratory illness reported vaping THC, the main psychoactive ingredient of marijuana. Many of them used small e-cigarette cartridges, or “carts,” bought on the black market, where the risk of adulterated products is high. Marijuana remains illegal under federal law, but a growing number of states allow it for medical or recreational use. Massachusetts is one of 10 U.S. states that allows both uses, along with the District of Columbia. Some marijuana users had long eschewed vaping even before the ban, often on the advice of doctors who saw the cocktail of compounds being inhaled into lungs as risky. “I have advised against the vape carts for my patients for a long time exactly out of suspicion of basically what just happened,” said Dr. Ryan Zaklin, a doctor in Salem, Massachusetts. “Who the hell knows what they’re putting in them?” Some patients like vaping because it is more discreet than traditional burning of marijuana “flower.” The devices are small, produce a relatively odorless “vapor” and is fast-acting: a handheld device rapidly heats liquid compounds into an aerosol that can be inhaled into the lungs.  Many of those patients are now asking their doctors or dispensaries about edible forms of marijuana, liquid tinctures that can be dropped under the tongue or old-fashioned flower buds and pre-rolled joints for smoking.  For Medeiros, who lives in the small coastal city of Peabody, other methods are a poor substitute. She found that edibles take time to take effect, typically about an hour. Tinctures seemed to her similarly slow-acting. And rolling a joint while her vision is closing in and she is hyperventilating from a panic attack is nearly impossible, she said. UNEXPECTED BLESSING Medeiros wishes medical marijuana patients had been given time to stock up on the products they use before the ban went into immediate effect.  Pressed on such concerns, the governor has not been swayed to change his decision over what he said was a public health emergency. “There are many alternative uses available to people who currently have prescriptions for medical marijuana and they should pursue those,” Baker told reporters last week, according to local media. But some public health experts have warned the ban may drive more people toward riskier black-market, totally unregulated vape products.      At the New England Treatment Access (NETA) dispensary in Brookline, near Boston, which has become one of the biggest suppliers of medical marijuana since the drug became legalized in the state in 2012, several patients said they view the ban as an unexpected blessing. Denise Sullivan, 62, uses medical marijuana to treat symptoms of her leukemia. She had vaped for more than a year, but stopped after she heard about the ban. During the period she vaped, she contracted pneumonia five times, she said, and now believes that might have been vape related.\\xa0 “I can tell when I vape I am more congested not in my lungs but in my sinuses,” she said. She plans to use edibles, which she said kick in with enough time to treat her pain. Kate LeDoux, 49, had a similar experience. She is a runner and used medical marijuana to help recovery from recent foot surgery.  LeDoux stopped vaping a few weeks ago after seeing the news about the lung disease, turning instead to edibles and smoking. Almost immediately, her “weird cough” cleared up and her running times improved, she said. “Now I know it was 100 percent the vaping.” (This story has been refiled to to correct date). Reporting Jacqueline Tempera in Brookline and Boston, Massachusetts, and Jonathan Allen in New York; Editing by Frank McGurty and Bill Berkrot'"
      ]
     },
     "execution_count": 207,
     "metadata": {},
     "output_type": "execute_result"
    }
   ],
   "source": [
    "density_soup = BeautifulSoup(doc.summary(), 'html.parser')\n",
    "density_soup.body.text"
   ]
  },
  {
   "cell_type": "markdown",
   "id": "b4518fd5",
   "metadata": {
    "colab_type": "text",
    "id": "gRII_OGyoGto"
   },
   "source": [
    "# Blueprint: Scrapy"
   ]
  },
  {
   "cell_type": "markdown",
   "id": "ea904cbd",
   "metadata": {},
   "source": [
    "Unfortunately, the code for `scrapy` cannot be changed easily. One more argument for using *up to date* separate libraries. In this version, it still collects the titles of the articles but not more."
   ]
  },
  {
   "cell_type": "code",
   "execution_count": 208,
   "id": "19500fe4",
   "metadata": {
    "colab": {},
    "colab_type": "code",
    "id": "Ca8x2bg_oGto"
   },
   "outputs": [],
   "source": [
    "# might need to install scrapy\n",
    "import scrapy\n",
    "import logging\n",
    "\n",
    "\n",
    "class ReutersArchiveSpider(scrapy.Spider):\n",
    "    name = 'reuters-archive'\n",
    "    \n",
    "    custom_settings = {\n",
    "        'LOG_LEVEL': logging.WARNING,\n",
    "        'FEED_FORMAT': 'json',\n",
    "        'FEED_URI': 'reuters-archive.json'\n",
    "    }\n",
    "    \n",
    "    start_urls = [\n",
    "        'https://www.reuters.com/news/archive/',\n",
    "    ]\n",
    "\n",
    "    def parse(self, response):\n",
    "        for article in response.css(\"article.story div.story-content a\"):\n",
    "            yield response.follow(article.css(\"a::attr(href)\").extract_first(), self.parse_article)\n",
    "\n",
    "        next_page_url = response.css('a.control-nav-next::attr(href)').extract_first()\n",
    "        if (next_page_url is not None) & ('page=2' not in next_page_url):\n",
    "            yield response.follow(next_page_url, self.parse)\n",
    "\n",
    "    def parse_article(self, response):\n",
    "        yield {\n",
    "          'title': response.css('h1::text').extract_first().strip(),\n",
    "        }"
   ]
  },
  {
   "cell_type": "code",
   "execution_count": 209,
   "id": "3a297470",
   "metadata": {
    "colab": {},
    "colab_type": "code",
    "id": "Mxs6xAtnoGtr",
    "scrolled": false
   },
   "outputs": [
    {
     "name": "stderr",
     "output_type": "stream",
     "text": [
      "2024-02-07 02:01:15 [scrapy.utils.log] INFO: Scrapy 2.8.0 started (bot: scrapybot)\n",
      "2024-02-07 02:01:15 [scrapy.utils.log] INFO: Versions: lxml 4.9.2.0, libxml2 2.10.3, cssselect 1.1.0, parsel 1.6.0, w3lib 1.21.0, Twisted 22.10.0, Python 3.11.4 | packaged by Anaconda, Inc. | (main, Jul  5 2023, 13:38:37) [MSC v.1916 64 bit (AMD64)], pyOpenSSL 23.2.0 (OpenSSL 1.1.1w  11 Sep 2023), cryptography 41.0.2, Platform Windows-10-10.0.22621-SP0\n",
      "2024-02-07 02:01:15 [scrapy.crawler] INFO: Overridden settings:\n",
      "{'LOG_LEVEL': 30}\n"
     ]
    }
   ],
   "source": [
    "# this can be run only once from a Jupyter notebook due to Twisted\n",
    "from scrapy.crawler import CrawlerProcess\n",
    "process = CrawlerProcess()\n",
    "\n",
    "process.crawl(ReutersArchiveSpider)\n",
    "process.start()"
   ]
  },
  {
   "cell_type": "code",
   "execution_count": 210,
   "id": "7c58cf01",
   "metadata": {
    "colab": {},
    "colab_type": "code",
    "id": "l_jfvbozoGty"
   },
   "outputs": [
    {
     "data": {
      "text/plain": [
       "['reuters-archive.json']"
      ]
     },
     "execution_count": 210,
     "metadata": {},
     "output_type": "execute_result"
    }
   ],
   "source": [
    "glob.glob(\"*.json\")"
   ]
  },
  {
   "cell_type": "code",
   "execution_count": 211,
   "id": "f1ceef03",
   "metadata": {
    "colab": {},
    "colab_type": "code",
    "id": "2SZPLsUqoGt0"
   },
   "outputs": [
    {
     "name": "stderr",
     "output_type": "stream",
     "text": [
      "'cat' is not recognized as an internal or external command,\n",
      "operable program or batch file.\n"
     ]
    }
   ],
   "source": [
    "!cat 'reuters-archive.json' #find the error!"
   ]
  },
  {
   "cell_type": "markdown",
   "id": "1db003da",
   "metadata": {},
   "source": [
    "## As part of your learning, you should start try doing error handling. Please check what is the error in the above step and try to solve it or findan alternative."
   ]
  },
  {
   "attachments": {
    "image-2.png": {
     "image/png": "[encoded data removed]"
    }
   },
   "cell_type": "markdown",
   "id": "53c72056",
   "metadata": {},
   "source": [
    "![image-2.png](attachment:image-2.png)"
   ]
  },
  {
   "cell_type": "markdown",
   "id": "6c066132",
   "metadata": {},
   "source": []
  }
 ],
 "metadata": {
  "kernelspec": {
   "display_name": "Python 3 (ipykernel)",
   "language": "python",
   "name": "python3"
  },
  "language_info": {
   "codemirror_mode": {
    "name": "ipython",
    "version": 3
   },
   "file_extension": ".py",
   "mimetype": "text/x-python",
   "name": "python",
   "nbconvert_exporter": "python",
   "pygments_lexer": "ipython3",
   "version": "3.8.18"
  }
 },
 "nbformat": 4,
 "nbformat_minor": 5
}
