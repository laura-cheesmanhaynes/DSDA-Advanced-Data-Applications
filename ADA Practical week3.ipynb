{
 "cells": [
  {
   "cell_type": "markdown",
   "id": "3d61b441",
   "metadata": {},
   "source": [
    "Week 1 & 2 consolidation"
   ]
  },
  {
   "cell_type": "markdown",
   "id": "2571e224",
   "metadata": {},
   "source": [
    "# Assignment\n",
    " \n",
    "Part 1: Read text from URL and implement the following steps\n",
    " \n",
    "1. Clean the text.\n",
    "2. Find the count of all words.\n",
    "3. Plot the most 15 most frequent words in the text.\n",
    "4. Extract some information such as time, numbers, or any other information you find important."
   ]
  },
  {
   "cell_type": "code",
   "execution_count": 61,
   "id": "0bc0a891",
   "metadata": {},
   "outputs": [],
   "source": [
    "# Install wikipedia package to read wiki pages\n",
    "#!pip install wikipedia\n",
    "import wikipedia"
   ]
  },
  {
   "cell_type": "code",
   "execution_count": 62,
   "id": "1e5a500a",
   "metadata": {},
   "outputs": [
    {
     "name": "stdout",
     "output_type": "stream",
     "text": [
      "Dookie is the third studio album by the American rock band Green Day, released on February 1, 1994, by Reprise Records. The band's major label debut and first collaboration with producer Rob Cavallo, it was recorded in mid-1993 at Fantasy Studios in Berkeley, California. Written mostly by frontman and guitarist Billie Joe Armstrong, the album is largely based on his personal experiences and includes themes such as boredom, anxiety, relationships, and sexuality. It was promoted with four singles: \"Longview\", \"Basket Case\", a re-recorded version of \"Welcome to Paradise\" (which originally appeared on the band's second studio album, 1991's Kerplunk), and \"When I Come Around\".\n",
      "After several years of grunge's dominance in popular music, Dookie brought a livelier, more melodic rock sound to the mainstream and propelled Green Day to worldwide fame. Considered one of the defining albums of the 1990s and of punk rock in general, it was also pivotal in solidifying the genre's mainstream popularity. Its influence continued into the new millennium and beyond, being cited as an inspiration by many punk and pop-punk bands as well as artists from other genres.\n",
      "Dookie received critical acclaim upon its release, although some early fans called the band a sellout for leaving its independent label (Lookout! Records) and embracing a more polished sound. The record won a Grammy Award for Best Alternative Album in 1995. It was a worldwide success, peaking at number two on the Billboard 200 in the United States and reaching top ten positions in several other countries. Dookie was later certified Diamond by the Recording Industry Association of America (RIAA). It has sold over 20 million copies worldwide, making it the band's best-selling album and one of the best-selling albums of all time. It has been labeled by critics and journalists as one of the greatest albums of the 1990s and one of the greatest punk rock and pop-punk albums of all time. Rolling Stone placed Dookie on three iterations of its \"500 Greatest Albums of All Time\" list, and at number 1 on its \"50 Greatest Pop-Punk Albums\" list.A 30th-anniversary deluxe edition of the album, released on September 29, 2023, includes outtakes, demos, and two live concert recordings.\n",
      "\n",
      "\n",
      "== Background ==\n",
      "With the success in the independent world of their first two albums 39/Smooth (1990) and Kerplunk (1991), which sold 30,000 units each, a number of major record labels became interested in Green Day. Among those labels were Sony, Warner Bros., Geffen and Interscope. Representatives of these labels attempted to entice the band to sign by inviting them for meals to discuss a deal, with one manager even inviting the group to Disneyland. The band declined these advances; Armstrong believed that the labels were more than likely looking for something that resembled a grunge band, namely \"second- and third-rate Nirvanas and Soundgardens\", and they did not want to conform to a label's vision. That changed when they met producer and A&R representative Rob Cavallo of Reprise, a subsidiary of Warner Bros. The band played Beatles covers for him for 40 minutes, then Cavallo picked up his own guitar and jammed with them. They were impressed by his work with fellow Californian band The Muffs, and later remarked that Cavallo \"was the only person we could really talk to and connect with\".Eventually, the band left their independent record label, Lookout! Records, on friendly terms. They signed a five-album deal with Reprise in April 1993. The deal secured Cavallo as the producer of the first record and allowed the band to retain the rights to its albums on Lookout!. Signing to a major label caused many of Green Day's original fans to label them sell-outs, including the influential punk fanzine Maximumrocknroll and the independent music club 924 Gilman Street. After Green Day's September 3 gig at 924 Gilman Street, the venue banned the group from entering or playing. Reflecting back on the period, lead vocalist Billie Joe Armstrong told Spin magazine in 1999, \"I couldn't go back to the punk scene, whether we were the biggest success in the world or the biggest failure [...] The only thing I could do was get on my bike and go forward.\" The group later returned in 2015 to play a benefit concert.\n",
      "\n",
      "\n",
      "== Recording ==\n",
      "Following the band's last Gilman Street performance, Green Day demoed the songs \"She\", \"Sassafras Roots\", \"Pulling Teeth\" and \"F.O.D.\" on Armstrong's four-track tape recorder and sent it to Cavallo. After listening to it, Cavallo sensed that \"[he] had stumbled on something big.\" However, he recognized that the band members were struggling to play their best; he reasoned that they were anxious because the most time they had previously spent recording an album was three days while recording Kerplunk. To lighten the mood, he invited them to a Mexican restaurant and bar down the street from Fantasy Studios, even though drummer Tré Cool was not of legal drinking age at the time. Armstrong confirmed the band's anxiety in an interview years later, describing the group feeling \"like little kids in a candy store\" and fearing that the band would lose money on work being scrapped by the label for not meeting standards. Despite this, they focused on making the most of the new production resources at their disposal; unlike their previous albums where the band had to rush to complete them to save money, the band took their time to perfect the quality of their output. Armstrong noted that he learned \"how to dial in good sounds, get the best guitar tones. I was able to take a little time doing vocals.\"Recording took place over the course of three weeks at Fantasy, and the album was mixed twice by Jerry Finn. Though the band took their time to make a quality product as a whole, Armstrong's vocals were still recorded very quickly; he recorded about 16 or 17 songs in two days, most of them in a single take. Armstrong said the band at first \"wanted it to sound really dry, the same way the Sex Pistols record or the early Black Sabbath records sounded\", but the band found the result of this approach to be an unsatisfactory original mix. Cavallo agreed, and it was remixed at Fantasy Studios in Berkeley, California. Armstrong later said of their studio experience, \"Everything was already written, all we had to do was play it.\" Among the material recorded but not included on the album was \"Good Riddance (Time of Your Life)\", which would later be re-recorded for the band's 1997 album Nimrod and become a hit in its own right. The band also recorded new versions of the songs \"Welcome to Paradise\" and \"Christie Rd.\" from their second album Kerplunk and \"409 in your Coffeemaker\" from their second EP Slappy, though only \"Welcome to Paradise\" would make it onto the final album.\n",
      "\n",
      "\n",
      "== Writing and composition ==\n",
      "Much of Dookie's content was written by Armstrong, except \"Emenius Sleepus\", which was written by bassist Mike Dirnt, and the hidden track, \"All by Myself\", which was written by drummer Tré Cool. The album touched upon various experiences of the band members and included subjects such as anxiety and panic attacks, masturbation, sexual orientation, boredom, mass murder, divorce, domestic abuse, and ex-girlfriends. PopMatters summarized the album's theme as \"a record that speaks of the frustrations, anxieties, and apathy of young people\". Stylistically, the album has been categorized primarily as punk rock, but also as pop-punk and as a \"power pop take\" on skate punk. Influences from the Ramones and the Sex Pistols were noted in Armstrong's guitar technique throughout the album; he recorded the album almost entirely with his Fernandes Stratocaster, which he named \"Blue\".\n",
      "\n",
      "\n",
      "=== Songs 1–7 ===\n",
      "\n",
      "Dookie opens with \"Burnout\", a \"speedy, antsy rocker\" centered around a central character's feelings of general apathy toward life. Armstrong wrote the song \"Having a Blast\" when he was in Cleveland in June 1992. The song revolves around a mentally ill character who plans to use explosives to kill himself and others. This was not regarded as a serious issue at the time, as the social climate could allow the song to be viewed as \"mere cathartic fantasy\", but later incidents such as the 1999 Columbine High School massacre have made the song the \"most uncomfortable track\" on the album. On \"Chump\", Armstrong takes the perspective of someone who shows prejudice, insulting another person without actually knowing him or her. At the end of the song, it is revealed that the disliked person in question matches Armstrong's description of himself. \"Chump\" is also the first of three songs that allude to \"Amanda\", a former girlfriend of Armstrong's. The album's first single, \"Longview\", had a signature bass line that bassist Dirnt wrote while under the influence of LSD. In an interview with Guitar World in 2002, Armstrong described the character in the song as based on himself when he lived in Rodeo, California: \"There was nothing to do there, and it was a real boring place.\" To entertain himself, the character does nothing but watch television, smoke marijuana, and masturbate, and has little motivation to change these habits despite tiring of the same cycle of behaviors.\"Welcome to Paradise\", the third single from Dookie, originally appeared on the band's second studio album, Kerplunk!. The newer version has better sound quality. The song was written about Armstrong's experiences living in bad neighborhoods around Oakland, California. \"Pulling Teeth\", one of the album's slower songs, uses dark humor about domestic violence. The typical victim and perpetrator are reversed; the male narrator is at the mercy of his partner. The band's inspiration for this song came from a pillow fight between Dirnt and his girlfriend that ended with the bassist breaking his elbow. The second single, \"Basket Case\", which appeared on many singles charts worldwide, was also inspired by Armstrong's personal experiences. The song deals with Armstrong's anxiety attacks and feelings of \"going crazy\" before being diagnosed with a panic disorder. Using a palm mute, Armstrong is the only one who plays on the song until halfway through the song's first chorus, with the other instruments' arrival representing panic setting in. In the third verse, \"Basket Case\" mentions soliciting a male prostitute; Armstrong said, \"I wanted to challenge myself and whoever the listener might be. It's also looking at the world and saying, 'It's not as black and white as you think. This isn't your grandfather's prostitute – or maybe it was.' \" The music video was filmed in an abandoned mental institution. It is one of the band's most popular songs.\n",
      "\n",
      "\n",
      "=== Songs 8–14 ===\n",
      "\"She\" was written about Amanda, who showed him a feminist poem entitled \"She\". In return, Armstrong wrote the lyrics of \"She\" and showed them to her. When Amanda broke up with Armstrong in early 1994 and moved to Ecuador to join the Peace Corps, Armstrong decided to put \"She\" on the album. Musically, \"She\" is similar to \"Basket Case\", although it is slightly faster, and draws inspiration from the Beatles. The song's beginnings mirror those of \"Basket Case\"; whereas Armstrong was the only one to play as \"Basket Case\" began, Armstrong's guitar does not enter until later in \"She\" while his bandmates provide a musical backdrop. The song tells the story of a young woman who feels trapped in an unsatisfactory life. Amanda is also referenced in the next track, \"Sassafras Roots\". Sonically closer to the band's material on Kerplunk!, it is an unconventional love song that uses irony and sarcasm in an effort to avoid being direct, and centers on a couple wasting time together in a romantic relationship. The tenth track, \"When I Come Around\", was the album's final single. It was inspired by Adrienne Nesser, Armstrong's girlfriend and now wife. Following a dispute between the couple, Armstrong left Nesser to spend some time alone. Described as the closest thing to a ballad on the album, \"When I Come Around\" is driven by a recognizable two-bar, palm-muted guitar riff of four chords, while Dirnt's bass part stands out by adding additional pulled-off and hammered-on portions to the guitar's accompaniment. The song's lyrics highlight two meanings of its title: the narrator begins by talking to someone they believe they could address the needs of, having literally come around; in the second verse, the singer realizes they aren't what the other person needs, having \"come around\" figuratively.The song \"Coming Clean\" deals with Armstrong's coming to terms with his bisexuality as a teenager. At the time, he was still looking for himself sexually and had no well-defined sexual orientation. In his interview with The Advocate magazine, he said that although he has never had a relationship with a man, his sexuality has been \"something that comes up as a struggle in me\". \"Emenius Sleepus\", written by Dirnt, is about two old friends who meet by chance, and the narrator realizes that they have both changed a lot as people. Played in a quick staccato-styled rhythm, Armstrong wrote the song \"In the End\" about his mother and stepfather, and the reproach Armstrong felt toward his mother for choosing his stepfather as a partner. \"F.O.D.\", an acronym for \"Fuck Off and Die\", begins calmly with Armstrong alone on acoustic guitar, before the band suddenly arrives in a louder, full-force fashion. The theme of the song centers around the singer's grudge for another individual, and wishing misfortune upon them.\n",
      "A hidden track, \"All By Myself\", with vocals and guitar by Cool, plays after \"F.O.D.\" ends, and is themed on masturbation.\n",
      "\n",
      "\n",
      "== Packaging ==\n",
      "Dookie is American slang for feces. It is a reference to the diarrhea—\"liquid dookie\"—that the band members suffered while eating spoiled food on tour. Initially, the band aimed name the album Liquid Dookie, but this was shortened to Dookie. Asked in 2014 if the choice was a mistake in hindsight, Armstrong said it had been an impulsive \"stoner thing\": \"We were smoking a lot of weed [and said] 'Hey, man, wouldn't it be funny if...'\"For its cover art, the band commissioned artist Richie Bucher, who created a cartoon-like work depicting bombs being dropped on people and buildings. Bucher says Armstrong only told him the album's title, so he worked around the theme of fecal matter. As a child, Bucher had associated feces with dogs and monkeys, both of which appear prominently on the album's cover.The setting is a replica of Berkeley's Telegraph Avenue. In the center, there is an explosion with the band's name at the top. The cover depicts Patti Smith showing off her armpit as shown on the cover of her album Easter (1977), a shootout surrounding Black Panther Party co-founder Huey P. Newton, the woman on Black Sabbath's self-titled debut album, Angus Young of AC/DC, and the Sather Tower. Friends of the band members are among the foreground figures on whom dogs and monkeys throw their excrement. A dog pilots the plane that drops bombs with the words Dookie written on them, while the name of the group is written in brown in the center of the explosion. Oil refineries in Rodeo, California, can be seen in the distance.Armstrong has since explained the meaning of the artwork:\n",
      "\n",
      "I wanted the art work to look really different. I wanted it to represent the East Bay and where we come from, because there's a lot of artists in the East Bay scene that are just as important as the music. So we talked to Richie Bucher. He did a 7-inch cover for this band called Raooul that I really liked. He's also been playing in bands in the East Bay for years. There's pieces of us buried on the album cover. There's one guy with his camera up in the air taking a picture with a beard. He took pictures of bands every weekend at Gilman's. The robed character that looks like the Mona Lisa is the woman on the cover of the first Black Sabbath album. AC/DC guitarist Angus Young is in there somewhere too. The graffiti reading \"Twisted Dog Sisters\" refers to these two girls from Berkeley. I think the guy saying \"The fritter, fat boy\" was a reference to a local cop.\n",
      "When the trio went to Warner's offices in Los Angeles to discuss marketing for the album, label officials initially wanted the cover to feature a photograph of the comely young men, but the band refused. George Weiss, Warner's marketing director, noted that the band came from a distinctly different culture than most of their artists, and Green Day had gained the leverage with the label to insist on a different choice. The back cover on early prints of the CD featured a plush toy of Ernie from Sesame Street, which was airbrushed out of later prints for fear of litigation; however, Canadian and European prints still feature Ernie on the back cover. Some rumors suggest that it was removed because it led parents to think that Dookie was a child's lullaby album or that the creators of Sesame Street had sued Green Day.\n",
      "\n",
      "\n",
      "== Release ==\n",
      "While rehearsing in the house they rented in Berkeley at the end of 1993 in anticipation of a tour for Dookie, the band was invited to the Warner offices in Los Angeles to discuss the marketing strategy around the album with Weiss. The latter expected to meet three scornful young men with reputations in punk music, when in reality the band members were intimidated to even be invited to the meeting. They discussed the first single, \"Longview\", as well as projected goals for the album's sales: Cavallo hoped to sell at least 200,000 units, while Cool looked higher toward 500,000. Demand was well underestimated; when Dookie was released on February 1, 1994, the album's first 9,000 produced copies quickly sold out. \"Longview\" was released as the album's lead single simultaneously with the album. Despite promising demand from the quick depletion of the album's initial supply, it initially resulted in modest total sales as strategies were adjusted to meet demand, and only after the music video for \"Longview\" debuted on MTV on February 22 did the album begin to attract stronger attention, first entering the Billboard 200 rankings at number 127.In March, the group made appearances on Late Night with Conan O'Brien, The Jon Stewart Show and 120 Minutes on MTV. Sales for Dookie rose greatly following these performances, peaking at number two on the Billboard 200 in the United States. The record became an international success as well; the album peaked in the top ten of the German, Finnish, Norwegian, Dutch, Swedish, and Swiss charts, while it topped the Australian, Canadian, and New Zealand charts. By June 14, Dookie was certified gold by the Recording Industry Association of America (RIAA), having sold more than 500,000 copies in the United States. That month, an issue of Time hailed the album as a work creating an impact comparable to Nirvana's Nevermind (1991).On August 1, \"Basket Case\" was released as the album's second single. The song's music video quickly became an MTV staple. The following month, \"Longview\" was nominated in three categories at the 1994 MTV Video Music Awards. Green Day performed the unreleased song \"Armatage Shanks\" at the ceremony, which would later appear on their following album Insomniac (1995), but did not win any of the categories which they were nominated for. In October, Warner proposed \"Welcome to Paradise\" to be the third single, noting potential to make good sales. However, Armstrong refused because the song evoked a part of his life and he did not feel capable of promoting it with a music video. The song was ultimately only broadcast on the radio domestically, being met with great success despite not being sold to the public. An exclusive United Kingdom single release for the song did proceed on October 17. Near the end of 1994, Don Pardo invited the band to perform on Saturday Night Live.Ahead of the 37th Annual Grammy Awards, \"When I Come Around\" was released to radio as the album's final single in December 1994. The band had been nominated in four Grammy Award categories: Best Alternative Music Album, Best New Artist, Best Rock Performance by a Duo or Group with Vocal with \"Basket Case\", and Best Hard Rock Performance with \"Longview\". They won only the former of the categories. In the meantime, \"When I Come Around\" had been quickly climbing the charts; it held the top of the Billboard Modern Rock Chart for seven weeks and peaked at number six of the Hot 100 Airplay chart, becoming the band's most successful single from the album. Throughout the 1990s, Dookie continued to sell well, eventually receiving diamond certification from the RIAA in 1999, signifying ten million copies sold. By 2014, Dookie had sold over 20 million copies worldwide and remains the band's best-selling album.\n",
      "\n",
      "\n",
      "== Reception ==\n",
      "Dookie was released to positive reviews. In early 1995, Jon Pareles of The New York Times wrote, \"Punk turns into pop in fast, funny, catchy, high-powered songs about whining and channel-surfing; apathy has rarely sounded so passionate.\" Rolling Stone's Paul Evans described Green Day as \"convincing mainly because they've got punk's snotty anti-values down cold: blame, self-pity, arrogant self-hatred, humor, narcissism, fun\". Jesse Raub, writing for Alternative Press, praised \"Burnout\" for immediately opening with a \"huge, polished production value without abandoning their scrappy, loose punk playing\" which consistently shines through the rest of the album's tracks. In a 20th anniversary retrospective review for Billboard, Chris Payne highlighted how Armstrong's \"sugary, almost bubblegum choruses\" were unique for punk at the time, and forcefully brought mainstream attention to punk rock music.The Chicago Tribune's Greg Kot was appreciative of the loudness and urgency in the album's sound, detecting influences from the Who and the Zombies. NME showcased the record's \"crashing drums\" and \"razor-wire guitars\", concluding, \"being dumb has never been so much fun.\" A 2017 review from Pitchfork's Marc Hogan summarized the album's material as \"buzzing, hook-crammed tracks that acted like they didn't give a shit\", but resounded so well with its audience because in truth \"on a compositional and emotional level they were actually gravely serious,\" praising the album's outlandish artwork for helping ease the tense nature of the music. Robert Christgau, writing for The Village Voice, opined that \"punk lives, and these guys have the toons and sass to prove it to those who can live without,\" praising their themes of apathy, insanity, poverty, and \"the un-American way\".Neil Strauss of the New York Times, while complimentary of the album's overall quality, followed up Pareles' review by noting that Dookie's pop sound only remotely resembled punk music. The band did not respond initially to these comments, but later claimed that they were \"just trying to be themselves\" and that \"it's our band, we can do whatever we want\". Dirnt claimed that the follow-up album, Insomniac, one of the band's most aggressive albums lyrically and musically, was the band releasing their anger at all the criticism and distaste from critics and former fans. On the other hand, Thomas Nassiff at Fuse cited it as the most important pop-punk album.\n",
      "\n",
      "\n",
      "== Legacy ==\n",
      "Green Day's Dookie—along with the Offspring's Smash, released two months later—has been credited for helping bring punk rock back into mainstream music culture. NME argues, \"Dookie's success proved to record label, film and TV [executives] that the teen rock revolution they had been witnessing for much of the early '90s didn't have to be all gloomy nihilism and angsty sonics. Dookie made rock fun again.\" In 2012, Stephen Thomas Erlewine of AllMusic described Dookie as \"a stellar piece of modern punk that many tried to emulate but nobody bettered\". On the album's twentieth anniversary, The Daily Beast wrote that before its release \"rock meant grunge: heavy, monotonic, humorless, and bleak\", but the lighter tone of Dookie changed the public's general understanding of the term. It \"made the entire pop-punk movement possible...it shaped the way people looked, dressed, danced, and spent their summers. Odeley  [sic] is fantastic. So is OK Computer. But neither record triggered the sort of commercial tsunami of compatriots and copycats that followed in Dookie's wake.\" Berkeley-based Rancid was one of the first bands to capitalize on the hype created by Green Day and the Offspring with ...And Out Come the Wolves, giving the new punk rock movement stability.Some critics claim that Dookie allowed numerous similar artists to enjoy long careers, including Rancid, New Found Glory, Fall Out Boy, Panic! At The Disco, Blink-182, Simple Plan, and Yellowcard. Good Charlotte guitarist Billy Martin, Something Corporate frontman Andrew McMahon, and Sum 41 frontman Deryck Whibley all claim stylistic influence from the album. NME believes Blink-182's Enema of the State (1999), Sum 41's All Killer No Filler (2001), My Chemical Romance's The Black Parade (2006), and even Lady Gaga's The Fame (2008) could not have been created without Dookie. Gaga has said that the album was the first she ever purchased.In 2014, the year of its twentieth anniversary, the album received several list accolades. In April 2014, Rolling Stone placed the album at No. 1 on its \"1994: The 40 Best Records From Mainstream Alternative's Greatest Year\" list, ahead of Nine Inch Nails' The Downward Spiral and Weezer's self-titled debut. A month later, Loudwire placed Dookie at No. 1 on its \"10 Best Hard Rock Albums of 1994\" list. Guitar World ranked Dookie at number thirteen in their list \"Superunknown: 50 Iconic Albums That Defined 1994\" that July. Rolling Stone cited it as one of the greatest punk rock albums of all time in 2016, and NME ranked it as the 18th-best album of 1994, alongside \"Welcome to Paradise\" as a top-50 song for the year.\n",
      "\n",
      "\n",
      "=== Accolades ===\n",
      "Dookie has appeared on many prominent \"must have\" lists compiled by the music media, including:\n",
      "\n",
      "\n",
      "== Live performances ==\n",
      "In mid-1993, while recording and mixing the album, Green Day opened for several Bad Religion concerts, allowing them to play new songs to a live audience. However, unlike their previous shows, the band was now playing before audiences of two to three thousand people. Two weeks after the release of Dookie, the band embarked on an international tour. In the United States, they traveled between shows in a bookmobile belonging to Tré Cool's father. From late April to early June 1994, the band toured Europe, playing around 40 concerts in the United Kingdom, Germany, Denmark, Belgium, the Netherlands, Italy, Spain and Sweden. The band's popularity was still rising slowly when they arrived in Europe; in Belgium, the audience numbered about 200 people. Cavallo recorded a few performances during the tour, to show the three young men their evolution on stage, and for use as B-sides on later releases.\n",
      "After the European tour, Armstrong proposed to Nesser after four years of on-and-off relationships. Because the tour prevented them from properly planning their wedding and their honeymoon, the two married in a small ceremony on July 2, 1994, attended only by Green Day's two other members and their girlfriends. Adrienne discovered she was pregnant the next day, and Armstrong was upset about being unable to help and care for her. The trio then joined the second leg of Lollapalooza as the main attraction, and program directors set them to play the opening of the main stage. They missed a date of the traveling festival to perform on August 14 at Woodstock '94. This event, the 25th anniversary of the original 1969 festival in Saugerties, New York, saw a mud \"fight\" between the band and the crowd. Although organizers hoped that Green Day would be a big draw, their punk rock style stuck out at the event and the band's performance was poorly received by the crowd. When they opened their set with \"Welcome to Paradise\" after three days of rain, the audience was provoked by the irony and threw mud at them. Armstrong responded by taunting the crowd, and the event escalated into a mud fight among the audience and the band. During the fight, Dirnt was mistaken for a fan by a security guard, who tackled him and then threw him against a monitor, injuring his arm and breaking two of his teeth. Broadcast on pay-per-view to millions of people, this performance was widely noticed internationally and sales of the album rose sharply.Further controversy followed the band only weeks later at a free concert in Boston. Alternative radio station WFNX hosted a free Green Day concert at the Hatch Memorial Shell concert venue on September 9, 1994. However, the promoters were accustomed to hosting reggae and acts of similar softness that drew smaller crowds, and were unprepared for the audience of 70,000 to 100,000 people. The fans in attendance were already chanting for Green Day during the show's opening act. After several calls for calm, including some from Armstrong, the group began their performance, but the singer let himself be carried away by the energy of the audience and jumped into the middle of it during \"Longview\", the seventh song of the set. The security forces, overwhelmed and fearing that the lighting fixtures would collapse, forcibly ended the concert by cutting off the power. A riot ensued and spilled into the streets, leading to numerous arrests and injuries. The Massachusetts State Police were called. Roughly 100 people were injured and 31 were arrested in the aftermath of the concert. The Boston Phoenix would list the Green Day Hatch Shell \"riot\" concert as the sixth-greatest Boston concert of all time.When the band returned to Europe in October 1994, the venues in which they played were much larger, and the band was met with much more enthusiasm. Despite their new notoriety for live performances, the trio continued to sell tickets at affordable prices: $5 to $20 (equivalent to $10 to $40 in 2022). Warner proposed several groups to play as opening acts on this tour, but the band rejected these; instead, the band invited German punk band Die Toten Hosen and the American queercore group Pansy Division to join their shows. Following the European shows, the band returned home for one last show at the Z100 Acoustic Christmas at Madison Square Garden in New York. An AIDS benefit show, Armstrong performed the song \"She\" naked, using his guitar to cover himself.In 2013, the band played Dookie in its entirety at some European dates as a celebration of the album's upcoming 20th anniversary. On October 19, 2023, at the Fremont Country Club in Las Vegas, Dookie was played in its entirety as part of the evening's 29-song set, including \"All by Myself\". The album was played in celebration of its upcoming 30th anniversary and announcement of the 2024 tour.\n",
      "\n",
      "\n",
      "== Track listing ==\n",
      "All lyrics written by Billie Joe Armstrong, except where noted; all music composed by Green Day.\n",
      "\n",
      "\n",
      "=== 30th Anniversary Vinyl Box Set ===\n",
      "\n",
      "\n",
      "=== 30th Anniversary CD Box Set ===\n",
      "\n",
      "\n",
      "=== 30th Anniversary Digital Download ===\n",
      "\n",
      "\n",
      "== Personnel ==\n",
      "Green Day\n",
      "\n",
      "Billie Joe Armstrong – lead vocals, guitar\n",
      "Mike Dirnt – bass, backing vocals\n",
      "Tré Cool – drums; guitar and lead vocals on \"All by Myself\"Technical personnel\n",
      "\n",
      "Rob Cavallo, Green Day – producer, mixing\n",
      "Jerry Finn – mixing\n",
      "Neill King – engineer\n",
      "Casey McCrankin – engineer\n",
      "Richie Bucher – cover artist\n",
      "Ken Schles – photography\n",
      "Pat Hynes – booklet artwork\n",
      "\n",
      "\n",
      "== Charts ==\n",
      "\n",
      "\n",
      "== Certifications and sales ==\n",
      "\n",
      "\n",
      "== References ==\n",
      "\n",
      "\n",
      "=== Citations ===\n",
      "\n",
      "\n",
      "=== Sources ===\n",
      "\n",
      "\n",
      "== External links ==\n",
      "Dookie at YouTube (streamed copy where licensed)\n",
      "Dookie at Discogs\n",
      "\n",
      "Dookie on Rate Your Music site\n"
     ]
    }
   ],
   "source": [
    "def read_wikipedia_page(page_title):\n",
    "    try:\n",
    "        page_content = wikipedia.page(page_title).content\n",
    "        return page_content\n",
    "\n",
    "    except wikipedia.exceptions.PageError:\n",
    "        print(\"Page not found.\")\n",
    "        return None\n",
    "\n",
    "    except wikipedia.exceptions.DisambiguationError as e:\n",
    "        print(\"Disambiguation Error: \", e.options)\n",
    "        return None\n",
    "\n",
    "# Example usage\n",
    "\n",
    "page_title = \"Dookie)\"\n",
    "page_content = read_wikipedia_page(page_title)\n",
    "print(page_content)"
   ]
  },
  {
   "cell_type": "code",
   "execution_count": 63,
   "id": "bd3e9e34",
   "metadata": {},
   "outputs": [
    {
     "name": "stdout",
     "output_type": "stream",
     "text": [
      "Dookie is the third studio album by the American rock band Green Day, released on February 1, 1994, by Reprise Records. The band's major label debut and first collaboration with producer Rob Cavallo, it was recorded in mid-1993 at Fantasy Studios in Berkeley, California. Written mostly by frontman and guitarist Billie Joe Armstrong, the album is largely based on his personal experiences and includes themes such as boredom, anxiety, relationships, and sexuality. It was promoted with four singles: \"Longview\", \"Basket Case\", a re-recorded version of \"Welcome to Paradise\" (which originally appeared on the band's second studio album, 1991's Kerplunk), and \"When I Come Around\".\n",
      "After several years of grunge's dominance in popular music, Dookie brought a livelier, more melodic rock sound to the mainstream and propelled Green Day to worldwide fame. Considered one of the defining albums of the 1990s and of punk rock in general, it was also pivotal in solidifying the genre's mainstream popularity. Its influence continued into the new millennium and beyond, being cited as an inspiration by many punk and pop-punk bands as well as artists from other genres.\n",
      "Dookie received critical acclaim upon its release, although some early fans called the band a sellout for leaving its independent label (Lookout! Records) and embracing a more polished sound. The record won a Grammy Award for Best Alternative Album in 1995. It was a worldwide success, peaking at number two on the Billboard 200 in the United States and reaching top ten positions in several other countries. Dookie was later certified Diamond by the Recording Industry Association of America (RIAA). It has sold over 20 million copies worldwide, making it the band's best-selling album and one of the best-selling albums of all time. It has been labeled by critics and journalists as one of the greatest albums of the 1990s and one of the greatest punk rock and pop-punk albums of all time. Rolling Stone placed Dookie on three iterations of its \"500 Greatest Albums of All Time\" list, and at number 1 on its \"50 Greatest Pop-Punk Albums\" list.A 30th-anniversary deluxe edition of the album, released on September 29, 2023, includes outtakes, demos, and two live concert recordings.\n",
      "== Background ==\n",
      "With the success in the independent world of their first two albums 39/Smooth (1990) and Kerplunk (1991), which sold 30,000 units each, a number of major record labels became interested in Green Day. Among those labels were Sony, Warner Bros., Geffen and Interscope. Representatives of these labels attempted to entice the band to sign by inviting them for meals to discuss a deal, with one manager even inviting the group to Disneyland. The band declined these advances; Armstrong believed that the labels were more than likely looking for something that resembled a grunge band, namely \"second- and third-rate Nirvanas and Soundgardens\", and they did not want to conform to a label's vision. That changed when they met producer and A&R representative Rob Cavallo of Reprise, a subsidiary of Warner Bros. The band played Beatles covers for him for 40 minutes, then Cavallo picked up his own guitar and jammed with them. They were impressed by his work with fellow Californian band The Muffs, and later remarked that Cavallo \"was the only person we could really talk to and connect with\".Eventually, the band left their independent record label, Lookout! Records, on friendly terms. They signed a five-album deal with Reprise in April 1993. The deal secured Cavallo as the producer of the first record and allowed the band to retain the rights to its albums on Lookout!. Signing to a major label caused many of Green Day's original fans to label them sell-outs, including the influential punk fanzine Maximumrocknroll and the independent music club 924 Gilman Street. After Green Day's September 3 gig at 924 Gilman Street, the venue banned the group from entering or playing. Reflecting back on the period, lead vocalist Billie Joe Armstrong told Spin magazine in 1999, \"I couldn't go back to the punk scene, whether we were the biggest success in the world or the biggest failure [...] The only thing I could do was get on my bike and go forward.\" The group later returned in 2015 to play a benefit concert.\n",
      "== Recording ==\n",
      "Following the band's last Gilman Street performance, Green Day demoed the songs \"She\", \"Sassafras Roots\", \"Pulling Teeth\" and \"F.O.D.\" on Armstrong's four-track tape recorder and sent it to Cavallo. After listening to it, Cavallo sensed that \"[he] had stumbled on something big.\" However, he recognized that the band members were struggling to play their best; he reasoned that they were anxious because the most time they had previously spent recording an album was three days while recording Kerplunk. To lighten the mood, he invited them to a Mexican restaurant and bar down the street from Fantasy Studios, even though drummer Tré Cool was not of legal drinking age at the time. Armstrong confirmed the band's anxiety in an interview years later, describing the group feeling \"like little kids in a candy store\" and fearing that the band would lose money on work being scrapped by the label for not meeting standards. Despite this, they focused on making the most of the new production resources at their disposal; unlike their previous albums where the band had to rush to complete them to save money, the band took their time to perfect the quality of their output. Armstrong noted that he learned \"how to dial in good sounds, get the best guitar tones. I was able to take a little time doing vocals.\"Recording took place over the course of three weeks at Fantasy, and the album was mixed twice by Jerry Finn. Though the band took their time to make a quality product as a whole, Armstrong's vocals were still recorded very quickly; he recorded about 16 or 17 songs in two days, most of them in a single take. Armstrong said the band at first \"wanted it to sound really dry, the same way the Sex Pistols record or the early Black Sabbath records sounded\", but the band found the result of this approach to be an unsatisfactory original mix. Cavallo agreed, and it was remixed at Fantasy Studios in Berkeley, California. Armstrong later said of their studio experience, \"Everything was already written, all we had to do was play it.\" Among the material recorded but not included on the album was \"Good Riddance (Time of Your Life)\", which would later be re-recorded for the band's 1997 album Nimrod and become a hit in its own right. The band also recorded new versions of the songs \"Welcome to Paradise\" and \"Christie Rd.\" from their second album Kerplunk and \"409 in your Coffeemaker\" from their second EP Slappy, though only \"Welcome to Paradise\" would make it onto the final album.\n",
      "== Writing and composition ==\n",
      "Much of Dookie's content was written by Armstrong, except \"Emenius Sleepus\", which was written by bassist Mike Dirnt, and the hidden track, \"All by Myself\", which was written by drummer Tré Cool. The album touched upon various experiences of the band members and included subjects such as anxiety and panic attacks, masturbation, sexual orientation, boredom, mass murder, divorce, domestic abuse, and ex-girlfriends. PopMatters summarized the album's theme as \"a record that speaks of the frustrations, anxieties, and apathy of young people\". Stylistically, the album has been categorized primarily as punk rock, but also as pop-punk and as a \"power pop take\" on skate punk. Influences from the Ramones and the Sex Pistols were noted in Armstrong's guitar technique throughout the album; he recorded the album almost entirely with his Fernandes Stratocaster, which he named \"Blue\".\n",
      "=== Songs 1–7 ===\n",
      "Dookie opens with \"Burnout\", a \"speedy, antsy rocker\" centered around a central character's feelings of general apathy toward life. Armstrong wrote the song \"Having a Blast\" when he was in Cleveland in June 1992. The song revolves around a mentally ill character who plans to use explosives to kill himself and others. This was not regarded as a serious issue at the time, as the social climate could allow the song to be viewed as \"mere cathartic fantasy\", but later incidents such as the 1999 Columbine High School massacre have made the song the \"most uncomfortable track\" on the album. On \"Chump\", Armstrong takes the perspective of someone who shows prejudice, insulting another person without actually knowing him or her. At the end of the song, it is revealed that the disliked person in question matches Armstrong's description of himself. \"Chump\" is also the first of three songs that allude to \"Amanda\", a former girlfriend of Armstrong's. The album's first single, \"Longview\", had a signature bass line that bassist Dirnt wrote while under the influence of LSD. In an interview with Guitar World in 2002, Armstrong described the character in the song as based on himself when he lived in Rodeo, California: \"There was nothing to do there, and it was a real boring place.\" To entertain himself, the character does nothing but watch television, smoke marijuana, and masturbate, and has little motivation to change these habits despite tiring of the same cycle of behaviors.\"Welcome to Paradise\", the third single from Dookie, originally appeared on the band's second studio album, Kerplunk!. The newer version has better sound quality. The song was written about Armstrong's experiences living in bad neighborhoods around Oakland, California. \"Pulling Teeth\", one of the album's slower songs, uses dark humor about domestic violence. The typical victim and perpetrator are reversed; the male narrator is at the mercy of his partner. The band's inspiration for this song came from a pillow fight between Dirnt and his girlfriend that ended with the bassist breaking his elbow. The second single, \"Basket Case\", which appeared on many singles charts worldwide, was also inspired by Armstrong's personal experiences. The song deals with Armstrong's anxiety attacks and feelings of \"going crazy\" before being diagnosed with a panic disorder. Using a palm mute, Armstrong is the only one who plays on the song until halfway through the song's first chorus, with the other instruments' arrival representing panic setting in. In the third verse, \"Basket Case\" mentions soliciting a male prostitute; Armstrong said, \"I wanted to challenge myself and whoever the listener might be. It's also looking at the world and saying, 'It's not as black and white as you think. This isn't your grandfather's prostitute – or maybe it was.' \" The music video was filmed in an abandoned mental institution. It is one of the band's most popular songs.\n",
      "=== Songs 8–14 ===\n",
      "\"She\" was written about Amanda, who showed him a feminist poem entitled \"She\". In return, Armstrong wrote the lyrics of \"She\" and showed them to her. When Amanda broke up with Armstrong in early 1994 and moved to Ecuador to join the Peace Corps, Armstrong decided to put \"She\" on the album. Musically, \"She\" is similar to \"Basket Case\", although it is slightly faster, and draws inspiration from the Beatles. The song's beginnings mirror those of \"Basket Case\"; whereas Armstrong was the only one to play as \"Basket Case\" began, Armstrong's guitar does not enter until later in \"She\" while his bandmates provide a musical backdrop. The song tells the story of a young woman who feels trapped in an unsatisfactory life. Amanda is also referenced in the next track, \"Sassafras Roots\". Sonically closer to the band's material on Kerplunk!, it is an unconventional love song that uses irony and sarcasm in an effort to avoid being direct, and centers on a couple wasting time together in a romantic relationship. The tenth track, \"When I Come Around\", was the album's final single. It was inspired by Adrienne Nesser, Armstrong's girlfriend and now wife. Following a dispute between the couple, Armstrong left Nesser to spend some time alone. Described as the closest thing to a ballad on the album, \"When I Come Around\" is driven by a recognizable two-bar, palm-muted guitar riff of four chords, while Dirnt's bass part stands out by adding additional pulled-off and hammered-on portions to the guitar's accompaniment. The song's lyrics highlight two meanings of its title: the narrator begins by talking to someone they believe they could address the needs of, having literally come around; in the second verse, the singer realizes they aren't what the other person needs, having \"come around\" figuratively.The song \"Coming Clean\" deals with Armstrong's coming to terms with his bisexuality as a teenager. At the time, he was still looking for himself sexually and had no well-defined sexual orientation. In his interview with The Advocate magazine, he said that although he has never had a relationship with a man, his sexuality has been \"something that comes up as a struggle in me\". \"Emenius Sleepus\", written by Dirnt, is about two old friends who meet by chance, and the narrator realizes that they have both changed a lot as people. Played in a quick staccato-styled rhythm, Armstrong wrote the song \"In the End\" about his mother and stepfather, and the reproach Armstrong felt toward his mother for choosing his stepfather as a partner. \"F.O.D.\", an acronym for \"Fuck Off and Die\", begins calmly with Armstrong alone on acoustic guitar, before the band suddenly arrives in a louder, full-force fashion. The theme of the song centers around the singer's grudge for another individual, and wishing misfortune upon them.\n",
      "A hidden track, \"All By Myself\", with vocals and guitar by Cool, plays after \"F.O.D.\" ends, and is themed on masturbation.\n",
      "== Packaging ==\n",
      "Dookie is American slang for feces. It is a reference to the diarrhea—\"liquid dookie\"—that the band members suffered while eating spoiled food on tour. Initially, the band aimed name the album Liquid Dookie, but this was shortened to Dookie. Asked in 2014 if the choice was a mistake in hindsight, Armstrong said it had been an impulsive \"stoner thing\": \"We were smoking a lot of weed [and said] 'Hey, man, wouldn't it be funny if...'\"For its cover art, the band commissioned artist Richie Bucher, who created a cartoon-like work depicting bombs being dropped on people and buildings. Bucher says Armstrong only told him the album's title, so he worked around the theme of fecal matter. As a child, Bucher had associated feces with dogs and monkeys, both of which appear prominently on the album's cover.The setting is a replica of Berkeley's Telegraph Avenue. In the center, there is an explosion with the band's name at the top. The cover depicts Patti Smith showing off her armpit as shown on the cover of her album Easter (1977), a shootout surrounding Black Panther Party co-founder Huey P. Newton, the woman on Black Sabbath's self-titled debut album, Angus Young of AC/DC, and the Sather Tower. Friends of the band members are among the foreground figures on whom dogs and monkeys throw their excrement. A dog pilots the plane that drops bombs with the words Dookie written on them, while the name of the group is written in brown in the center of the explosion. Oil refineries in Rodeo, California, can be seen in the distance.Armstrong has since explained the meaning of the artwork:\n",
      "I wanted the art work to look really different. I wanted it to represent the East Bay and where we come from, because there's a lot of artists in the East Bay scene that are just as important as the music. So we talked to Richie Bucher. He did a 7-inch cover for this band called Raooul that I really liked. He's also been playing in bands in the East Bay for years. There's pieces of us buried on the album cover. There's one guy with his camera up in the air taking a picture with a beard. He took pictures of bands every weekend at Gilman's. The robed character that looks like the Mona Lisa is the woman on the cover of the first Black Sabbath album. AC/DC guitarist Angus Young is in there somewhere too. The graffiti reading \"Twisted Dog Sisters\" refers to these two girls from Berkeley. I think the guy saying \"The fritter, fat boy\" was a reference to a local cop.\n",
      "When the trio went to Warner's offices in Los Angeles to discuss marketing for the album, label officials initially wanted the cover to feature a photograph of the comely young men, but the band refused. George Weiss, Warner's marketing director, noted that the band came from a distinctly different culture than most of their artists, and Green Day had gained the leverage with the label to insist on a different choice. The back cover on early prints of the CD featured a plush toy of Ernie from Sesame Street, which was airbrushed out of later prints for fear of litigation; however, Canadian and European prints still feature Ernie on the back cover. Some rumors suggest that it was removed because it led parents to think that Dookie was a child's lullaby album or that the creators of Sesame Street had sued Green Day.\n",
      "== Release ==\n",
      "While rehearsing in the house they rented in Berkeley at the end of 1993 in anticipation of a tour for Dookie, the band was invited to the Warner offices in Los Angeles to discuss the marketing strategy around the album with Weiss. The latter expected to meet three scornful young men with reputations in punk music, when in reality the band members were intimidated to even be invited to the meeting. They discussed the first single, \"Longview\", as well as projected goals for the album's sales: Cavallo hoped to sell at least 200,000 units, while Cool looked higher toward 500,000. Demand was well underestimated; when Dookie was released on February 1, 1994, the album's first 9,000 produced copies quickly sold out. \"Longview\" was released as the album's lead single simultaneously with the album. Despite promising demand from the quick depletion of the album's initial supply, it initially resulted in modest total sales as strategies were adjusted to meet demand, and only after the music video for \"Longview\" debuted on MTV on February 22 did the album begin to attract stronger attention, first entering the Billboard 200 rankings at number 127.In March, the group made appearances on Late Night with Conan O'Brien, The Jon Stewart Show and 120 Minutes on MTV. Sales for Dookie rose greatly following these performances, peaking at number two on the Billboard 200 in the United States. The record became an international success as well; the album peaked in the top ten of the German, Finnish, Norwegian, Dutch, Swedish, and Swiss charts, while it topped the Australian, Canadian, and New Zealand charts. By June 14, Dookie was certified gold by the Recording Industry Association of America (RIAA), having sold more than 500,000 copies in the United States. That month, an issue of Time hailed the album as a work creating an impact comparable to Nirvana's Nevermind (1991).On August 1, \"Basket Case\" was released as the album's second single. The song's music video quickly became an MTV staple. The following month, \"Longview\" was nominated in three categories at the 1994 MTV Video Music Awards. Green Day performed the unreleased song \"Armatage Shanks\" at the ceremony, which would later appear on their following album Insomniac (1995), but did not win any of the categories which they were nominated for. In October, Warner proposed \"Welcome to Paradise\" to be the third single, noting potential to make good sales. However, Armstrong refused because the song evoked a part of his life and he did not feel capable of promoting it with a music video. The song was ultimately only broadcast on the radio domestically, being met with great success despite not being sold to the public. An exclusive United Kingdom single release for the song did proceed on October 17. Near the end of 1994, Don Pardo invited the band to perform on Saturday Night Live.Ahead of the 37th Annual Grammy Awards, \"When I Come Around\" was released to radio as the album's final single in December 1994. The band had been nominated in four Grammy Award categories: Best Alternative Music Album, Best New Artist, Best Rock Performance by a Duo or Group with Vocal with \"Basket Case\", and Best Hard Rock Performance with \"Longview\". They won only the former of the categories. In the meantime, \"When I Come Around\" had been quickly climbing the charts; it held the top of the Billboard Modern Rock Chart for seven weeks and peaked at number six of the Hot 100 Airplay chart, becoming the band's most successful single from the album. Throughout the 1990s, Dookie continued to sell well, eventually receiving diamond certification from the RIAA in 1999, signifying ten million copies sold. By 2014, Dookie had sold over 20 million copies worldwide and remains the band's best-selling album.\n",
      "== Reception ==\n",
      "Dookie was released to positive reviews. In early 1995, Jon Pareles of The New York Times wrote, \"Punk turns into pop in fast, funny, catchy, high-powered songs about whining and channel-surfing; apathy has rarely sounded so passionate.\" Rolling Stone's Paul Evans described Green Day as \"convincing mainly because they've got punk's snotty anti-values down cold: blame, self-pity, arrogant self-hatred, humor, narcissism, fun\". Jesse Raub, writing for Alternative Press, praised \"Burnout\" for immediately opening with a \"huge, polished production value without abandoning their scrappy, loose punk playing\" which consistently shines through the rest of the album's tracks. In a 20th anniversary retrospective review for Billboard, Chris Payne highlighted how Armstrong's \"sugary, almost bubblegum choruses\" were unique for punk at the time, and forcefully brought mainstream attention to punk rock music.The Chicago Tribune's Greg Kot was appreciative of the loudness and urgency in the album's sound, detecting influences from the Who and the Zombies. NME showcased the record's \"crashing drums\" and \"razor-wire guitars\", concluding, \"being dumb has never been so much fun.\" A 2017 review from Pitchfork's Marc Hogan summarized the album's material as \"buzzing, hook-crammed tracks that acted like they didn't give a shit\", but resounded so well with its audience because in truth \"on a compositional and emotional level they were actually gravely serious,\" praising the album's outlandish artwork for helping ease the tense nature of the music. Robert Christgau, writing for The Village Voice, opined that \"punk lives, and these guys have the toons and sass to prove it to those who can live without,\" praising their themes of apathy, insanity, poverty, and \"the un-American way\".Neil Strauss of the New York Times, while complimentary of the album's overall quality, followed up Pareles' review by noting that Dookie's pop sound only remotely resembled punk music. The band did not respond initially to these comments, but later claimed that they were \"just trying to be themselves\" and that \"it's our band, we can do whatever we want\". Dirnt claimed that the follow-up album, Insomniac, one of the band's most aggressive albums lyrically and musically, was the band releasing their anger at all the criticism and distaste from critics and former fans. On the other hand, Thomas Nassiff at Fuse cited it as the most important pop-punk album.\n",
      "== Legacy ==\n",
      "Green Day's Dookie—along with the Offspring's Smash, released two months later—has been credited for helping bring punk rock back into mainstream music culture. NME argues, \"Dookie's success proved to record label, film and TV [executives] that the teen rock revolution they had been witnessing for much of the early '90s didn't have to be all gloomy nihilism and angsty sonics. Dookie made rock fun again.\" In 2012, Stephen Thomas Erlewine of AllMusic described Dookie as \"a stellar piece of modern punk that many tried to emulate but nobody bettered\". On the album's twentieth anniversary, The Daily Beast wrote that before its release \"rock meant grunge: heavy, monotonic, humorless, and bleak\", but the lighter tone of Dookie changed the public's general understanding of the term. It \"made the entire pop-punk movement possible...it shaped the way people looked, dressed, danced, and spent their summers. Odeley  [sic] is fantastic. So is OK Computer. But neither record triggered the sort of commercial tsunami of compatriots and copycats that followed in Dookie's wake.\" Berkeley-based Rancid was one of the first bands to capitalize on the hype created by Green Day and the Offspring with ...And Out Come the Wolves, giving the new punk rock movement stability.Some critics claim that Dookie allowed numerous similar artists to enjoy long careers, including Rancid, New Found Glory, Fall Out Boy, Panic! At The Disco, Blink-182, Simple Plan, and Yellowcard. Good Charlotte guitarist Billy Martin, Something Corporate frontman Andrew McMahon, and Sum 41 frontman Deryck Whibley all claim stylistic influence from the album. NME believes Blink-182's Enema of the State (1999), Sum 41's All Killer No Filler (2001), My Chemical Romance's The Black Parade (2006), and even Lady Gaga's The Fame (2008) could not have been created without Dookie. Gaga has said that the album was the first she ever purchased.In 2014, the year of its twentieth anniversary, the album received several list accolades. In April 2014, Rolling Stone placed the album at No. 1 on its \"1994: The 40 Best Records From Mainstream Alternative's Greatest Year\" list, ahead of Nine Inch Nails' The Downward Spiral and Weezer's self-titled debut. A month later, Loudwire placed Dookie at No. 1 on its \"10 Best Hard Rock Albums of 1994\" list. Guitar World ranked Dookie at number thirteen in their list \"Superunknown: 50 Iconic Albums That Defined 1994\" that July. Rolling Stone cited it as one of the greatest punk rock albums of all time in 2016, and NME ranked it as the 18th-best album of 1994, alongside \"Welcome to Paradise\" as a top-50 song for the year.\n",
      "=== Accolades ===\n",
      "Dookie has appeared on many prominent \"must have\" lists compiled by the music media, including:\n",
      "== Live performances ==\n",
      "In mid-1993, while recording and mixing the album, Green Day opened for several Bad Religion concerts, allowing them to play new songs to a live audience. However, unlike their previous shows, the band was now playing before audiences of two to three thousand people. Two weeks after the release of Dookie, the band embarked on an international tour. In the United States, they traveled between shows in a bookmobile belonging to Tré Cool's father. From late April to early June 1994, the band toured Europe, playing around 40 concerts in the United Kingdom, Germany, Denmark, Belgium, the Netherlands, Italy, Spain and Sweden. The band's popularity was still rising slowly when they arrived in Europe; in Belgium, the audience numbered about 200 people. Cavallo recorded a few performances during the tour, to show the three young men their evolution on stage, and for use as B-sides on later releases.\n",
      "After the European tour, Armstrong proposed to Nesser after four years of on-and-off relationships. Because the tour prevented them from properly planning their wedding and their honeymoon, the two married in a small ceremony on July 2, 1994, attended only by Green Day's two other members and their girlfriends. Adrienne discovered she was pregnant the next day, and Armstrong was upset about being unable to help and care for her. The trio then joined the second leg of Lollapalooza as the main attraction, and program directors set them to play the opening of the main stage. They missed a date of the traveling festival to perform on August 14 at Woodstock '94. This event, the 25th anniversary of the original 1969 festival in Saugerties, New York, saw a mud \"fight\" between the band and the crowd. Although organizers hoped that Green Day would be a big draw, their punk rock style stuck out at the event and the band's performance was poorly received by the crowd. When they opened their set with \"Welcome to Paradise\" after three days of rain, the audience was provoked by the irony and threw mud at them. Armstrong responded by taunting the crowd, and the event escalated into a mud fight among the audience and the band. During the fight, Dirnt was mistaken for a fan by a security guard, who tackled him and then threw him against a monitor, injuring his arm and breaking two of his teeth. Broadcast on pay-per-view to millions of people, this performance was widely noticed internationally and sales of the album rose sharply.Further controversy followed the band only weeks later at a free concert in Boston. Alternative radio station WFNX hosted a free Green Day concert at the Hatch Memorial Shell concert venue on September 9, 1994. However, the promoters were accustomed to hosting reggae and acts of similar softness that drew smaller crowds, and were unprepared for the audience of 70,000 to 100,000 people. The fans in attendance were already chanting for Green Day during the show's opening act. After several calls for calm, including some from Armstrong, the group began their performance, but the singer let himself be carried away by the energy of the audience and jumped into the middle of it during \"Longview\", the seventh song of the set. The security forces, overwhelmed and fearing that the lighting fixtures would collapse, forcibly ended the concert by cutting off the power. A riot ensued and spilled into the streets, leading to numerous arrests and injuries. The Massachusetts State Police were called. Roughly 100 people were injured and 31 were arrested in the aftermath of the concert. The Boston Phoenix would list the Green Day Hatch Shell \"riot\" concert as the sixth-greatest Boston concert of all time.When the band returned to Europe in October 1994, the venues in which they played were much larger, and the band was met with much more enthusiasm. Despite their new notoriety for live performances, the trio continued to sell tickets at affordable prices: $5 to $20 (equivalent to $10 to $40 in 2022). Warner proposed several groups to play as opening acts on this tour, but the band rejected these; instead, the band invited German punk band Die Toten Hosen and the American queercore group Pansy Division to join their shows. Following the European shows, the band returned home for one last show at the Z100 Acoustic Christmas at Madison Square Garden in New York. An AIDS benefit show, Armstrong performed the song \"She\" naked, using his guitar to cover himself.In 2013, the band played Dookie in its entirety at some European dates as a celebration of the album's upcoming 20th anniversary. On October 19, 2023, at the Fremont Country Club in Las Vegas, Dookie was played in its entirety as part of the evening's 29-song set, including \"All by Myself\". The album was played in celebration of its upcoming 30th anniversary and announcement of the 2024 tour.\n",
      "== Track listing ==\n",
      "All lyrics written by Billie Joe Armstrong, except where noted; all music composed by Green Day.\n",
      "=== 30th Anniversary Vinyl Box Set ===\n",
      "=== 30th Anniversary CD Box Set ===\n",
      "=== 30th Anniversary Digital Download ===\n",
      "== Personnel ==\n",
      "Green Day\n",
      "Billie Joe Armstrong – lead vocals, guitar\n",
      "Mike Dirnt – bass, backing vocals\n",
      "Tré Cool – drums; guitar and lead vocals on \"All by Myself\"Technical personnel\n",
      "Rob Cavallo, Green Day – producer, mixing\n",
      "Jerry Finn – mixing\n",
      "Neill King – engineer\n",
      "Casey McCrankin – engineer\n",
      "Richie Bucher – cover artist\n",
      "Ken Schles – photography\n",
      "Pat Hynes – booklet artwork\n",
      "== Charts ==\n",
      "== Certifications and sales ==\n",
      "== References ==\n",
      "=== Citations ===\n",
      "=== Sources ===\n",
      "== External links ==\n",
      "Dookie at YouTube (streamed copy where licensed)\n",
      "Dookie at Discogs\n",
      "Dookie on Rate Your Music site\n"
     ]
    }
   ],
   "source": [
    "# Clean the text using Beautiful Soup\n",
    "import re\n",
    "from bs4 import BeautifulSoup\n",
    "\n",
    "def strip_html_tags(text):\n",
    "    soup = BeautifulSoup(text, \"html.parser\")\n",
    "    [s.extract() for s in soup(['iframe', 'script'])]\n",
    "    stripped_text = soup.get_text()\n",
    "    stripped_text = re.sub(r'[\\r|\\n|\\r\\n]+', '\\n', stripped_text)\n",
    "    return stripped_text\n",
    "\n",
    "clean_content = strip_html_tags(page_content)\n",
    "#print(clean_content[1163:2045])\n",
    "print(clean_content)"
   ]
  },
  {
   "cell_type": "code",
   "execution_count": 64,
   "id": "57c4f8a8",
   "metadata": {},
   "outputs": [
    {
     "data": {
      "text/plain": [
       "'Well this was fun What do you think '"
      ]
     },
     "execution_count": 64,
     "metadata": {},
     "output_type": "execute_result"
    }
   ],
   "source": [
    "def remove_special_characters(text, remove_digits=False):\n",
    "    pattern = r'[^a-zA-z0-9\\s]' if not remove_digits else r'[^a-zA-z\\s]'\n",
    "    text = re.sub(pattern, '', text)\n",
    "    return text\n",
    "\n",
    "remove_special_characters(\"Well this was fun! What do you think? 123#@!\", \n",
    "                          remove_digits=True)"
   ]
  },
  {
   "cell_type": "code",
   "execution_count": 70,
   "id": "7f16576f",
   "metadata": {},
   "outputs": [
    {
     "ename": "TypeError",
     "evalue": "expected string or bytes-like object",
     "output_type": "error",
     "traceback": [
      "\u001b[1;31m---------------------------------------------------------------------------\u001b[0m",
      "\u001b[1;31mTypeError\u001b[0m                                 Traceback (most recent call last)",
      "Cell \u001b[1;32mIn[70], line 1\u001b[0m\n\u001b[1;32m----> 1\u001b[0m correct_tokens \u001b[38;5;241m=\u001b[39m \u001b[43mremove_special_characters\u001b[49m\u001b[43m(\u001b[49m\u001b[43mnltk\u001b[49m\u001b[38;5;241;43m.\u001b[39;49m\u001b[43mword_tokenize\u001b[49m\u001b[43m(\u001b[49m\u001b[43mclean_content\u001b[49m\u001b[43m)\u001b[49m\u001b[43m,\u001b[49m\u001b[43m \u001b[49m\u001b[43mremove_digits\u001b[49m\u001b[38;5;241;43m=\u001b[39;49m\u001b[38;5;28;43;01mTrue\u001b[39;49;00m\u001b[43m)\u001b[49m\n\u001b[0;32m      2\u001b[0m \u001b[38;5;124m'\u001b[39m\u001b[38;5;124m \u001b[39m\u001b[38;5;124m'\u001b[39m\u001b[38;5;241m.\u001b[39mjoin(correct_tokens)\n",
      "Cell \u001b[1;32mIn[64], line 3\u001b[0m, in \u001b[0;36mremove_special_characters\u001b[1;34m(text, remove_digits)\u001b[0m\n\u001b[0;32m      1\u001b[0m \u001b[38;5;28;01mdef\u001b[39;00m \u001b[38;5;21mremove_special_characters\u001b[39m(text, remove_digits\u001b[38;5;241m=\u001b[39m\u001b[38;5;28;01mFalse\u001b[39;00m):\n\u001b[0;32m      2\u001b[0m     pattern \u001b[38;5;241m=\u001b[39m \u001b[38;5;124mr\u001b[39m\u001b[38;5;124m'\u001b[39m\u001b[38;5;124m[^a-zA-z0-9\u001b[39m\u001b[38;5;124m\\\u001b[39m\u001b[38;5;124ms]\u001b[39m\u001b[38;5;124m'\u001b[39m \u001b[38;5;28;01mif\u001b[39;00m \u001b[38;5;129;01mnot\u001b[39;00m remove_digits \u001b[38;5;28;01melse\u001b[39;00m \u001b[38;5;124mr\u001b[39m\u001b[38;5;124m'\u001b[39m\u001b[38;5;124m[^a-zA-z\u001b[39m\u001b[38;5;124m\\\u001b[39m\u001b[38;5;124ms]\u001b[39m\u001b[38;5;124m'\u001b[39m\n\u001b[1;32m----> 3\u001b[0m     text \u001b[38;5;241m=\u001b[39m \u001b[43mre\u001b[49m\u001b[38;5;241;43m.\u001b[39;49m\u001b[43msub\u001b[49m\u001b[43m(\u001b[49m\u001b[43mpattern\u001b[49m\u001b[43m,\u001b[49m\u001b[43m \u001b[49m\u001b[38;5;124;43m'\u001b[39;49m\u001b[38;5;124;43m'\u001b[39;49m\u001b[43m,\u001b[49m\u001b[43m \u001b[49m\u001b[43mtext\u001b[49m\u001b[43m)\u001b[49m\n\u001b[0;32m      4\u001b[0m     \u001b[38;5;28;01mreturn\u001b[39;00m text\n",
      "File \u001b[1;32m~\\anaconda3\\lib\\re.py:210\u001b[0m, in \u001b[0;36msub\u001b[1;34m(pattern, repl, string, count, flags)\u001b[0m\n\u001b[0;32m    203\u001b[0m \u001b[38;5;28;01mdef\u001b[39;00m \u001b[38;5;21msub\u001b[39m(pattern, repl, string, count\u001b[38;5;241m=\u001b[39m\u001b[38;5;241m0\u001b[39m, flags\u001b[38;5;241m=\u001b[39m\u001b[38;5;241m0\u001b[39m):\n\u001b[0;32m    204\u001b[0m \u001b[38;5;250m    \u001b[39m\u001b[38;5;124;03m\"\"\"Return the string obtained by replacing the leftmost\u001b[39;00m\n\u001b[0;32m    205\u001b[0m \u001b[38;5;124;03m    non-overlapping occurrences of the pattern in string by the\u001b[39;00m\n\u001b[0;32m    206\u001b[0m \u001b[38;5;124;03m    replacement repl.  repl can be either a string or a callable;\u001b[39;00m\n\u001b[0;32m    207\u001b[0m \u001b[38;5;124;03m    if a string, backslash escapes in it are processed.  If it is\u001b[39;00m\n\u001b[0;32m    208\u001b[0m \u001b[38;5;124;03m    a callable, it's passed the Match object and must return\u001b[39;00m\n\u001b[0;32m    209\u001b[0m \u001b[38;5;124;03m    a replacement string to be used.\"\"\"\u001b[39;00m\n\u001b[1;32m--> 210\u001b[0m     \u001b[38;5;28;01mreturn\u001b[39;00m \u001b[43m_compile\u001b[49m\u001b[43m(\u001b[49m\u001b[43mpattern\u001b[49m\u001b[43m,\u001b[49m\u001b[43m \u001b[49m\u001b[43mflags\u001b[49m\u001b[43m)\u001b[49m\u001b[38;5;241;43m.\u001b[39;49m\u001b[43msub\u001b[49m\u001b[43m(\u001b[49m\u001b[43mrepl\u001b[49m\u001b[43m,\u001b[49m\u001b[43m \u001b[49m\u001b[43mstring\u001b[49m\u001b[43m,\u001b[49m\u001b[43m \u001b[49m\u001b[43mcount\u001b[49m\u001b[43m)\u001b[49m\n",
      "\u001b[1;31mTypeError\u001b[0m: expected string or bytes-like object"
     ]
    }
   ],
   "source": [
    "correct_tokens = remove_special_characters(nltk.word_tokenize(clean_content), remove_digits=True)\n",
    "' '.join(correct_tokens)\n"
   ]
  },
  {
   "cell_type": "code",
   "execution_count": 59,
   "id": "518fa17b",
   "metadata": {},
   "outputs": [
    {
     "name": "stderr",
     "output_type": "stream",
     "text": [
      "[nltk_data] Downloading package punkt to\n",
      "[nltk_data]     C:\\Users\\chees\\AppData\\Roaming\\nltk_data...\n",
      "[nltk_data]   Package punkt is already up-to-date!\n"
     ]
    }
   ],
   "source": [
    "# Sentence and word tokenisation\n",
    "import nltk\n",
    "nltk.download('punkt')\n",
    "#from nltk.corpus import gutenberg\n",
    "#nltk.download('gutenberg')\n",
    "#from pprint import pprint\n",
    "import numpy as np\n"
   ]
  },
  {
   "cell_type": "code",
   "execution_count": 66,
   "id": "eac73c6c",
   "metadata": {},
   "outputs": [
    {
     "name": "stdout",
     "output_type": "stream",
     "text": [
      "\n",
      "Total sentences: 1\n",
      "First 5 sentences:\n",
      "['Dookie is the third studio album by the American rock band Green Day released on February   by Reprise Records The bands major label debut and first collaboration with producer Rob Cavallo it was recorded in mid at Fantasy Studios in Berkeley California Written mostly by frontman and guitarist Billie Joe Armstrong the album is largely based on his personal experiences and includes themes such as boredom anxiety relationships and sexuality It was promoted with four singles Longview Basket Case a rerecorded version of Welcome to Paradise which originally appeared on the bands second studio album s Kerplunk and When I Come Around\\nAfter several years of grunges dominance in popular music Dookie brought a livelier more melodic rock sound to the mainstream and propelled Green Day to worldwide fame Considered one of the defining albums of the s and of punk rock in general it was also pivotal in solidifying the genres mainstream popularity Its influence continued into the new millennium and beyond being cited as an inspiration by many punk and poppunk bands as well as artists from other genres\\nDookie received critical acclaim upon its release although some early fans called the band a sellout for leaving its independent label Lookout Records and embracing a more polished sound The record won a Grammy Award for Best Alternative Album in  It was a worldwide success peaking at number two on the Billboard  in the United States and reaching top ten positions in several other countries Dookie was later certified Diamond by the Recording Industry Association of America RIAA It has sold over  million copies worldwide making it the bands bestselling album and one of the bestselling albums of all time It has been labeled by critics and journalists as one of the greatest albums of the s and one of the greatest punk rock and poppunk albums of all time Rolling Stone placed Dookie on three iterations of its  Greatest Albums of All Time list and at number  on its  Greatest PopPunk Albums listA thanniversary deluxe edition of the album released on September   includes outtakes demos and two live concert recordings\\n Background \\nWith the success in the independent world of their first two albums Smooth  and Kerplunk  which sold  units each a number of major record labels became interested in Green Day Among those labels were Sony Warner Bros Geffen and Interscope Representatives of these labels attempted to entice the band to sign by inviting them for meals to discuss a deal with one manager even inviting the group to Disneyland The band declined these advances Armstrong believed that the labels were more than likely looking for something that resembled a grunge band namely second and thirdrate Nirvanas and Soundgardens and they did not want to conform to a labels vision That changed when they met producer and AR representative Rob Cavallo of Reprise a subsidiary of Warner Bros The band played Beatles covers for him for  minutes then Cavallo picked up his own guitar and jammed with them They were impressed by his work with fellow Californian band The Muffs and later remarked that Cavallo was the only person we could really talk to and connect withEventually the band left their independent record label Lookout Records on friendly terms They signed a fivealbum deal with Reprise in April  The deal secured Cavallo as the producer of the first record and allowed the band to retain the rights to its albums on Lookout Signing to a major label caused many of Green Days original fans to label them sellouts including the influential punk fanzine Maximumrocknroll and the independent music club  Gilman Street After Green Days September  gig at  Gilman Street the venue banned the group from entering or playing Reflecting back on the period lead vocalist Billie Joe Armstrong told Spin magazine in  I couldnt go back to the punk scene whether we were the biggest success in the world or the biggest failure [] The only thing I could do was get on my bike and go forward The group later returned in  to play a benefit concert\\n Recording \\nFollowing the bands last Gilman Street performance Green Day demoed the songs She Sassafras Roots Pulling Teeth and FOD on Armstrongs fourtrack tape recorder and sent it to Cavallo After listening to it Cavallo sensed that [he] had stumbled on something big However he recognized that the band members were struggling to play their best he reasoned that they were anxious because the most time they had previously spent recording an album was three days while recording Kerplunk To lighten the mood he invited them to a Mexican restaurant and bar down the street from Fantasy Studios even though drummer Tr Cool was not of legal drinking age at the time Armstrong confirmed the bands anxiety in an interview years later describing the group feeling like little kids in a candy store and fearing that the band would lose money on work being scrapped by the label for not meeting standards Despite this they focused on making the most of the new production resources at their disposal unlike their previous albums where the band had to rush to complete them to save money the band took their time to perfect the quality of their output Armstrong noted that he learned how to dial in good sounds get the best guitar tones I was able to take a little time doing vocalsRecording took place over the course of three weeks at Fantasy and the album was mixed twice by Jerry Finn Though the band took their time to make a quality product as a whole Armstrongs vocals were still recorded very quickly he recorded about  or  songs in two days most of them in a single take Armstrong said the band at first wanted it to sound really dry the same way the Sex Pistols record or the early Black Sabbath records sounded but the band found the result of this approach to be an unsatisfactory original mix Cavallo agreed and it was remixed at Fantasy Studios in Berkeley California Armstrong later said of their studio experience Everything was already written all we had to do was play it Among the material recorded but not included on the album was Good Riddance Time of Your Life which would later be rerecorded for the bands  album Nimrod and become a hit in its own right The band also recorded new versions of the songs Welcome to Paradise and Christie Rd from their second album Kerplunk and  in your Coffeemaker from their second EP Slappy though only Welcome to Paradise would make it onto the final album\\n Writing and composition \\nMuch of Dookies content was written by Armstrong except Emenius Sleepus which was written by bassist Mike Dirnt and the hidden track All by Myself which was written by drummer Tr Cool The album touched upon various experiences of the band members and included subjects such as anxiety and panic attacks masturbation sexual orientation boredom mass murder divorce domestic abuse and exgirlfriends PopMatters summarized the albums theme as a record that speaks of the frustrations anxieties and apathy of young people Stylistically the album has been categorized primarily as punk rock but also as poppunk and as a power pop take on skate punk Influences from the Ramones and the Sex Pistols were noted in Armstrongs guitar technique throughout the album he recorded the album almost entirely with his Fernandes Stratocaster which he named Blue\\n Songs  \\nDookie opens with Burnout a speedy antsy rocker centered around a central characters feelings of general apathy toward life Armstrong wrote the song Having a Blast when he was in Cleveland in June  The song revolves around a mentally ill character who plans to use explosives to kill himself and others This was not regarded as a serious issue at the time as the social climate could allow the song to be viewed as mere cathartic fantasy but later incidents such as the  Columbine High School massacre have made the song the most uncomfortable track on the album On Chump Armstrong takes the perspective of someone who shows prejudice insulting another person without actually knowing him or her At the end of the song it is revealed that the disliked person in question matches Armstrongs description of himself Chump is also the first of three songs that allude to Amanda a former girlfriend of Armstrongs The albums first single Longview had a signature bass line that bassist Dirnt wrote while under the influence of LSD In an interview with Guitar World in  Armstrong described the character in the song as based on himself when he lived in Rodeo California There was nothing to do there and it was a real boring place To entertain himself the character does nothing but watch television smoke marijuana and masturbate and has little motivation to change these habits despite tiring of the same cycle of behaviorsWelcome to Paradise the third single from Dookie originally appeared on the bands second studio album Kerplunk The newer version has better sound quality The song was written about Armstrongs experiences living in bad neighborhoods around Oakland California Pulling Teeth one of the albums slower songs uses dark humor about domestic violence The typical victim and perpetrator are reversed the male narrator is at the mercy of his partner The bands inspiration for this song came from a pillow fight between Dirnt and his girlfriend that ended with the bassist breaking his elbow The second single Basket Case which appeared on many singles charts worldwide was also inspired by Armstrongs personal experiences The song deals with Armstrongs anxiety attacks and feelings of going crazy before being diagnosed with a panic disorder Using a palm mute Armstrong is the only one who plays on the song until halfway through the songs first chorus with the other instruments arrival representing panic setting in In the third verse Basket Case mentions soliciting a male prostitute Armstrong said I wanted to challenge myself and whoever the listener might be Its also looking at the world and saying Its not as black and white as you think This isnt your grandfathers prostitute  or maybe it was  The music video was filmed in an abandoned mental institution It is one of the bands most popular songs\\n Songs  \\nShe was written about Amanda who showed him a feminist poem entitled She In return Armstrong wrote the lyrics of She and showed them to her When Amanda broke up with Armstrong in early  and moved to Ecuador to join the Peace Corps Armstrong decided to put She on the album Musically She is similar to Basket Case although it is slightly faster and draws inspiration from the Beatles The songs beginnings mirror those of Basket Case whereas Armstrong was the only one to play as Basket Case began Armstrongs guitar does not enter until later in She while his bandmates provide a musical backdrop The song tells the story of a young woman who feels trapped in an unsatisfactory life Amanda is also referenced in the next track Sassafras Roots Sonically closer to the bands material on Kerplunk it is an unconventional love song that uses irony and sarcasm in an effort to avoid being direct and centers on a couple wasting time together in a romantic relationship The tenth track When I Come Around was the albums final single It was inspired by Adrienne Nesser Armstrongs girlfriend and now wife Following a dispute between the couple Armstrong left Nesser to spend some time alone Described as the closest thing to a ballad on the album When I Come Around is driven by a recognizable twobar palmmuted guitar riff of four chords while Dirnts bass part stands out by adding additional pulledoff and hammeredon portions to the guitars accompaniment The songs lyrics highlight two meanings of its title the narrator begins by talking to someone they believe they could address the needs of having literally come around in the second verse the singer realizes they arent what the other person needs having come around figurativelyThe song Coming Clean deals with Armstrongs coming to terms with his bisexuality as a teenager At the time he was still looking for himself sexually and had no welldefined sexual orientation In his interview with The Advocate magazine he said that although he has never had a relationship with a man his sexuality has been something that comes up as a struggle in me Emenius Sleepus written by Dirnt is about two old friends who meet by chance and the narrator realizes that they have both changed a lot as people Played in a quick staccatostyled rhythm Armstrong wrote the song In the End about his mother and stepfather and the reproach Armstrong felt toward his mother for choosing his stepfather as a partner FOD an acronym for Fuck Off and Die begins calmly with Armstrong alone on acoustic guitar before the band suddenly arrives in a louder fullforce fashion The theme of the song centers around the singers grudge for another individual and wishing misfortune upon them\\nA hidden track All By Myself with vocals and guitar by Cool plays after FOD ends and is themed on masturbation\\n Packaging \\nDookie is American slang for feces It is a reference to the diarrhealiquid dookiethat the band members suffered while eating spoiled food on tour Initially the band aimed name the album Liquid Dookie but this was shortened to Dookie Asked in  if the choice was a mistake in hindsight Armstrong said it had been an impulsive stoner thing We were smoking a lot of weed [and said] Hey man wouldnt it be funny ifFor its cover art the band commissioned artist Richie Bucher who created a cartoonlike work depicting bombs being dropped on people and buildings Bucher says Armstrong only told him the albums title so he worked around the theme of fecal matter As a child Bucher had associated feces with dogs and monkeys both of which appear prominently on the albums coverThe setting is a replica of Berkeleys Telegraph Avenue In the center there is an explosion with the bands name at the top The cover depicts Patti Smith showing off her armpit as shown on the cover of her album Easter  a shootout surrounding Black Panther Party cofounder Huey P Newton the woman on Black Sabbaths selftitled debut album Angus Young of ACDC and the Sather Tower Friends of the band members are among the foreground figures on whom dogs and monkeys throw their excrement A dog pilots the plane that drops bombs with the words Dookie written on them while the name of the group is written in brown in the center of the explosion Oil refineries in Rodeo California can be seen in the distanceArmstrong has since explained the meaning of the artwork\\nI wanted the art work to look really different I wanted it to represent the East Bay and where we come from because theres a lot of artists in the East Bay scene that are just as important as the music So we talked to Richie Bucher He did a inch cover for this band called Raooul that I really liked Hes also been playing in bands in the East Bay for years Theres pieces of us buried on the album cover Theres one guy with his camera up in the air taking a picture with a beard He took pictures of bands every weekend at Gilmans The robed character that looks like the Mona Lisa is the woman on the cover of the first Black Sabbath album ACDC guitarist Angus Young is in there somewhere too The graffiti reading Twisted Dog Sisters refers to these two girls from Berkeley I think the guy saying The fritter fat boy was a reference to a local cop\\nWhen the trio went to Warners offices in Los Angeles to discuss marketing for the album label officials initially wanted the cover to feature a photograph of the comely young men but the band refused George Weiss Warners marketing director noted that the band came from a distinctly different culture than most of their artists and Green Day had gained the leverage with the label to insist on a different choice The back cover on early prints of the CD featured a plush toy of Ernie from Sesame Street which was airbrushed out of later prints for fear of litigation however Canadian and European prints still feature Ernie on the back cover Some rumors suggest that it was removed because it led parents to think that Dookie was a childs lullaby album or that the creators of Sesame Street had sued Green Day\\n Release \\nWhile rehearsing in the house they rented in Berkeley at the end of  in anticipation of a tour for Dookie the band was invited to the Warner offices in Los Angeles to discuss the marketing strategy around the album with Weiss The latter expected to meet three scornful young men with reputations in punk music when in reality the band members were intimidated to even be invited to the meeting They discussed the first single Longview as well as projected goals for the albums sales Cavallo hoped to sell at least  units while Cool looked higher toward  Demand was well underestimated when Dookie was released on February   the albums first  produced copies quickly sold out Longview was released as the albums lead single simultaneously with the album Despite promising demand from the quick depletion of the albums initial supply it initially resulted in modest total sales as strategies were adjusted to meet demand and only after the music video for Longview debuted on MTV on February  did the album begin to attract stronger attention first entering the Billboard  rankings at number In March the group made appearances on Late Night with Conan OBrien The Jon Stewart Show and  Minutes on MTV Sales for Dookie rose greatly following these performances peaking at number two on the Billboard  in the United States The record became an international success as well the album peaked in the top ten of the German Finnish Norwegian Dutch Swedish and Swiss charts while it topped the Australian Canadian and New Zealand charts By June  Dookie was certified gold by the Recording Industry Association of America RIAA having sold more than  copies in the United States That month an issue of Time hailed the album as a work creating an impact comparable to Nirvanas Nevermind On August  Basket Case was released as the albums second single The songs music video quickly became an MTV staple The following month Longview was nominated in three categories at the  MTV Video Music Awards Green Day performed the unreleased song Armatage Shanks at the ceremony which would later appear on their following album Insomniac  but did not win any of the categories which they were nominated for In October Warner proposed Welcome to Paradise to be the third single noting potential to make good sales However Armstrong refused because the song evoked a part of his life and he did not feel capable of promoting it with a music video The song was ultimately only broadcast on the radio domestically being met with great success despite not being sold to the public An exclusive United Kingdom single release for the song did proceed on October  Near the end of  Don Pardo invited the band to perform on Saturday Night LiveAhead of the th Annual Grammy Awards When I Come Around was released to radio as the albums final single in December  The band had been nominated in four Grammy Award categories Best Alternative Music Album Best New Artist Best Rock Performance by a Duo or Group with Vocal with Basket Case and Best Hard Rock Performance with Longview They won only the former of the categories In the meantime When I Come Around had been quickly climbing the charts it held the top of the Billboard Modern Rock Chart for seven weeks and peaked at number six of the Hot  Airplay chart becoming the bands most successful single from the album Throughout the s Dookie continued to sell well eventually receiving diamond certification from the RIAA in  signifying ten million copies sold By  Dookie had sold over  million copies worldwide and remains the bands bestselling album\\n Reception \\nDookie was released to positive reviews In early  Jon Pareles of The New York Times wrote Punk turns into pop in fast funny catchy highpowered songs about whining and channelsurfing apathy has rarely sounded so passionate Rolling Stones Paul Evans described Green Day as convincing mainly because theyve got punks snotty antivalues down cold blame selfpity arrogant selfhatred humor narcissism fun Jesse Raub writing for Alternative Press praised Burnout for immediately opening with a huge polished production value without abandoning their scrappy loose punk playing which consistently shines through the rest of the albums tracks In a th anniversary retrospective review for Billboard Chris Payne highlighted how Armstrongs sugary almost bubblegum choruses were unique for punk at the time and forcefully brought mainstream attention to punk rock musicThe Chicago Tribunes Greg Kot was appreciative of the loudness and urgency in the albums sound detecting influences from the Who and the Zombies NME showcased the records crashing drums and razorwire guitars concluding being dumb has never been so much fun A  review from Pitchforks Marc Hogan summarized the albums material as buzzing hookcrammed tracks that acted like they didnt give a shit but resounded so well with its audience because in truth on a compositional and emotional level they were actually gravely serious praising the albums outlandish artwork for helping ease the tense nature of the music Robert Christgau writing for The Village Voice opined that punk lives and these guys have the toons and sass to prove it to those who can live without praising their themes of apathy insanity poverty and the unAmerican wayNeil Strauss of the New York Times while complimentary of the albums overall quality followed up Pareles review by noting that Dookies pop sound only remotely resembled punk music The band did not respond initially to these comments but later claimed that they were just trying to be themselves and that its our band we can do whatever we want Dirnt claimed that the followup album Insomniac one of the bands most aggressive albums lyrically and musically was the band releasing their anger at all the criticism and distaste from critics and former fans On the other hand Thomas Nassiff at Fuse cited it as the most important poppunk album\\n Legacy \\nGreen Days Dookiealong with the Offsprings Smash released two months laterhas been credited for helping bring punk rock back into mainstream music culture NME argues Dookies success proved to record label film and TV [executives] that the teen rock revolution they had been witnessing for much of the early s didnt have to be all gloomy nihilism and angsty sonics Dookie made rock fun again In  Stephen Thomas Erlewine of AllMusic described Dookie as a stellar piece of modern punk that many tried to emulate but nobody bettered On the albums twentieth anniversary The Daily Beast wrote that before its release rock meant grunge heavy monotonic humorless and bleak but the lighter tone of Dookie changed the publics general understanding of the term It made the entire poppunk movement possibleit shaped the way people looked dressed danced and spent their summers Odeley  [sic] is fantastic So is OK Computer But neither record triggered the sort of commercial tsunami of compatriots and copycats that followed in Dookies wake Berkeleybased Rancid was one of the first bands to capitalize on the hype created by Green Day and the Offspring with And Out Come the Wolves giving the new punk rock movement stabilitySome critics claim that Dookie allowed numerous similar artists to enjoy long careers including Rancid New Found Glory Fall Out Boy Panic At The Disco Blink Simple Plan and Yellowcard Good Charlotte guitarist Billy Martin Something Corporate frontman Andrew McMahon and Sum  frontman Deryck Whibley all claim stylistic influence from the album NME believes Blinks Enema of the State  Sum s All Killer No Filler  My Chemical Romances The Black Parade  and even Lady Gagas The Fame  could not have been created without Dookie Gaga has said that the album was the first she ever purchasedIn  the year of its twentieth anniversary the album received several list accolades In April  Rolling Stone placed the album at No  on its  The  Best Records From Mainstream Alternatives Greatest Year list ahead of Nine Inch Nails The Downward Spiral and Weezers selftitled debut A month later Loudwire placed Dookie at No  on its  Best Hard Rock Albums of  list Guitar World ranked Dookie at number thirteen in their list Superunknown  Iconic Albums That Defined  that July Rolling Stone cited it as one of the greatest punk rock albums of all time in  and NME ranked it as the thbest album of  alongside Welcome to Paradise as a top song for the year\\n Accolades \\nDookie has appeared on many prominent must have lists compiled by the music media including\\n Live performances \\nIn mid while recording and mixing the album Green Day opened for several Bad Religion concerts allowing them to play new songs to a live audience However unlike their previous shows the band was now playing before audiences of two to three thousand people Two weeks after the release of Dookie the band embarked on an international tour In the United States they traveled between shows in a bookmobile belonging to Tr Cools father From late April to early June  the band toured Europe playing around  concerts in the United Kingdom Germany Denmark Belgium the Netherlands Italy Spain and Sweden The bands popularity was still rising slowly when they arrived in Europe in Belgium the audience numbered about  people Cavallo recorded a few performances during the tour to show the three young men their evolution on stage and for use as Bsides on later releases\\nAfter the European tour Armstrong proposed to Nesser after four years of onandoff relationships Because the tour prevented them from properly planning their wedding and their honeymoon the two married in a small ceremony on July   attended only by Green Days two other members and their girlfriends Adrienne discovered she was pregnant the next day and Armstrong was upset about being unable to help and care for her The trio then joined the second leg of Lollapalooza as the main attraction and program directors set them to play the opening of the main stage They missed a date of the traveling festival to perform on August  at Woodstock  This event the th anniversary of the original  festival in Saugerties New York saw a mud fight between the band and the crowd Although organizers hoped that Green Day would be a big draw their punk rock style stuck out at the event and the bands performance was poorly received by the crowd When they opened their set with Welcome to Paradise after three days of rain the audience was provoked by the irony and threw mud at them Armstrong responded by taunting the crowd and the event escalated into a mud fight among the audience and the band During the fight Dirnt was mistaken for a fan by a security guard who tackled him and then threw him against a monitor injuring his arm and breaking two of his teeth Broadcast on payperview to millions of people this performance was widely noticed internationally and sales of the album rose sharplyFurther controversy followed the band only weeks later at a free concert in Boston Alternative radio station WFNX hosted a free Green Day concert at the Hatch Memorial Shell concert venue on September   However the promoters were accustomed to hosting reggae and acts of similar softness that drew smaller crowds and were unprepared for the audience of  to  people The fans in attendance were already chanting for Green Day during the shows opening act After several calls for calm including some from Armstrong the group began their performance but the singer let himself be carried away by the energy of the audience and jumped into the middle of it during Longview the seventh song of the set The security forces overwhelmed and fearing that the lighting fixtures would collapse forcibly ended the concert by cutting off the power A riot ensued and spilled into the streets leading to numerous arrests and injuries The Massachusetts State Police were called Roughly  people were injured and  were arrested in the aftermath of the concert The Boston Phoenix would list the Green Day Hatch Shell riot concert as the sixthgreatest Boston concert of all timeWhen the band returned to Europe in October  the venues in which they played were much larger and the band was met with much more enthusiasm Despite their new notoriety for live performances the trio continued to sell tickets at affordable prices  to  equivalent to  to  in  Warner proposed several groups to play as opening acts on this tour but the band rejected these instead the band invited German punk band Die Toten Hosen and the American queercore group Pansy Division to join their shows Following the European shows the band returned home for one last show at the Z Acoustic Christmas at Madison Square Garden in New York An AIDS benefit show Armstrong performed the song She naked using his guitar to cover himselfIn  the band played Dookie in its entirety at some European dates as a celebration of the albums upcoming th anniversary On October   at the Fremont Country Club in Las Vegas Dookie was played in its entirety as part of the evenings song set including All by Myself The album was played in celebration of its upcoming th anniversary and announcement of the  tour\\n Track listing \\nAll lyrics written by Billie Joe Armstrong except where noted all music composed by Green Day\\n th Anniversary Vinyl Box Set \\n th Anniversary CD Box Set \\n th Anniversary Digital Download \\n Personnel \\nGreen Day\\nBillie Joe Armstrong  lead vocals guitar\\nMike Dirnt  bass backing vocals\\nTr Cool  drums guitar and lead vocals on All by MyselfTechnical personnel\\nRob Cavallo Green Day  producer mixing\\nJerry Finn  mixing\\nNeill King  engineer\\nCasey McCrankin  engineer\\nRichie Bucher  cover artist\\nKen Schles  photography\\nPat Hynes  booklet artwork\\n Charts \\n Certifications and sales \\n References \\n Citations \\n Sources \\n External links \\nDookie at YouTube streamed copy where licensed\\nDookie at Discogs\\nDookie on Rate Your Music site']\n",
      "\n",
      "Total words: 5085\n",
      "First 5 words:\n",
      "['Dookie' 'is' 'the' 'third' 'studio']\n"
     ]
    }
   ],
   "source": [
    "# Before cleaning steps\n",
    "default_st = nltk.sent_tokenize\n",
    "my_sentences = default_st(text=clean2)\n",
    "print('\\nTotal sentences:', len(my_sentences))\n",
    "print('First 5 sentences:')\n",
    "print(np.array(my_sentences[0:5]))\n",
    "\n",
    "default_wt = nltk.word_tokenize\n",
    "my_tokens = default_wt(clean2)\n",
    "np.array(my_tokens)\n",
    "print('\\nTotal words:', len(my_tokens))\n",
    "print('First 5 words:')\n",
    "print(np.array(my_tokens[0:5]))\n"
   ]
  },
  {
   "cell_type": "code",
   "execution_count": 51,
   "id": "703802d7",
   "metadata": {},
   "outputs": [
    {
     "data": {
      "text/plain": [
       "4115"
      ]
     },
     "execution_count": 51,
     "metadata": {},
     "output_type": "execute_result"
    }
   ],
   "source": [
    "# Removing stop words\n",
    "stopwords = set(nltk.corpus.stopwords.words('english'))\n",
    " \n",
    "include_stopwords = {'dear', 'regards', 'must', 'would', 'also'}\n",
    "exclude_stopwords = {'against'}\n",
    " \n",
    "stopwords |= include_stopwords\n",
    "stopwords -= exclude_stopwords\n",
    " \n",
    "def remove_stop(tokens):\n",
    "    return [t for t in tokens if t.lower() not in stopwords]\n",
    "\n",
    "my_tokens_exc_stop = remove_stop(my_tokens)\n",
    "len(my_tokens_exc_stop)"
   ]
  },
  {
   "cell_type": "code",
   "execution_count": 52,
   "id": "8ce6bbef",
   "metadata": {},
   "outputs": [
    {
     "name": "stdout",
     "output_type": "stream",
     "text": [
      "\n",
      "Total words: 4115\n",
      "First 5 words:\n",
      "['Dookie' 'third' 'studio' 'album' 'American']\n"
     ]
    }
   ],
   "source": [
    "# After removing special characters and stop words\n",
    "np.array(my_tokens_exc_stop)\n",
    "print('\\nTotal words:', len(my_tokens_exc_stop))\n",
    "print('First 5 words:')\n",
    "print(np.array(my_tokens_exc_stop[0:5]))"
   ]
  },
  {
   "cell_type": "code",
   "execution_count": 56,
   "id": "4c6d69d4",
   "metadata": {},
   "outputs": [
    {
     "data": {
      "text/plain": [
       "[(',', 354),\n",
       " ('.', 208),\n",
       " ('``', 112),\n",
       " (\"''\", 110),\n",
       " (\"'s\", 98),\n",
       " ('album', 63),\n",
       " ('band', 62),\n",
       " ('Armstrong', 43),\n",
       " ('Dookie', 37),\n",
       " ('==', 28)]"
      ]
     },
     "execution_count": 56,
     "metadata": {},
     "output_type": "execute_result"
    }
   ],
   "source": [
    "import re, collections\n",
    "\n",
    "WORD_COUNTS = collections.Counter(my_tokens_exc_stop)\n",
    "\n",
    "# top 10 words in corpus\n",
    "WORD_COUNTS.most_common(10)"
   ]
  },
  {
   "cell_type": "code",
   "execution_count": 33,
   "id": "c7326bf0",
   "metadata": {},
   "outputs": [
    {
     "ename": "NameError",
     "evalue": "name 'df' is not defined",
     "output_type": "error",
     "traceback": [
      "\u001b[1;31m---------------------------------------------------------------------------\u001b[0m",
      "\u001b[1;31mNameError\u001b[0m                                 Traceback (most recent call last)",
      "Cell \u001b[1;32mIn[33], line 3\u001b[0m\n\u001b[0;32m      1\u001b[0m \u001b[38;5;28;01mimport\u001b[39;00m \u001b[38;5;21;01mpandas\u001b[39;00m \u001b[38;5;28;01mas\u001b[39;00m \u001b[38;5;21;01mpd\u001b[39;00m\n\u001b[0;32m      2\u001b[0m \u001b[38;5;28;01mimport\u001b[39;00m \u001b[38;5;21;01mre\u001b[39;00m\u001b[38;5;241m,\u001b[39m \u001b[38;5;21;01mcollections\u001b[39;00m\n\u001b[1;32m----> 3\u001b[0m counter \u001b[38;5;241m=\u001b[39m collections\u001b[38;5;241m.\u001b[39mCounter(\u001b[43mdf\u001b[49m[\u001b[38;5;124m'\u001b[39m\u001b[38;5;124mtokens\u001b[39m\u001b[38;5;124m'\u001b[39m])\n\u001b[0;32m      4\u001b[0m df_freq \u001b[38;5;241m=\u001b[39m pd\u001b[38;5;241m.\u001b[39mDataFrame\u001b[38;5;241m.\u001b[39mfrom_dict(counter, orient\u001b[38;5;241m=\u001b[39m\u001b[38;5;124m'\u001b[39m\u001b[38;5;124mindex\u001b[39m\u001b[38;5;124m'\u001b[39m, columns\u001b[38;5;241m=\u001b[39m[\u001b[38;5;124m'\u001b[39m\u001b[38;5;124mCount\u001b[39m\u001b[38;5;124m'\u001b[39m])\n\u001b[0;32m      5\u001b[0m df_freq \u001b[38;5;241m=\u001b[39m df_freq\u001b[38;5;241m.\u001b[39msort_values(\u001b[38;5;124m'\u001b[39m\u001b[38;5;124mCount\u001b[39m\u001b[38;5;124m'\u001b[39m, ascending \u001b[38;5;241m=\u001b[39m \u001b[38;5;28;01mFalse\u001b[39;00m)\n",
      "\u001b[1;31mNameError\u001b[0m: name 'df' is not defined"
     ]
    }
   ],
   "source": [
    "import pandas as pd\n",
    "\n",
    "counter = collections.Counter(df['tokens'])\n",
    "df_freq = pd.DataFrame.from_dict(counter, orient='index', columns=['Count'])\n",
    "df_freq = df_freq.sort_values('Count', ascending = False)\n",
    "df_freq.head(15)\n",
    "\n",
    "#pd.Series(Counter(tokens_exc_stop)).sort_values(ascending=False)"
   ]
  },
  {
   "cell_type": "code",
   "execution_count": 34,
   "id": "cba613f1",
   "metadata": {},
   "outputs": [
    {
     "ename": "NameError",
     "evalue": "name 'Counter' is not defined",
     "output_type": "error",
     "traceback": [
      "\u001b[1;31m---------------------------------------------------------------------------\u001b[0m",
      "\u001b[1;31mNameError\u001b[0m                                 Traceback (most recent call last)",
      "Cell \u001b[1;32mIn[34], line 1\u001b[0m\n\u001b[1;32m----> 1\u001b[0m pd\u001b[38;5;241m.\u001b[39mSeries(\u001b[43mCounter\u001b[49m(tokens_exc_stop))\u001b[38;5;241m.\u001b[39msort_values(ascending\u001b[38;5;241m=\u001b[39m\u001b[38;5;28;01mFalse\u001b[39;00m)\n",
      "\u001b[1;31mNameError\u001b[0m: name 'Counter' is not defined"
     ]
    }
   ],
   "source": [
    "pd.Series(Counter(tokens_exc_stop)).sort_values(ascending=False)"
   ]
  },
  {
   "cell_type": "code",
   "execution_count": null,
   "id": "41e219a5",
   "metadata": {},
   "outputs": [],
   "source": [
    "import re, collections\n",
    "\n",
    "def tokens(text): \n",
    "    \"\"\"\n",
    "    Get all words from the corpus\n",
    "    \"\"\"\n",
    "    return re.findall('[a-z]+', text.lower()) \n",
    "\n",
    "WORDS = tokens(open('big.txt').read())\n",
    "WORD_COUNTS = collections.Counter(WORDS)\n",
    "# top 10 words in corpus\n",
    "WORD_COUNTS.most_common(10)"
   ]
  },
  {
   "cell_type": "code",
   "execution_count": null,
   "id": "fd79c8a3",
   "metadata": {},
   "outputs": [],
   "source": [
    "counter = Counter(df['tokens'])\n",
    "df_freq = pd.DataFrame.from_dict(counter, orient='index', columns=['Count'])\n",
    "df_freq = df_freq.sort_values('Count', ascending = False)\n",
    "df_freq.head(15)"
   ]
  },
  {
   "cell_type": "code",
   "execution_count": null,
   "id": "935bca29",
   "metadata": {},
   "outputs": [],
   "source": []
  },
  {
   "cell_type": "markdown",
   "id": "bc1c19c5",
   "metadata": {},
   "source": [
    "Part 2:\n",
    "1. Put the extracted information in a dataframe.\n",
    "2. Could you get any insight or correlation among the words? Show the highest n-grams.\n",
    "3. Could you produce weight for all of the workds using TF-IDF.\n",
    "4. What are the frequent words and TF-IDF values for them in each document."
   ]
  },
  {
   "cell_type": "markdown",
   "id": "0e7b270a",
   "metadata": {},
   "source": [
    "\n",
    "def ngrams(tokens, n=2, sep=' ', stopwords=set()):\n",
    "\n",
    "    return [sep.join(ngram) for ngram in zip(*[tokens[i:] for i in range(n)])\n",
    "\n",
    "            if len([t for t in ngram if t in stopwords])==0]\n",
    " \n",
    "pd.Series(Counter(ngrams(tokens_exc_stop))).sort_values(ascending=False)"
   ]
  },
  {
   "cell_type": "code",
   "execution_count": null,
   "id": "f08d9df0",
   "metadata": {},
   "outputs": [],
   "source": []
  },
  {
   "cell_type": "markdown",
   "id": "bc849b76",
   "metadata": {},
   "source": [
    "# Second assignment:\n",
    "Get any text data and implement the following:\n",
    "<br>\n",
    "1. Clean the data extracted which is preferred to be a social media data.\n",
    "2. Do the cleaning steps such as steming, lemmentisation, accent remover, error correction, and expand contractions.\n",
    "3. It is required to put a title for the text extracted and implement the title process."
   ]
  },
  {
   "cell_type": "code",
   "execution_count": null,
   "id": "2e27eef3",
   "metadata": {},
   "outputs": [],
   "source": []
  },
  {
   "cell_type": "code",
   "execution_count": null,
   "id": "a04e5a7c",
   "metadata": {},
   "outputs": [],
   "source": []
  }
 ],
 "metadata": {
  "kernelspec": {
   "display_name": "Python 3 (ipykernel)",
   "language": "python",
   "name": "python3"
  },
  "language_info": {
   "codemirror_mode": {
    "name": "ipython",
    "version": 3
   },
   "file_extension": ".py",
   "mimetype": "text/x-python",
   "name": "python",
   "nbconvert_exporter": "python",
   "pygments_lexer": "ipython3",
   "version": "3.8.18"
  }
 },
 "nbformat": 4,
 "nbformat_minor": 5
}
